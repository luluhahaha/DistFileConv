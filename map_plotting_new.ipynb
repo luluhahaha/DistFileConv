{
 "cells": [
  {
   "cell_type": "code",
   "execution_count": 202,
   "metadata": {},
   "outputs": [],
   "source": [
    "\n",
    "# foldername = \"Data/BGE/selected_10_feeders/Feeder_7130/\"\n",
    "# feedername = \"7130\"\n",
    "\n",
    "# foldername = \"Data/BGE/selected_10_feeders/Feeder_7361/\"\n",
    "# feedername = \"7361\"\n",
    "\n",
    "# foldername = \"Data/BGE/selected_10_feeders/Feeder_7366/\"\n",
    "# feedername = \"7366\"\n",
    "\n",
    "# foldername = \"Data/BGE/selected_10_feeders/Feeder_7425/\"\n",
    "# feedername = \"7425\"\n",
    "\n",
    "# foldername = \"Data/BGE/selected_10_feeders/Feeder_7616/\"\n",
    "# feedername = \"7616\"\n",
    "\n",
    "# foldername = \"Data/BGE/selected_10_feeders/Feeder_7651/\"\n",
    "# feedername = \"7651\"\n",
    "\n",
    "# foldername = \"Data/BGE/selected_10_feeders/Feeder_7731/\"\n",
    "# feedername = \"7731\"\n",
    "\n",
    "# foldername = \"Data/BGE/selected_10_feeders/Feeder_7779/\"\n",
    "# feedername = \"7779\"\n",
    "\n",
    "# foldername = \"Data/BGE/selected_10_feeders/Feeder_7873/\"\n",
    "# feedername = \"7873\"\n",
    "\n",
    "\n",
    "foldername = \"Data/PHI_0217/Feeder_00496-twining_city/\"\n",
    "feedername = \"Feeder_00496-twining_city\"\n",
    "\n",
    "# foldername = \"Data/PHI_0217/Feeder_14187-livingston/\"\n",
    "# feedername = \"Feeder_14187-livingston\"\n",
    "\n",
    "# foldername = \"Data/PHI_0217/Feeder_14711-14711/\"\n",
    "# feedername = \"Feeder_14711-14711\"\n",
    "\n",
    "# foldername = \"Data/PHI_0217/Feeder_14748-sligo/\"\n",
    "# feedername = \"Feeder_14748-sligo\"\n",
    "\n",
    "# foldername = \"Data/PHI_0217/Feeder_14859-rockville/\"\n",
    "# feedername = \"Feeder_14859-rockville\"\n",
    "\n",
    "# foldername = \"Data/PHI_0217/Feeder_14884-middlebrook/\"\n",
    "# feedername = \"Feeder_14884-middlebrook\"\n",
    "\n",
    "# foldername = \"Data/PHI_0217/Feeder_14941-parklawn_drive/\"\n",
    "# feedername = \"Feeder_14941-parklawn_drive\"\n",
    "\n",
    "# foldername = \"Data/PHI_0217/Feeder_15144-bethesda/\"\n",
    "# feedername = \"Feeder_15144-bethesda\"\n",
    "\n",
    "# foldername = \"Data/PHI_0217/Feeder_15701-15701/\"\n",
    "# feedername = \"Feeder_15701-15701\"\n",
    "\n",
    "# foldername = \"Data/PHI_0217/Feeder_15708-15708/\"\n",
    "# feedername = \"Feeder_15708-15708\"\n",
    "\n",
    "# PHI CRS\n",
    "EPSG = '4438'\n",
    "\n",
    "# BGE CRS\n",
    "# EPSG = '2804'\n",
    "\n",
    "with open(foldername + 'Lines.dss') as f:\n",
    "    lines = f.readlines()\n",
    "\n",
    "with open(foldername + 'Loads.dss') as f:\n",
    "    loads = f.readlines()\n",
    "\n",
    "with open(foldername + 'Transformers.dss') as f:\n",
    "    trafo = f.readlines()\n",
    "\n",
    "\n",
    "with open(foldername+'Capacitors.dss') as f:\n",
    "    caps = f.readlines()\n",
    "\n",
    "with open(foldername + 'Buscoords.dss') as f:\n",
    "    buscoord = f.readlines()\n",
    "    \n",
    "\n",
    "# Line buses\n",
    "line_se = []\n",
    "line_re = []\n",
    "\n",
    "for i in range(0, len(lines), 2):\n",
    "    stri = lines[i]\n",
    "\n",
    "    if stri[4:8] == 'Line':\n",
    "        idx1 = stri.index('bus1')  # index of bus 1\n",
    "        idx2 = stri.index('bus2')  # index of bus 2\n",
    "        idx3 = stri.index('switch')  # index of switch\n",
    "        bus1_name = stri[idx1 + 5:idx2 - 1]\n",
    "        bus2_name = stri[idx2 + 5:idx3 - 1]\n",
    "        line_se.append(bus1_name)\n",
    "        line_re.append(bus2_name)\n",
    "        \n",
    "        \n",
    "        \n",
    "# Tranformer buses\n",
    "trafo_se = []\n",
    "trafo_re = []\n",
    "\n",
    "for i in range(0, len(trafo), 2):\n",
    "    if trafo[i][0:25] == 'New Transformer.trans_Reg': #Regulator branches\n",
    "        stri = trafo[i]\n",
    "        idx1 = stri.index('buses') #index of bus 1\n",
    "        idx2 = stri.index('(', idx1+1) #index of bus 2\n",
    "        idx3 = stri.index(',', idx2+1) #index of winding\n",
    "        idx4 = stri.index(')', idx3+1)  # index of winding\n",
    "        bus1_name = stri[idx2+1:idx3-2]\n",
    "        bus2_name = stri[idx3+1:idx4-2]\n",
    "        trafo_se.append(bus1_name)\n",
    "        trafo_se.append(bus2_name)\n",
    "        \n",
    "    else: \n",
    "        stri = trafo[i]\n",
    "        idx1 = stri.index('bus') #index of bus 1\n",
    "        idx2 = stri.index('bus', idx1+1) #index of bus 2\n",
    "        idx3 = stri.index('wdg=2') #index of winding\n",
    "        idx4 = stri.index('XHL')  # index of winding\n",
    "        bus1_name = stri[idx1+4:idx3-1]\n",
    "        bus2_name = stri[idx2+4:idx4-1]\n",
    "        trafo_se.append(bus1_name)\n",
    "        trafo_se.append(bus2_name)\n",
    "    \n",
    "    \n",
    "\n",
    "    # Load buses\n",
    "load_bus_list = []\n",
    "for i in range(0, len(loads), 2):\n",
    "    stri = loads[i]\n",
    "    idx1 = stri.index('bus1')  # index of bus 1\n",
    "    idx2 = stri.index(' ', idx1+1)\n",
    "    load_bus = stri[idx1 + 5:idx2 - 2]\n",
    "    load_bus_list.append(load_bus)\n",
    "    \n",
    "\n",
    "    # Cap buses\n",
    "cap_bus_list = []\n",
    "for i in range(0, len(caps), 2):\n",
    "    stri = caps[i]\n",
    "    idx1 = stri.index('Bus1')  # index of bus 1\n",
    "    idx2 = stri.index('phases')\n",
    "    cap_bus = stri[idx1 + 5:idx2 - 1]\n",
    "    cap_bus_list.append(cap_bus)\n",
    "    \n",
    "    \n",
    "\n",
    "bus_list = line_se + line_re + trafo_se + trafo_re + load_bus_list + cap_bus_list\n",
    "\n",
    "# Bus coordinates\n",
    "bus_coord_list = []\n",
    "for i in range(0, len(buscoord), 1):\n",
    "    stri = buscoord[i]\n",
    "    idx1 = stri.index(' ')  # index of bus 1\n",
    "    bus_coord = stri[0:idx1]\n",
    "    bus_coord_list.append(bus_coord)"
   ]
  },
  {
   "cell_type": "code",
   "execution_count": 203,
   "metadata": {},
   "outputs": [],
   "source": [
    "# Eliminating phasing (.1.2.3) from bus list to make it comparable to bus coordinates files\n",
    "new_bus_list = []\n",
    "\n",
    "for s in bus_list:\n",
    "    length = len(s)\n",
    "\n",
    "    if s[length - 12:] == '.1.2.3.1.2.3':\n",
    "        n = length - 1\n",
    "        replacement = ''\n",
    "        res_str = s[0:n - 11] + replacement\n",
    "        new_bus_list.append(res_str)\n",
    "\n",
    "    elif s[length - 12:] == '.1.2.3.3.1.2':\n",
    "        n = length - 1\n",
    "        replacement = ''\n",
    "        res_str = s[0:n - 11] + replacement\n",
    "        new_bus_list.append(res_str)\n",
    "\n",
    "    elif s[length - 12:] == '.1.2.3.2.1.3':\n",
    "        n = length - 1\n",
    "        replacement = ''\n",
    "        res_str = s[0:n - 11] + replacement\n",
    "        new_bus_list.append(res_str)\n",
    "\n",
    "    elif s[length - 12:] == '.3.1.2.1.2.3':\n",
    "        n = length - 1\n",
    "        replacement = ''\n",
    "        res_str = s[0:n - 11] + replacement\n",
    "        new_bus_list.append(res_str)\n",
    "\n",
    "    elif s[length - 12:] == '.2.1.3.1.2.3':\n",
    "        n = length - 1\n",
    "        replacement = ''\n",
    "        res_str = s[0:n - 11] + replacement\n",
    "        new_bus_list.append(res_str)\n",
    "\n",
    "    elif s[length - 6:] == '.1.2.3':\n",
    "        n = length - 1\n",
    "        replacement = ''\n",
    "        res_str = s[0:n - 5] + replacement\n",
    "        new_bus_list.append(res_str)\n",
    "\n",
    "    elif s[length - 6:] == '.1.3.2':\n",
    "        n = length - 1\n",
    "        replacement = ''\n",
    "        res_str = s[0:n - 5] + replacement\n",
    "        new_bus_list.append(res_str)\n",
    "\n",
    "    elif s[length - 6:] == '.3.2.1':\n",
    "        n = length - 1\n",
    "        replacement = ''\n",
    "        res_str = s[0:n - 5] + replacement\n",
    "        new_bus_list.append(res_str)\n",
    "\n",
    "    elif s[length - 6:] == '.3.1.2':\n",
    "        n = length - 1\n",
    "        replacement = ''\n",
    "        res_str = s[0:n - 5] + replacement\n",
    "        new_bus_list.append(res_str)\n",
    "\n",
    "\n",
    "    elif s[length - 6:] == '.2.3.1':\n",
    "        n = length - 1\n",
    "        replacement = ''\n",
    "        res_str = s[0:n - 5] + replacement\n",
    "        new_bus_list.append(res_str)\n",
    "\n",
    "    elif s[length - 6:] == '.2.1.3':\n",
    "        n = length - 1\n",
    "        replacement = ''\n",
    "        res_str = s[0:n - 5] + replacement\n",
    "        new_bus_list.append(res_str)\n",
    "\n",
    "    elif s[length - 4:] == '.1.1':\n",
    "        n = length - 1\n",
    "        replacement = ''\n",
    "        res_str = s[0:n - 3] + replacement\n",
    "        new_bus_list.append(res_str)\n",
    "\n",
    "    elif s[length - 4:] == '.1.3':\n",
    "        n = length - 1\n",
    "        replacement = ''\n",
    "        res_str = s[0:n - 3] + replacement\n",
    "        new_bus_list.append(res_str)\n",
    "\n",
    "    elif s[length - 4:] == '.1.2':\n",
    "        n = length - 1\n",
    "        replacement = ''\n",
    "        res_str = s[0:n - 3] + replacement\n",
    "        new_bus_list.append(res_str)\n",
    "\n",
    "    elif s[length - 4:] == '.2.1':\n",
    "        n = length - 1\n",
    "        replacement = ''\n",
    "        res_str = s[0:n - 3] + replacement\n",
    "        new_bus_list.append(res_str)\n",
    "\n",
    "    elif s[length - 4:] == '.2.2':\n",
    "        n = length - 1\n",
    "        replacement = ''\n",
    "        res_str = s[0:n - 3] + replacement\n",
    "        new_bus_list.append(res_str)\n",
    "\n",
    "    elif s[length - 4:] == '.2.3':\n",
    "        n = length - 1\n",
    "        replacement = ''\n",
    "        res_str = s[0:n - 3] + replacement\n",
    "        new_bus_list.append(res_str)\n",
    "\n",
    "    elif s[length - 4:] == '.3.1':\n",
    "        n = length - 1\n",
    "        replacement = ''\n",
    "        res_str = s[0:n - 3] + replacement\n",
    "        new_bus_list.append(res_str)\n",
    "\n",
    "    elif s[length - 4:] == '.3.2':\n",
    "        n = length - 1\n",
    "        replacement = ''\n",
    "        res_str = s[0:n - 3] + replacement\n",
    "        new_bus_list.append(res_str)\n",
    "\n",
    "    elif s[length - 4:] == '.3.3':\n",
    "        n = length - 1\n",
    "        replacement = ''\n",
    "        res_str = s[0:n - 3] + replacement\n",
    "        new_bus_list.append(res_str)\n",
    "\n",
    "    elif s[length - 2:] == '.1':\n",
    "        n = length - 1\n",
    "        replacement = ''\n",
    "        res_str = s[0:n - 1] + replacement\n",
    "        new_bus_list.append(res_str)\n",
    "\n",
    "    elif s[length - 2:] == '.2':\n",
    "        n = length - 1\n",
    "        replacement = ''\n",
    "        res_str = s[0:n - 1] + replacement\n",
    "        new_bus_list.append(res_str)\n",
    "\n",
    "    elif s[length - 2:] == '.3':\n",
    "        n = length - 1\n",
    "        replacement = ''\n",
    "        res_str = s[0:n - 1] + replacement\n",
    "        new_bus_list.append(res_str)\n",
    "\n",
    "    else:\n",
    "        new_bus_list.append(s)\n",
    "\n",
    "# # First convert buscoords list to uppercase\n",
    "upper_bus_coords = []\n",
    "for s in bus_coord_list:\n",
    "    caps = s.upper()\n",
    "    # print(f'upper case is written as {caps}')\n",
    "    upper_bus_coords.append(caps)\n",
    "\n",
    "# convert bus list to uppercase\n",
    "upper_bus_list = []\n",
    "for s in new_bus_list:\n",
    "    caps = s.upper()\n",
    "    # print(f'upper case is written as {caps}')\n",
    "    upper_bus_list.append(caps)\n",
    "\n",
    "real_bus_set = set(upper_bus_list)  # unique bus list in uppercase\n",
    "real_bus_list = list(real_bus_set)\n",
    "\n",
    "\n",
    "# Checking which buses do not have coordinates\n",
    "res = [x for x in real_bus_list + upper_bus_coords if x not in upper_bus_coords]\n",
    "\n",
    "# Checking redundant buses which have buscoords\n",
    "redundant = [x for x in real_bus_list + upper_bus_coords if x not in real_bus_list]\n"
   ]
  },
  {
   "cell_type": "code",
   "execution_count": 204,
   "metadata": {},
   "outputs": [],
   "source": [
    "import pyproj\n",
    "\n",
    "real_bus_coords = []\n",
    "for r in range(0, len(real_bus_list)):\n",
    "    if real_bus_list[r] in upper_bus_coords:\n",
    "        temp = upper_bus_coords.index(real_bus_list[r])\n",
    "        real_bus_coords.append(buscoord[temp])\n",
    "        \n",
    "        \n",
    "        \n",
    "bus_list = []\n",
    "x_list = []\n",
    "y_list = []\n",
    "lat_list = []\n",
    "lon_list = []\n",
    "buscoord_lon_lat = []\n",
    "for i in range(0, len(real_bus_coords), 1):\n",
    "    stri = real_bus_coords[i]\n",
    "    idx1 = stri.index(' ')\n",
    "    idx2 = stri.index(' ', idx1 + 1)\n",
    "    x_temp = float(stri[idx1+1:idx2])\n",
    "    y_temp = float(stri[idx2 + 1:len(stri)-1])\n",
    "    x_list.append(x_temp)\n",
    "    y_list.append(y_temp)\n",
    "    # BGE Maryland\n",
    "    #transformer = pyproj.Transformer.from_crs(\"epsg:2804\", \"epsg:4326\", always_xy=True)\n",
    "    # PHI Maryland\n",
    "    #transformer = pyproj.Transformer.from_crs(\"epsg:3748\", \"epsg:4326\", always_xy=True)\n",
    "    transformer = pyproj.Transformer.from_crs(\"epsg:\"+EPSG, \"epsg:4326\", always_xy=True)\n",
    "\n",
    "\n",
    "    # https://www.spatialreference.org/ref/?search=2804&srtext=Search\n",
    "    # I used this to look up the projection with reference to Maryland coordinate system\n",
    "    x2, y2 = transformer.transform(x_temp, y_temp)\n",
    "    bus_list.append(stri[0:idx1])\n",
    "    lon_list.append(x2)\n",
    "    lat_list.append(y2)\n",
    "    buscoord_lon_lat.append([stri[0:idx1], x2, y2]) \n",
    "    \n",
    "    \n",
    "## Writing to an CSV file using Python\n",
    "import csv\n",
    "\n",
    "with open(foldername +'Bus_coordinates.csv', mode='w', newline= '') as file:\n",
    "    writer = csv.writer(file)\n",
    "    writer.writerow(['Bus_ID', 'Longitude', 'Latitude'])\n",
    "    for i in range(0, len(bus_list)):\n",
    "        writer.writerow([bus_list[i], lon_list[i], lat_list[i]])"
   ]
  },
  {
   "cell_type": "code",
   "execution_count": 205,
   "metadata": {},
   "outputs": [],
   "source": [
    "# This constructs a graph to show the connection of the feeder\n",
    "# The main files used are the series elements consisting of the lines and transformers\n",
    "\n",
    "\n",
    "with open(foldername +'Lines.dss') as f:\n",
    "    lines = f.readlines()\n",
    "\n",
    "with open(foldername +'Transformers.dss') as f:\n",
    "    trafo = f.readlines()\n",
    "    \n",
    "se = []\n",
    "re = []\n",
    "\n",
    "for i in range(0, len(lines), 2):\n",
    "    stri = lines[i]\n",
    "\n",
    "    if stri[4:8] == 'Line':\n",
    "        idx0 = stri.index('enabled=')\n",
    "        if stri[idx0:idx0+9] == 'enabled=y':\n",
    "            idx1 = stri.index('bus1') #index of bus 1\n",
    "            idx2 = stri.index('bus2') #index of bus 2\n",
    "            idx3 = stri.index('switch') #index of switch\n",
    "            bus1_name = stri[idx1+5:idx2-1]\n",
    "            bus2_name = stri[idx2+5:idx3-1]\n",
    "            se.append(bus1_name)\n",
    "            re.append(bus2_name)    \n",
    "            \n",
    "            \n",
    "# Extracting the transformers' primary and secondary buses\n",
    "for i in range(0, len(trafo), 2):\n",
    "    if trafo[i][0:25] == 'New Transformer.trans_Reg': #Regulator branches\n",
    "        stri = trafo[i]\n",
    "        idx1 = stri.index('buses') #index of bus 1\n",
    "        idx2 = stri.index('(', idx1+1) #index of bus 2\n",
    "        idx3 = stri.index(',', idx2+1) #index of winding\n",
    "        idx4 = stri.index(')', idx3+1)  # index of winding\n",
    "        bus1_name = stri[idx2+1:idx3-2]\n",
    "        bus2_name = stri[idx3+1:idx4-2]\n",
    "        se.append(bus1_name)\n",
    "        re.append(bus2_name)\n",
    "        \n",
    "    else: \n",
    "        stri = trafo[i]\n",
    "        idx1 = stri.index('bus') #index of bus 1\n",
    "        idx2 = stri.index('bus', idx1+1) #index of bus 2\n",
    "        idx3 = stri.index('wdg=2') #index of winding\n",
    "        idx4 = stri.index('XHL')  # index of winding\n",
    "        bus1_name = stri[idx1+4:idx3-1]\n",
    "        bus2_name = stri[idx2+4:idx4-1]\n",
    "        se.append(bus1_name)\n",
    "        re.append(bus2_name)"
   ]
  },
  {
   "cell_type": "code",
   "execution_count": 206,
   "metadata": {},
   "outputs": [
    {
     "name": "stdout",
     "output_type": "stream",
     "text": [
      "1076255_193_14121648_039.3 1076256_495_14121705_136.3\n",
      "1076646_85_14121935_35.1.2.3 1076647_543_14122015_626.1.2.3\n",
      "1076245_529_14121185_587.3 1076246_87_14121298_504.3\n",
      "1076336_554_14120988_925.1.2.3 1076237_672_14120988_795.1.2.3\n",
      "1076618_532_14121077_106.1.2.3 1076433_169_14120988_231.1.2.3\n",
      "1075469_504_14121112_472.1.2.3 804377-240160-163153.1.2.3\n",
      "1075419_55_14121146_514.1.2.3 1075469_504_14121112_472.1.2.3\n",
      "1077107_769_14121192_744.1.2.3 1077048_353_14121194_37.1.2.3\n",
      "1075414_746_14120775_579.1.2.3 1075409_404_14120685_756.1.2.3\n",
      "1076241_728_14121080_683.3 1076245_529_14121185_587.3\n",
      "1075208_905_14120779_557.1.2.3 1074988_853_14120784_716.1.2.3\n",
      "1075677_625_14120995_999.1.2.3 1075508_408_14120999_327.1.2.3\n",
      "1075419_55_14121146_514.1.2.3 1075415_061_14121155_45.1.2.3\n",
      "1076619_774_14121203_126.1.2.3 1076620_068_14121213_122.1.2.3\n",
      "1075423_501_14120999_002.1.2.3 1075419_55_14121146_514.1.2.3\n",
      "1076641_657_14121567_268.1.2.3 1076640_589_14121643_75.1.2.3\n",
      "1075423_501_14120999_002.1.2.3 1075413_529_14120999_748.1.2.3\n",
      "804377-240160-163153.1.2.3 1075746_069_14121106_57.1.2.3\n",
      "1076633_106_14121688_751.1.2.3 1076633_149_14121797_491.1.2.3\n",
      "1076623_107_14121688_91.1.2.3 1076439_15_14121692_446.1.2.3\n",
      "1076518_288_14122395_642.1.2.3 1076479_03_14122454_065.1.2.3\n",
      "1076439_15_14121692_446.1.2.3 1076392_046_14121693_564.1.2.3\n",
      "1075896_563_14120990_849.1.2.3 1075677_625_14120995_999.1.2.3\n",
      "1075512_225_14120773_132.3 1075633_205_14120770_87.3\n",
      "1076249_337_14122324_968.1.2.3 804378-951371-159459.1.2.3\n",
      "1075415_061_14121155_45.1.2.3 1075314_481_14121172_304.1.2.3\n",
      "1076609_775_14121202_982.3 1076433_272_14121201_755.3\n",
      "1075413_529_14120999_748.1.2.3 1075143_475_14121007_618.1.2.3\n",
      "1075424_743_14120775_331.3 1075512_225_14120773_132.3\n",
      "805377-740130-59692.1.2.3 1077107_075_14121110_893.1.2.3\n",
      "1076898_327_14121197_69.1.2.3 1076841_462_14121197_289.1.2.3\n",
      "1076392_046_14121693_564.1.2.3 1076383_973_14121434_262.1.2.3\n",
      "1076757_774_14121201_007.1.2.3 1076708_286_14121202_129.1.2.3\n",
      "1076231_422_14120972_259.2 1076230_416_14120902_05.2\n",
      "1075876_091_14121102_952.1.2.3 1076116_096_14121097_89.1.2.3\n",
      "1076640_695_14121455_758.1.2.3 1076641_657_14121567_268.1.2.3\n",
      "1076249_311_14121345_585.3 1076255_193_14121648_039.3\n",
      "1076518_288_14122395_642.1.2.3 805378-240460-164130.1.2.3\n",
      "1075633_205_14120770_87.3 1075962_32_14120763_651.3\n",
      "1075508_408_14120999_327.1.2.3 1075423_501_14120999_002.1.2.3\n",
      "1075143_475_14121007_618.1.2.3 1075043_483_14121009_558.1.2.3\n",
      "1076256_495_14121705_136.3 1076256_197_14121780_85.3\n",
      "1076518_288_14122395_642.1.2.3 805378-240460-269585.1.2.3\n",
      "1076006_02_14120988_474.1.2.3 1075896_563_14120990_849.1.2.3\n",
      "1076237_672_14120988_795.2 1076231_422_14120972_259.2\n",
      "1076237_672_14120988_795.1.2.3 1076006_02_14120988_474.1.2.3\n",
      "1076239_755_14120992_441.3 1076241_728_14121080_683.3\n",
      "1076237_672_14120988_795.3 1076239_755_14120992_441.3\n",
      "1074988_853_14120784_716.1.2.3 1074869_88_14120785_028.1.2.3\n",
      "1076246_87_14121298_504.3 1076249_311_14121345_585.3\n",
      "1076640_589_14121643_75.1.2.3 1076633_106_14121688_751.1.2.3\n",
      "1076619_774_14121203_126.3 1076609_775_14121202_982.3\n",
      "1076647_543_14122015_626.1.2.3 805378-320950-1548898.1.2.3\n",
      "1076619_774_14121203_126.1.2.3 1076618_532_14121077_106.1.2.3\n",
      "805378-320950-1548898.1.2.3 1076661_833_14122182_046.1.2.3\n",
      "1077107_769_14121192_744.1.2.3 1077225_504_14121181_691.1.2.3\n",
      "1075414_746_14120775_579.3 1075424_743_14120775_331.3\n",
      "1076479_03_14122454_065.1.2.3 1076249_337_14122324_968.1.2.3\n",
      "1076256_197_14121780_85.3 1076265_863_14121868_745.3\n",
      "1076978_363_14121195_909.1.2.3 1076898_327_14121197_69.1.2.3\n",
      "1076633_149_14121797_491.1.2.3 1076648_175_14121859_624.1.2.3\n",
      "1075423_501_14120999_002.1.2.3 1075414_746_14120775_579.1.2.3\n",
      "1077107_075_14121110_893.1.2.3 1077107_769_14121192_744.1.2.3\n",
      "1076633_106_14121688_751.1.2.3 1076623_107_14121688_91.1.2.3\n",
      "1076661_833_14122182_046.1.2.3 1076518_288_14122395_642.1.2.3\n",
      "1076841_462_14121197_289.1.2.3 1076757_774_14121201_007.1.2.3\n",
      "1075414_746_14120775_579.1.2.3 1075404_748_14120775_762.1.2.3\n",
      "1075409_404_14120685_756.1.2.3 1075408_964_14120678_355.1.2.3\n",
      "1074869_88_14120785_028.1.2.3 1074669_239_14120791_918.1.2.3\n",
      "1076708_286_14121202_129.1.2.3 1076619_774_14121203_126.1.2.3\n",
      "1076383_973_14121434_262.1.2.3 1076381_969_14121344_62.1.2.3\n",
      "1076265_863_14121868_745.3 1076405_183_14121968_851.3\n",
      "1076433_169_14120988_231.1.2.3 1076336_554_14120988_925.1.2.3\n",
      "1076620_068_14121213_122.1.2.3 1076640_695_14121455_758.1.2.3\n",
      "1077048_353_14121194_37.1.2.3 1076978_363_14121195_909.1.2.3\n",
      "1075314_481_14121172_304.1.2.3 1075268_585_14121236_806.1.2.3\n",
      "1075404_748_14120775_762.1.2.3 1075208_905_14120779_557.1.2.3\n",
      "1076648_175_14121859_624.1.2.3 1076646_85_14121935_35.1.2.3\n",
      "1075746_069_14121106_57.1.2.3 1075876_091_14121102_952.1.2.3\n",
      "804378-500220-3-476757.1.2.3 1075769_156_14122155_934.1.2.3\n",
      "805378-240460-269585.1.2.3 1076514_778_14122355_123.1.2.3\n",
      "806379-410300-3-477274.1.2.3 1077699_115_14123209_331.1.2.3\n",
      "805378-240460-164130.1.2.3 806379-410300-3-477274.1.2.3\n",
      "1076119_659_14122484_344.1.2.3 804378-770504-3-482614.1.2.3\n",
      "1076217_002_14122320_729.1.2.3 1076119_659_14122484_344.1.2.3\n",
      "804378-951371-159459.1.2.3 1076217_002_14122320_729.1.2.3\n",
      "804378-770504-3-482614.1.2.3 1076044_02_14122433_699.1.2.3\n",
      "1075769_156_14122155_934.1.2.3 1075767_957_14122158_457.1.2.3\n",
      "1076044_02_14122433_699.1.2.3 1076043_456_14122436_438.1.2.3\n",
      "1077699_115_14123209_331.1.2.3 1077700_556_14123211_727.1.2.3\n",
      "1076208_407_14122315_617.1.2.3 804378-500220-3-476757.1.2.3\n",
      "1076217_002_14122320_729.1.2.3 1076208_407_14122315_617.1.2.3\n",
      "SOURCE_00496_805377-810087-11 805377-740130-59692\n",
      "List of duplicates []\n",
      "Unique Item List [['1076255_193_14121648_039.3', '1076256_495_14121705_136.3'], ['1076646_85_14121935_35.1.2.3', '1076647_543_14122015_626.1.2.3'], ['1076245_529_14121185_587.3', '1076246_87_14121298_504.3'], ['1076336_554_14120988_925.1.2.3', '1076237_672_14120988_795.1.2.3'], ['1076618_532_14121077_106.1.2.3', '1076433_169_14120988_231.1.2.3'], ['1075469_504_14121112_472.1.2.3', '804377-240160-163153.1.2.3'], ['1075419_55_14121146_514.1.2.3', '1075469_504_14121112_472.1.2.3'], ['1077107_769_14121192_744.1.2.3', '1077048_353_14121194_37.1.2.3'], ['1075414_746_14120775_579.1.2.3', '1075409_404_14120685_756.1.2.3'], ['1076241_728_14121080_683.3', '1076245_529_14121185_587.3'], ['1075208_905_14120779_557.1.2.3', '1074988_853_14120784_716.1.2.3'], ['1075677_625_14120995_999.1.2.3', '1075508_408_14120999_327.1.2.3'], ['1075419_55_14121146_514.1.2.3', '1075415_061_14121155_45.1.2.3'], ['1076619_774_14121203_126.1.2.3', '1076620_068_14121213_122.1.2.3'], ['1075423_501_14120999_002.1.2.3', '1075419_55_14121146_514.1.2.3'], ['1076641_657_14121567_268.1.2.3', '1076640_589_14121643_75.1.2.3'], ['1075423_501_14120999_002.1.2.3', '1075413_529_14120999_748.1.2.3'], ['804377-240160-163153.1.2.3', '1075746_069_14121106_57.1.2.3'], ['1076633_106_14121688_751.1.2.3', '1076633_149_14121797_491.1.2.3'], ['1076623_107_14121688_91.1.2.3', '1076439_15_14121692_446.1.2.3'], ['1076518_288_14122395_642.1.2.3', '1076479_03_14122454_065.1.2.3'], ['1076439_15_14121692_446.1.2.3', '1076392_046_14121693_564.1.2.3'], ['1075896_563_14120990_849.1.2.3', '1075677_625_14120995_999.1.2.3'], ['1075512_225_14120773_132.3', '1075633_205_14120770_87.3'], ['1076249_337_14122324_968.1.2.3', '804378-951371-159459.1.2.3'], ['1075415_061_14121155_45.1.2.3', '1075314_481_14121172_304.1.2.3'], ['1076609_775_14121202_982.3', '1076433_272_14121201_755.3'], ['1075413_529_14120999_748.1.2.3', '1075143_475_14121007_618.1.2.3'], ['1075424_743_14120775_331.3', '1075512_225_14120773_132.3'], ['805377-740130-59692.1.2.3', '1077107_075_14121110_893.1.2.3'], ['1076898_327_14121197_69.1.2.3', '1076841_462_14121197_289.1.2.3'], ['1076392_046_14121693_564.1.2.3', '1076383_973_14121434_262.1.2.3'], ['1076757_774_14121201_007.1.2.3', '1076708_286_14121202_129.1.2.3'], ['1076231_422_14120972_259.2', '1076230_416_14120902_05.2'], ['1075876_091_14121102_952.1.2.3', '1076116_096_14121097_89.1.2.3'], ['1076640_695_14121455_758.1.2.3', '1076641_657_14121567_268.1.2.3'], ['1076249_311_14121345_585.3', '1076255_193_14121648_039.3'], ['1076518_288_14122395_642.1.2.3', '805378-240460-164130.1.2.3'], ['1075633_205_14120770_87.3', '1075962_32_14120763_651.3'], ['1075508_408_14120999_327.1.2.3', '1075423_501_14120999_002.1.2.3'], ['1075143_475_14121007_618.1.2.3', '1075043_483_14121009_558.1.2.3'], ['1076256_495_14121705_136.3', '1076256_197_14121780_85.3'], ['1076518_288_14122395_642.1.2.3', '805378-240460-269585.1.2.3'], ['1076006_02_14120988_474.1.2.3', '1075896_563_14120990_849.1.2.3'], ['1076237_672_14120988_795.2', '1076231_422_14120972_259.2'], ['1076237_672_14120988_795.1.2.3', '1076006_02_14120988_474.1.2.3'], ['1076239_755_14120992_441.3', '1076241_728_14121080_683.3'], ['1076237_672_14120988_795.3', '1076239_755_14120992_441.3'], ['1074988_853_14120784_716.1.2.3', '1074869_88_14120785_028.1.2.3'], ['1076246_87_14121298_504.3', '1076249_311_14121345_585.3'], ['1076640_589_14121643_75.1.2.3', '1076633_106_14121688_751.1.2.3'], ['1076619_774_14121203_126.3', '1076609_775_14121202_982.3'], ['1076647_543_14122015_626.1.2.3', '805378-320950-1548898.1.2.3'], ['1076619_774_14121203_126.1.2.3', '1076618_532_14121077_106.1.2.3'], ['805378-320950-1548898.1.2.3', '1076661_833_14122182_046.1.2.3'], ['1077107_769_14121192_744.1.2.3', '1077225_504_14121181_691.1.2.3'], ['1075414_746_14120775_579.3', '1075424_743_14120775_331.3'], ['1076479_03_14122454_065.1.2.3', '1076249_337_14122324_968.1.2.3'], ['1076256_197_14121780_85.3', '1076265_863_14121868_745.3'], ['1076978_363_14121195_909.1.2.3', '1076898_327_14121197_69.1.2.3'], ['1076633_149_14121797_491.1.2.3', '1076648_175_14121859_624.1.2.3'], ['1075423_501_14120999_002.1.2.3', '1075414_746_14120775_579.1.2.3'], ['1077107_075_14121110_893.1.2.3', '1077107_769_14121192_744.1.2.3'], ['1076633_106_14121688_751.1.2.3', '1076623_107_14121688_91.1.2.3'], ['1076661_833_14122182_046.1.2.3', '1076518_288_14122395_642.1.2.3'], ['1076841_462_14121197_289.1.2.3', '1076757_774_14121201_007.1.2.3'], ['1075414_746_14120775_579.1.2.3', '1075404_748_14120775_762.1.2.3'], ['1075409_404_14120685_756.1.2.3', '1075408_964_14120678_355.1.2.3'], ['1074869_88_14120785_028.1.2.3', '1074669_239_14120791_918.1.2.3'], ['1076708_286_14121202_129.1.2.3', '1076619_774_14121203_126.1.2.3'], ['1076383_973_14121434_262.1.2.3', '1076381_969_14121344_62.1.2.3'], ['1076265_863_14121868_745.3', '1076405_183_14121968_851.3'], ['1076433_169_14120988_231.1.2.3', '1076336_554_14120988_925.1.2.3'], ['1076620_068_14121213_122.1.2.3', '1076640_695_14121455_758.1.2.3'], ['1077048_353_14121194_37.1.2.3', '1076978_363_14121195_909.1.2.3'], ['1075314_481_14121172_304.1.2.3', '1075268_585_14121236_806.1.2.3'], ['1075404_748_14120775_762.1.2.3', '1075208_905_14120779_557.1.2.3'], ['1076648_175_14121859_624.1.2.3', '1076646_85_14121935_35.1.2.3'], ['1075746_069_14121106_57.1.2.3', '1075876_091_14121102_952.1.2.3'], ['804378-500220-3-476757.1.2.3', '1075769_156_14122155_934.1.2.3'], ['805378-240460-269585.1.2.3', '1076514_778_14122355_123.1.2.3'], ['806379-410300-3-477274.1.2.3', '1077699_115_14123209_331.1.2.3'], ['805378-240460-164130.1.2.3', '806379-410300-3-477274.1.2.3'], ['1076119_659_14122484_344.1.2.3', '804378-770504-3-482614.1.2.3'], ['1076217_002_14122320_729.1.2.3', '1076119_659_14122484_344.1.2.3'], ['804378-951371-159459.1.2.3', '1076217_002_14122320_729.1.2.3'], ['804378-770504-3-482614.1.2.3', '1076044_02_14122433_699.1.2.3'], ['1075769_156_14122155_934.1.2.3', '1075767_957_14122158_457.1.2.3'], ['1076044_02_14122433_699.1.2.3', '1076043_456_14122436_438.1.2.3'], ['1077699_115_14123209_331.1.2.3', '1077700_556_14123211_727.1.2.3'], ['1076208_407_14122315_617.1.2.3', '804378-500220-3-476757.1.2.3'], ['1076217_002_14122320_729.1.2.3', '1076208_407_14122315_617.1.2.3'], ['SOURCE_00496_805377-810087-11', '805377-740130-59692']]\n"
     ]
    }
   ],
   "source": [
    "# Checking for duplicate series elements (in lines and trafo)\n",
    "news = []\n",
    "for i in range(len(se)):\n",
    "    print(se[i], re[i])\n",
    "    temp = [se[i], re[i]]\n",
    "    news.append(temp)\n",
    "\n",
    "unique_elements = [] # empty list to hold unique elements from the list\n",
    "dup_elements = [] # empty list to hold the duplicate elements from the list\n",
    "for i in news:\n",
    "    if i not in unique_elements:\n",
    "        unique_elements.append(i)\n",
    "    else:\n",
    "        dup_elements.append(i) # this method catches the first duplicate entries, and appends them to the list\n",
    "# The next step is to print the duplicate entries, and the unique entries\n",
    "print(\"List of duplicates\", dup_elements)\n",
    "print(\"Unique Item List\", unique_elements) # prints the final list of unique items\n"
   ]
  },
  {
   "cell_type": "code",
   "execution_count": 207,
   "metadata": {},
   "outputs": [],
   "source": [
    "\n",
    "# The goal is to plot the graph of all the buses\n",
    "# Hence it is necessary to remove the phasing information i.e. '.1.2.3'\n",
    "se_wo_phs = []\n",
    "for s in se:\n",
    "    length = len(s)\n",
    "\n",
    "    if s[length - 12:] == '.1.2.3.1.2.3':\n",
    "        n = length - 1\n",
    "        replacement = ''\n",
    "        res_str = s[0:n - 11] + replacement\n",
    "        se_wo_phs.append(res_str)\n",
    "\n",
    "    elif s[length - 12:] == '.1.2.3.3.1.2':\n",
    "        n = length - 1\n",
    "        replacement = ''\n",
    "        res_str = s[0:n - 11] + replacement\n",
    "        se_wo_phs.append(res_str)\n",
    "\n",
    "    elif s[length - 12:] == '.1.2.3.2.1.3':\n",
    "        n = length - 1\n",
    "        replacement = ''\n",
    "        res_str = s[0:n - 11] + replacement\n",
    "        se_wo_phs.append(res_str)\n",
    "\n",
    "    elif s[length - 12:] == '.3.1.2.1.2.3':\n",
    "        n = length - 1\n",
    "        replacement = ''\n",
    "        res_str = s[0:n - 11] + replacement\n",
    "        se_wo_phs.append(res_str)\n",
    "\n",
    "    elif s[length - 12:] == '.2.1.3.1.2.3':\n",
    "        n = length - 1\n",
    "        replacement = ''\n",
    "        res_str = s[0:n - 11] + replacement\n",
    "        se_wo_phs.append(res_str)\n",
    "\n",
    "    elif s[length - 6:] == '.1.2.3':\n",
    "        n = length - 1\n",
    "        replacement = ''\n",
    "        res_str = s[0:n - 5] + replacement\n",
    "        se_wo_phs.append(res_str)\n",
    "\n",
    "    elif s[length - 6:] == '.1.3.2':\n",
    "        n = length - 1\n",
    "        replacement = ''\n",
    "        res_str = s[0:n - 5] + replacement\n",
    "        se_wo_phs.append(res_str)\n",
    "\n",
    "    elif s[length - 6:] == '.3.2.1':\n",
    "        n = length - 1\n",
    "        replacement = ''\n",
    "        res_str = s[0:n - 5] + replacement\n",
    "        se_wo_phs.append(res_str)\n",
    "\n",
    "    elif s[length - 6:] == '.3.1.2':\n",
    "        n = length - 1\n",
    "        replacement = ''\n",
    "        res_str = s[0:n - 5] + replacement\n",
    "        se_wo_phs.append(res_str)\n",
    "\n",
    "    elif s[length - 6:] == '.2.3.1':\n",
    "        n = length - 1\n",
    "        replacement = ''\n",
    "        res_str = s[0:n - 5] + replacement\n",
    "        se_wo_phs.append(res_str)\n",
    "\n",
    "    elif s[length - 6:] == '.2.1.3':\n",
    "        n = length - 1\n",
    "        replacement = ''\n",
    "        res_str = s[0:n - 5] + replacement\n",
    "        se_wo_phs.append(res_str)\n",
    "\n",
    "    elif s[length - 4:] == '.1.1':\n",
    "        n = length - 1\n",
    "        replacement = ''\n",
    "        res_str = s[0:n - 3] + replacement\n",
    "        se_wo_phs.append(res_str)\n",
    "\n",
    "    elif s[length - 4:] == '.1.3':\n",
    "        n = length - 1\n",
    "        replacement = ''\n",
    "        res_str = s[0:n - 3] + replacement\n",
    "        se_wo_phs.append(res_str)\n",
    "\n",
    "    elif s[length - 4:] == '.1.2':\n",
    "        n = length - 1\n",
    "        replacement = ''\n",
    "        res_str = s[0:n - 3] + replacement\n",
    "        se_wo_phs.append(res_str)\n",
    "\n",
    "    elif s[length - 4:] == '.2.1':\n",
    "        n = length - 1\n",
    "        replacement = ''\n",
    "        res_str = s[0:n - 3] + replacement\n",
    "        se_wo_phs.append(res_str)\n",
    "\n",
    "    elif s[length - 4:] == '.2.2':\n",
    "        n = length - 1\n",
    "        replacement = ''\n",
    "        res_str = s[0:n - 3] + replacement\n",
    "        se_wo_phs.append(res_str)\n",
    "\n",
    "    elif s[length - 4:] == '.2.3':\n",
    "        n = length - 1\n",
    "        replacement = ''\n",
    "        res_str = s[0:n - 3] + replacement\n",
    "        se_wo_phs.append(res_str)\n",
    "\n",
    "    elif s[length - 4:] == '.3.1':\n",
    "        n = length - 1\n",
    "        replacement = ''\n",
    "        res_str = s[0:n - 3] + replacement\n",
    "        se_wo_phs.append(res_str)\n",
    "\n",
    "    elif s[length - 4:] == '.3.2':\n",
    "        n = length - 1\n",
    "        replacement = ''\n",
    "        res_str = s[0:n - 3] + replacement\n",
    "        se_wo_phs.append(res_str)\n",
    "\n",
    "    elif s[length - 4:] == '.3.3':\n",
    "        n = length - 1\n",
    "        replacement = ''\n",
    "        res_str = s[0:n - 3] + replacement\n",
    "        se_wo_phs.append(res_str)\n",
    "\n",
    "    elif s[length - 2:] == '.1':\n",
    "        n = length - 1\n",
    "        replacement = ''\n",
    "        res_str = s[0:n - 1] + replacement\n",
    "        se_wo_phs.append(res_str)\n",
    "\n",
    "    elif s[length - 2:] == '.2':\n",
    "        n = length - 1\n",
    "        replacement = ''\n",
    "        res_str = s[0:n - 1] + replacement\n",
    "        se_wo_phs.append(res_str)\n",
    "\n",
    "    elif s[length - 2:] == '.3':\n",
    "        n = length - 1\n",
    "        replacement = ''\n",
    "        res_str = s[0:n - 1] + replacement\n",
    "        se_wo_phs.append(res_str)\n",
    "\n",
    "    else:\n",
    "        se_wo_phs.append(s)\n",
    "\n",
    "\n",
    "\n",
    "re_wo_phs = []\n",
    "for r in re:\n",
    "    length = len(r)\n",
    "\n",
    "    if r[length - 12:] == '.1.2.3.1.2.3':\n",
    "        n = length - 1\n",
    "        replacement = ''\n",
    "        res_str = r[0:n - 11] + replacement\n",
    "        re_wo_phs.append(res_str)\n",
    "\n",
    "    elif r[length - 12:] == '.1.2.3.3.1.2':\n",
    "        n = length - 1\n",
    "        replacement = ''\n",
    "        res_str = r[0:n - 11] + replacement\n",
    "        re_wo_phs.append(res_str)\n",
    "\n",
    "    elif r[length - 12:] == '.1.2.3.2.1.3':\n",
    "        n = length - 1\n",
    "        replacement = ''\n",
    "        res_str = r[0:n - 11] + replacement\n",
    "        re_wo_phs.append(res_str)\n",
    "\n",
    "    elif r[length - 12:] == '.3.1.2.1.2.3':\n",
    "        n = length - 1\n",
    "        replacement = ''\n",
    "        res_str = r[0:n - 11] + replacement\n",
    "        re_wo_phs.append(res_str)\n",
    "\n",
    "    elif r[length - 12:] == '.2.1.3.1.2.3':\n",
    "        n = length - 1\n",
    "        replacement = ''\n",
    "        res_str = r[0:n - 11] + replacement\n",
    "        re_wo_phs.append(res_str)\n",
    "\n",
    "    elif r[length - 6:] == '.1.2.3':\n",
    "        n = length - 1\n",
    "        replacement = ''\n",
    "        res_str = r[0:n - 5] + replacement\n",
    "        re_wo_phs.append(res_str)\n",
    "\n",
    "    elif r[length - 6:] == '.1.3.2':\n",
    "        n = length - 1\n",
    "        replacement = ''\n",
    "        res_str = r[0:n - 5] + replacement\n",
    "        re_wo_phs.append(res_str)\n",
    "\n",
    "    elif r[length - 6:] == '.3.2.1':\n",
    "        n = length - 1\n",
    "        replacement = ''\n",
    "        res_str = r[0:n - 5] + replacement\n",
    "        re_wo_phs.append(res_str)\n",
    "\n",
    "    elif r[length - 6:] == '.3.1.2':\n",
    "        n = length - 1\n",
    "        replacement = ''\n",
    "        res_str = r[0:n - 5] + replacement\n",
    "        re_wo_phs.append(res_str)\n",
    "\n",
    "\n",
    "    elif r[length - 6:] == '.2.3.1':\n",
    "        n = length - 1\n",
    "        replacement = ''\n",
    "        res_str = r[0:n - 5] + replacement\n",
    "        re_wo_phs.append(res_str)\n",
    "\n",
    "    elif r[length - 6:] == '.2.1.3':\n",
    "        n = length - 1\n",
    "        replacement = ''\n",
    "        res_str = r[0:n - 5] + replacement\n",
    "        re_wo_phs.append(res_str)\n",
    "\n",
    "    elif r[length - 4:] == '.1.1':\n",
    "        n = length - 1\n",
    "        replacement = ''\n",
    "        res_str = r[0:n - 3] + replacement\n",
    "        re_wo_phs.append(res_str)\n",
    "\n",
    "    elif r[length - 4:] == '.1.3':\n",
    "        n = length - 1\n",
    "        replacement = ''\n",
    "        res_str = r[0:n - 3] + replacement\n",
    "        re_wo_phs.append(res_str)\n",
    "\n",
    "    elif r[length - 4:] == '.1.2':\n",
    "        n = length - 1\n",
    "        replacement = ''\n",
    "        res_str = r[0:n - 3] + replacement\n",
    "        re_wo_phs.append(res_str)\n",
    "\n",
    "    elif r[length - 4:] == '.2.1':\n",
    "        n = length - 1\n",
    "        replacement = ''\n",
    "        res_str = r[0:n - 3] + replacement\n",
    "        re_wo_phs.append(res_str)\n",
    "\n",
    "    elif r[length - 4:] == '.2.2':\n",
    "        n = length - 1\n",
    "        replacement = ''\n",
    "        res_str = r[0:n - 3] + replacement\n",
    "        re_wo_phs.append(res_str)\n",
    "\n",
    "    elif r[length - 4:] == '.2.3':\n",
    "        n = length - 1\n",
    "        replacement = ''\n",
    "        res_str = r[0:n - 3] + replacement\n",
    "        re_wo_phs.append(res_str)\n",
    "\n",
    "    elif r[length - 4:] == '.3.1':\n",
    "        n = length - 1\n",
    "        replacement = ''\n",
    "        res_str = r[0:n - 3] + replacement\n",
    "        re_wo_phs.append(res_str)\n",
    "\n",
    "    elif r[length - 4:] == '.3.2':\n",
    "        n = length - 1\n",
    "        replacement = ''\n",
    "        res_str = r[0:n - 3] + replacement\n",
    "        re_wo_phs.append(res_str)\n",
    "\n",
    "    elif r[length - 4:] == '.3.3':\n",
    "        n = length - 1\n",
    "        replacement = ''\n",
    "        res_str = r[0:n - 3] + replacement\n",
    "        re_wo_phs.append(res_str)\n",
    "\n",
    "    elif r[length - 2:] == '.1':\n",
    "        n = length - 1\n",
    "        replacement = ''\n",
    "        res_str = r[0:n - 1] + replacement\n",
    "        re_wo_phs.append(res_str)\n",
    "\n",
    "    elif r[length - 2:] == '.2':\n",
    "        n = length - 1\n",
    "        replacement = ''\n",
    "        res_str = r[0:n - 1] + replacement\n",
    "        re_wo_phs.append(res_str)\n",
    "\n",
    "    elif r[length - 2:] == '.3':\n",
    "        n = length - 1\n",
    "        replacement = ''\n",
    "        res_str = r[0:n - 1] + replacement\n",
    "        re_wo_phs.append(res_str)\n",
    "\n",
    "    else:\n",
    "        re_wo_phs.append(r)"
   ]
  },
  {
   "cell_type": "code",
   "execution_count": 208,
   "metadata": {},
   "outputs": [
    {
     "data": {
      "text/plain": [
       "True"
      ]
     },
     "execution_count": 208,
     "metadata": {},
     "output_type": "execute_result"
    }
   ],
   "source": [
    "# Plotting thee graph\n",
    "import networkx as nx\n",
    "import matplotlib.pyplot as plt\n",
    "\n",
    "g = nx.Graph()\n",
    "\n",
    "new = []\n",
    "for i in range(len(re_wo_phs)):\n",
    "    g.add_edge(se_wo_phs[i], re_wo_phs[i])\n",
    "#     print(se_wo_phs[i], re_wo_phs[i])\n",
    "    temp = [se_wo_phs[i], re_wo_phs[i]]\n",
    "    new.append(temp)\n",
    "    \n",
    "    \n",
    "color_map = ['red' if node == '20101100104-XFO' else 'green' for node in g]\n",
    "size_map = [50 if node == '20101100104-XFO' else 10 for node in g]\n",
    "# nx.draw(g, with_labels = True)\n",
    "#nx.draw(g, node_size=size_map, node_color=color_map)\n",
    "#plt.show()\n",
    "\n",
    "nx.is_connected(g)"
   ]
  },
  {
   "cell_type": "code",
   "execution_count": 209,
   "metadata": {},
   "outputs": [],
   "source": [
    "## Writing to an CSV file using Python\n",
    "import csv\n",
    "\n",
    "with open(foldername +'Feeder_' + feedername+'_Node_connections_wo_norm_open_sw.csv', mode='w', newline= '') as file:\n",
    "    writer = csv.writer(file)\n",
    "    writer.writerow(['From_node', 'To_node'])\n",
    "    for i in range(0, len(re_wo_phs)):\n",
    "        writer.writerow([se_wo_phs[i], re_wo_phs[i]])"
   ]
  },
  {
   "cell_type": "code",
   "execution_count": 210,
   "metadata": {},
   "outputs": [],
   "source": [
    "import pandas as pd\n",
    "\n",
    "import warnings\n",
    "warnings.simplefilter(action='ignore', category=FutureWarning)\n",
    "\n",
    "feeder = pd.read_csv(foldername+ \"Bus_coordinates.csv\")\n",
    "#se_re = pd.read_csv(\"./Feeder_7130_Node_connections_wo_norm_open_sw.csv\")\n",
    "se_re = pd.read_csv( foldername + 'Feeder_' + feedername +'_Node_connections_wo_norm_open_sw.csv')\n",
    "\n",
    "\n",
    "\n",
    "temp = list(feeder[\"Bus_ID\"])\n",
    "bus_ID_cap = []\n",
    "for s in temp:\n",
    "    caps = s.upper()\n",
    "    bus_ID_cap.append(caps)\n",
    "\n",
    "temp = list(se_re[\"From_node\"])\n",
    "se_cap = []\n",
    "for s in temp:\n",
    "    caps = s.upper()\n",
    "    se_cap.append(caps)\n",
    "\n",
    "\n",
    "temp = list(se_re[\"To_node\"])\n",
    "re_cap = []\n",
    "for r in temp:\n",
    "    caps = r.upper()\n",
    "    re_cap.append(caps)\n",
    "\n",
    "new_list=se_cap+re_cap\n",
    "\n",
    "unique_elements = [] # empty list to hold unique elements from the list\n",
    "dup_elements = [] # empty list to hold the duplicate elements from the list\n",
    "for i in new_list:\n",
    "    if i not in unique_elements:\n",
    "        unique_elements.append(i)\n",
    "    else:\n",
    "        dup_elements.append(i)\n",
    "\n",
    "\n",
    "busID_cap2 = []\n",
    "bus_lon = []\n",
    "bus_lat = []\n",
    "for u in unique_elements:\n",
    "    temp2 = bus_ID_cap.index(u)\n",
    "    if temp2 >=0:\n",
    "        lon = feeder[\"Longitude\"][temp2]\n",
    "        lat = feeder[\"Latitude\"][temp2]\n",
    "        busID_cap2.append(u)\n",
    "        bus_lon.append(lon)\n",
    "        bus_lat.append(lat)\n",
    "\n",
    "\n",
    "## Writing to an CSV file using Python\n",
    "import csv\n",
    "\n",
    "with open(foldername+'Feeder_'+feedername+'_Bus_coordinates_no_sw.csv', mode='w', newline= '') as file:\n",
    "    writer = csv.writer(file)\n",
    "    writer.writerow(['Bus_ID', 'Longitude', 'Latitude'])\n",
    "    for i in range(0, len(busID_cap2)):\n",
    "        writer.writerow([busID_cap2[i], bus_lon[i], bus_lat[i]])\n",
    "\n",
    "\n",
    "\n",
    "\n",
    "\n",
    "\n",
    "\n",
    "se_lon = []\n",
    "se_lat = []\n",
    "re_lon = []\n",
    "re_lat = []\n",
    "se_busID = []\n",
    "re_busID = []\n",
    "\n",
    "\n",
    "for s in se_cap:\n",
    "    temp2 = busID_cap2.index(s)\n",
    "    if temp2 >=0:\n",
    "        lon = bus_lon[temp2]\n",
    "        lat = bus_lat[temp2]\n",
    "        se_busID.append(s)\n",
    "        se_lon.append(lon)\n",
    "        se_lat.append(lat)\n",
    "\n",
    "for r in re_cap:\n",
    "    temp2 = busID_cap2.index(r)\n",
    "    if temp2 >=0:\n",
    "        lon = bus_lon[temp2]\n",
    "        lat = bus_lat[temp2]\n",
    "        re_busID.append(r)\n",
    "        re_lon.append(lon)\n",
    "        re_lat.append(lat)\n",
    "\n",
    "\n",
    "## Writing to an CSV file using Python\n",
    "import csv\n",
    "\n",
    "with open(foldername + 'se_re_lon_lat_nosw.csv', mode='w', newline= '') as file:\n",
    "    writer = csv.writer(file)\n",
    "    writer.writerow(['se_lon', 'se_lat', 're_lon', 're_lat', 'se_busID', 're_busID'])\n",
    "    for i in range(0, len(se_lon)):\n",
    "        writer.writerow([se_lon[i], se_lat[i], re_lon[i], re_lat[i], se_busID[i], re_busID[i]])\n"
   ]
  },
  {
   "cell_type": "code",
   "execution_count": 211,
   "metadata": {},
   "outputs": [
    {
     "data": {
      "application/vnd.plotly.v1+json": {
       "config": {
        "plotlyServerURL": "https://plot.ly"
       },
       "data": [
        {
         "hoverinfo": "text",
         "lat": [
          38.87062517573689,
          38.871437211142975,
          38.86935513138054,
          38.86882070449979,
          38.86907957287259,
          38.86910812713423,
          38.86919859259978,
          38.86942614502578,
          38.8681800607203,
          38.86906693475488,
          38.8681786887182,
          38.86880082237221,
          38.86942558229421,
          38.86879389675133,
          38.87042648617896,
          38.86910828486597,
          38.87075945761288,
          38.87075929832047,
          38.87269308939603,
          38.87075804251814,
          38.86879974852469,
          38.86817916297039,
          38.87248305095974,
          38.86922285458037,
          38.869424591255765,
          38.868795349194095,
          38.86817997680397,
          38.8689961210613,
          38.869427252127736,
          38.870758303910776,
          38.869427986506594,
          38.86876868760578,
          38.86910625886992,
          38.87012032464608,
          38.86979456435939,
          38.868180174662186,
          38.86879985790157,
          38.86880082520377,
          38.87078198923276,
          38.86879975800001,
          38.86881445289488,
          38.86882458564852,
          38.86817970507751,
          38.86966517766404,
          38.87063637198333,
          38.87165761667452,
          38.87207226460221,
          38.87285112548757,
          38.87098981249385,
          38.869427128988896,
          38.87105796047117,
          38.86920141565245,
          38.87211530470044,
          38.8694227648301,
          38.86793317071956,
          38.86817345219288,
          38.8694281185839,
          38.870046017567056,
          38.87123166764219,
          38.86882455801567,
          38.86945303966457,
          38.86942707140202,
          38.86926311423638,
          38.86817996613633,
          38.87122941596336,
          38.86910843282598,
          38.87199726803716,
          38.87266445403207,
          38.87499798554345,
          38.87270458451688,
          38.872912817615,
          38.87246948651647,
          38.87245222418042,
          38.87277513480383,
          38.87199039633373,
          38.87276928169174,
          38.87499703784575,
          38.872454941154665,
          38.868823166564894,
          38.86941070514829,
          38.86857589819861,
          38.86910667843985,
          38.86817999433902,
          38.86880017713028,
          38.869402811440125,
          38.867912828133655,
          38.86818037286195,
          38.869799823495285,
          38.871514772149375,
          38.86943743619032,
          38.87258165226444,
          38.87199725061247,
          38.87277676681981,
          38.87500370078125
         ],
         "lon": [
          -76.98214338985841,
          -76.98078999255426,
          -76.98214205560052,
          -76.98180743372919,
          -76.98082401966042,
          -76.98486141323974,
          -76.98503942138534,
          -76.97911491585906,
          -76.98502796077632,
          -76.98214740217583,
          -76.98575104409758,
          -76.98412172657396,
          -76.98082926275954,
          -76.98501428193435,
          -76.9807801742805,
          -76.98482629058014,
          -76.98081945973296,
          -76.9808545831899,
          -76.98127653137377,
          -76.98150081484432,
          -76.98335255846078,
          -76.98468549107206,
          -76.98221558308728,
          -76.98505586654183,
          -76.98086436246668,
          -76.98504935438392,
          -76.98499283887834,
          -76.97952176088982,
          -76.97985073186223,
          -76.98166630499846,
          -76.98034452532912,
          -76.98217532187024,
          -76.98343299824855,
          -76.98077505377576,
          -76.98214097743875,
          -76.98426051520414,
          -76.98471616602227,
          -76.98599821740501,
          -76.98214317252125,
          -76.9829680317266,
          -76.9821546367884,
          -76.98214760062118,
          -76.98652411719706,
          -76.98214595824734,
          -76.98078975354541,
          -76.98079367747843,
          -76.98076340078592,
          -76.98141884337667,
          -76.98214999346129,
          -76.97956955604485,
          -76.98082759653853,
          -76.97911112011236,
          -76.98075618167151,
          -76.98005037828263,
          -76.98503985851389,
          -76.98694189633945,
          -76.98051838399343,
          -76.9816748818371,
          -76.9821227548569,
          -76.98146812806449,
          -76.98082899222602,
          -76.97932367438116,
          -76.98541033059597,
          -76.98506308122109,
          -76.98077956824164,
          -76.98388983333096,
          -76.98388448622043,
          -76.98127080350736,
          -76.97718212434286,
          -76.9812542710658,
          -76.98268311521139,
          -76.98232880625075,
          -76.98228230687855,
          -76.98293852341044,
          -76.98388886579785,
          -76.98294486371789,
          -76.97719186518738,
          -76.98235859821678,
          -76.97926915570588,
          -76.98148404479569,
          -76.98217350000161,
          -76.98258985870916,
          -76.98310432562553,
          -76.98634947528915,
          -76.97870065691745,
          -76.9850408382823,
          -76.98764694274782,
          -76.98167508385768,
          -76.98164116481598,
          -76.9855764175134,
          -76.9812857678806,
          -76.98389326873317,
          -76.9829470532437,
          -76.97718698713246
         ],
         "marker": {
          "color": "fuchsia",
          "size": 10
         },
         "mode": "markers",
         "text": [
          "1076255_193_14121648_039",
          "1076646_85_14121935_35",
          "1076245_529_14121185_587",
          "1076336_554_14120988_925",
          "1076618_532_14121077_106",
          "1075469_504_14121112_472",
          "1075419_55_14121146_514",
          "1077107_769_14121192_744",
          "1075414_746_14120775_579",
          "1076241_728_14121080_683",
          "1075208_905_14120779_557",
          "1075677_625_14120995_999",
          "1076619_774_14121203_126",
          "1075423_501_14120999_002",
          "1076641_657_14121567_268",
          "804377-240160-163153",
          "1076633_106_14121688_751",
          "1076623_107_14121688_91",
          "1076518_288_14122395_642",
          "1076439_15_14121692_446",
          "1075896_563_14120990_849",
          "1075512_225_14120773_132",
          "1076249_337_14122324_968",
          "1075415_061_14121155_45",
          "1076609_775_14121202_982",
          "1075413_529_14120999_748",
          "1075424_743_14120775_331",
          "805377-740130-59692",
          "1076898_327_14121197_69",
          "1076392_046_14121693_564",
          "1076757_774_14121201_007",
          "1076231_422_14120972_259",
          "1075876_091_14121102_952",
          "1076640_695_14121455_758",
          "1076249_311_14121345_585",
          "1075633_205_14120770_87",
          "1075508_408_14120999_327",
          "1075143_475_14121007_618",
          "1076256_495_14121705_136",
          "1076006_02_14120988_474",
          "1076237_672_14120988_795",
          "1076239_755_14120992_441",
          "1074988_853_14120784_716",
          "1076246_87_14121298_504",
          "1076640_589_14121643_75",
          "1076647_543_14122015_626",
          "805378-320950-1548898",
          "1076479_03_14122454_065",
          "1076256_197_14121780_85",
          "1076978_363_14121195_909",
          "1076633_149_14121797_491",
          "1077107_075_14121110_893",
          "1076661_833_14122182_046",
          "1076841_462_14121197_289",
          "1075409_404_14120685_756",
          "1074869_88_14120785_028",
          "1076708_286_14121202_129",
          "1076383_973_14121434_262",
          "1076265_863_14121868_745",
          "1076433_169_14120988_231",
          "1076620_068_14121213_122",
          "1077048_353_14121194_37",
          "1075314_481_14121172_304",
          "1075404_748_14120775_762",
          "1076648_175_14121859_624",
          "1075746_069_14121106_57",
          "804378-500220-3-476757",
          "805378-240460-269585",
          "806379-410300-3-477274",
          "805378-240460-164130",
          "1076119_659_14122484_344",
          "1076217_002_14122320_729",
          "804378-951371-159459",
          "804378-770504-3-482614",
          "1075769_156_14122155_934",
          "1076044_02_14122433_699",
          "1077699_115_14123209_331",
          "1076208_407_14122315_617",
          "SOURCE_00496_805377-810087-11",
          "1076433_272_14121201_755",
          "1076230_416_14120902_05",
          "1076116_096_14121097_89",
          "1075962_32_14120763_651",
          "1075043_483_14121009_558",
          "1077225_504_14121181_691",
          "1075408_964_14120678_355",
          "1074669_239_14120791_918",
          "1076381_969_14121344_62",
          "1076405_183_14121968_851",
          "1075268_585_14121236_806",
          "1076514_778_14122355_123",
          "1075767_957_14122158_457",
          "1076043_456_14122436_438",
          "1077700_556_14123211_727"
         ],
         "type": "scattermapbox"
        },
        {
         "lat": [
          38.87062517573689,
          38.87078198923276
         ],
         "line": {
          "color": "blue",
          "width": 1
         },
         "lon": [
          -76.98214338985841,
          -76.98214317252125
         ],
         "mode": "lines",
         "type": "scattermapbox"
        },
        {
         "lat": [
          38.871437211142975,
          38.87165761667452
         ],
         "line": {
          "color": "blue",
          "width": 1
         },
         "lon": [
          -76.98078999255426,
          -76.98079367747843
         ],
         "mode": "lines",
         "type": "scattermapbox"
        },
        {
         "lat": [
          38.86935513138054,
          38.86966517766404
         ],
         "line": {
          "color": "blue",
          "width": 1
         },
         "lon": [
          -76.98214205560052,
          -76.98214595824734
         ],
         "mode": "lines",
         "type": "scattermapbox"
        },
        {
         "lat": [
          38.86882070449979,
          38.86881445289488
         ],
         "line": {
          "color": "blue",
          "width": 1
         },
         "lon": [
          -76.98180743372919,
          -76.9821546367884
         ],
         "mode": "lines",
         "type": "scattermapbox"
        },
        {
         "lat": [
          38.86907957287259,
          38.86882455801567
         ],
         "line": {
          "color": "blue",
          "width": 1
         },
         "lon": [
          -76.98082401966042,
          -76.98146812806449
         ],
         "mode": "lines",
         "type": "scattermapbox"
        },
        {
         "lat": [
          38.86910812713423,
          38.86910828486597
         ],
         "line": {
          "color": "blue",
          "width": 1
         },
         "lon": [
          -76.98486141323974,
          -76.98482629058014
         ],
         "mode": "lines",
         "type": "scattermapbox"
        },
        {
         "lat": [
          38.86919859259978,
          38.86910812713423
         ],
         "line": {
          "color": "blue",
          "width": 1
         },
         "lon": [
          -76.98503942138534,
          -76.98486141323974
         ],
         "mode": "lines",
         "type": "scattermapbox"
        },
        {
         "lat": [
          38.86942614502578,
          38.86942707140202
         ],
         "line": {
          "color": "blue",
          "width": 1
         },
         "lon": [
          -76.97911491585906,
          -76.97932367438116
         ],
         "mode": "lines",
         "type": "scattermapbox"
        },
        {
         "lat": [
          38.8681800607203,
          38.86793317071956
         ],
         "line": {
          "color": "blue",
          "width": 1
         },
         "lon": [
          -76.98502796077632,
          -76.98503985851389
         ],
         "mode": "lines",
         "type": "scattermapbox"
        },
        {
         "lat": [
          38.86906693475488,
          38.86935513138054
         ],
         "line": {
          "color": "blue",
          "width": 1
         },
         "lon": [
          -76.98214740217583,
          -76.98214205560052
         ],
         "mode": "lines",
         "type": "scattermapbox"
        },
        {
         "lat": [
          38.8681786887182,
          38.86817970507751
         ],
         "line": {
          "color": "blue",
          "width": 1
         },
         "lon": [
          -76.98575104409758,
          -76.98652411719706
         ],
         "mode": "lines",
         "type": "scattermapbox"
        },
        {
         "lat": [
          38.86880082237221,
          38.86879985790157
         ],
         "line": {
          "color": "blue",
          "width": 1
         },
         "lon": [
          -76.98412172657396,
          -76.98471616602227
         ],
         "mode": "lines",
         "type": "scattermapbox"
        },
        {
         "lat": [
          38.86919859259978,
          38.86922285458037
         ],
         "line": {
          "color": "blue",
          "width": 1
         },
         "lon": [
          -76.98503942138534,
          -76.98505586654183
         ],
         "mode": "lines",
         "type": "scattermapbox"
        },
        {
         "lat": [
          38.86942558229421,
          38.86945303966457
         ],
         "line": {
          "color": "blue",
          "width": 1
         },
         "lon": [
          -76.98082926275954,
          -76.98082899222602
         ],
         "mode": "lines",
         "type": "scattermapbox"
        },
        {
         "lat": [
          38.86879389675133,
          38.86919859259978
         ],
         "line": {
          "color": "blue",
          "width": 1
         },
         "lon": [
          -76.98501428193435,
          -76.98503942138534
         ],
         "mode": "lines",
         "type": "scattermapbox"
        },
        {
         "lat": [
          38.87042648617896,
          38.87063637198333
         ],
         "line": {
          "color": "blue",
          "width": 1
         },
         "lon": [
          -76.9807801742805,
          -76.98078975354541
         ],
         "mode": "lines",
         "type": "scattermapbox"
        },
        {
         "lat": [
          38.86879389675133,
          38.868795349194095
         ],
         "line": {
          "color": "blue",
          "width": 1
         },
         "lon": [
          -76.98501428193435,
          -76.98504935438392
         ],
         "mode": "lines",
         "type": "scattermapbox"
        },
        {
         "lat": [
          38.86910828486597,
          38.86910843282598
         ],
         "line": {
          "color": "blue",
          "width": 1
         },
         "lon": [
          -76.98482629058014,
          -76.98388983333096
         ],
         "mode": "lines",
         "type": "scattermapbox"
        },
        {
         "lat": [
          38.87075945761288,
          38.87105796047117
         ],
         "line": {
          "color": "blue",
          "width": 1
         },
         "lon": [
          -76.98081945973296,
          -76.98082759653853
         ],
         "mode": "lines",
         "type": "scattermapbox"
        },
        {
         "lat": [
          38.87075929832047,
          38.87075804251814
         ],
         "line": {
          "color": "blue",
          "width": 1
         },
         "lon": [
          -76.9808545831899,
          -76.98150081484432
         ],
         "mode": "lines",
         "type": "scattermapbox"
        },
        {
         "lat": [
          38.87269308939603,
          38.87285112548757
         ],
         "line": {
          "color": "blue",
          "width": 1
         },
         "lon": [
          -76.98127653137377,
          -76.98141884337667
         ],
         "mode": "lines",
         "type": "scattermapbox"
        },
        {
         "lat": [
          38.87075804251814,
          38.870758303910776
         ],
         "line": {
          "color": "blue",
          "width": 1
         },
         "lon": [
          -76.98150081484432,
          -76.98166630499846
         ],
         "mode": "lines",
         "type": "scattermapbox"
        },
        {
         "lat": [
          38.86879974852469,
          38.86880082237221
         ],
         "line": {
          "color": "blue",
          "width": 1
         },
         "lon": [
          -76.98335255846078,
          -76.98412172657396
         ],
         "mode": "lines",
         "type": "scattermapbox"
        },
        {
         "lat": [
          38.86817916297039,
          38.868180174662186
         ],
         "line": {
          "color": "blue",
          "width": 1
         },
         "lon": [
          -76.98468549107206,
          -76.98426051520414
         ],
         "mode": "lines",
         "type": "scattermapbox"
        },
        {
         "lat": [
          38.87248305095974,
          38.87245222418042
         ],
         "line": {
          "color": "blue",
          "width": 1
         },
         "lon": [
          -76.98221558308728,
          -76.98228230687855
         ],
         "mode": "lines",
         "type": "scattermapbox"
        },
        {
         "lat": [
          38.86922285458037,
          38.86926311423638
         ],
         "line": {
          "color": "blue",
          "width": 1
         },
         "lon": [
          -76.98505586654183,
          -76.98541033059597
         ],
         "mode": "lines",
         "type": "scattermapbox"
        },
        {
         "lat": [
          38.869424591255765,
          38.86941070514829
         ],
         "line": {
          "color": "blue",
          "width": 1
         },
         "lon": [
          -76.98086436246668,
          -76.98148404479569
         ],
         "mode": "lines",
         "type": "scattermapbox"
        },
        {
         "lat": [
          38.868795349194095,
          38.86880082520377
         ],
         "line": {
          "color": "blue",
          "width": 1
         },
         "lon": [
          -76.98504935438392,
          -76.98599821740501
         ],
         "mode": "lines",
         "type": "scattermapbox"
        },
        {
         "lat": [
          38.86817997680397,
          38.86817916297039
         ],
         "line": {
          "color": "blue",
          "width": 1
         },
         "lon": [
          -76.98499283887834,
          -76.98468549107206
         ],
         "mode": "lines",
         "type": "scattermapbox"
        },
        {
         "lat": [
          38.8689961210613,
          38.86920141565245
         ],
         "line": {
          "color": "blue",
          "width": 1
         },
         "lon": [
          -76.97952176088982,
          -76.97911112011236
         ],
         "mode": "lines",
         "type": "scattermapbox"
        },
        {
         "lat": [
          38.869427252127736,
          38.8694227648301
         ],
         "line": {
          "color": "blue",
          "width": 1
         },
         "lon": [
          -76.97985073186223,
          -76.98005037828263
         ],
         "mode": "lines",
         "type": "scattermapbox"
        },
        {
         "lat": [
          38.870758303910776,
          38.870046017567056
         ],
         "line": {
          "color": "blue",
          "width": 1
         },
         "lon": [
          -76.98166630499846,
          -76.9816748818371
         ],
         "mode": "lines",
         "type": "scattermapbox"
        },
        {
         "lat": [
          38.869427986506594,
          38.8694281185839
         ],
         "line": {
          "color": "blue",
          "width": 1
         },
         "lon": [
          -76.98034452532912,
          -76.98051838399343
         ],
         "mode": "lines",
         "type": "scattermapbox"
        },
        {
         "lat": [
          38.86876868760578,
          38.86857589819861
         ],
         "line": {
          "color": "blue",
          "width": 1
         },
         "lon": [
          -76.98217532187024,
          -76.98217350000161
         ],
         "mode": "lines",
         "type": "scattermapbox"
        },
        {
         "lat": [
          38.86910625886992,
          38.86910667843985
         ],
         "line": {
          "color": "blue",
          "width": 1
         },
         "lon": [
          -76.98343299824855,
          -76.98258985870916
         ],
         "mode": "lines",
         "type": "scattermapbox"
        },
        {
         "lat": [
          38.87012032464608,
          38.87042648617896
         ],
         "line": {
          "color": "blue",
          "width": 1
         },
         "lon": [
          -76.98077505377576,
          -76.9807801742805
         ],
         "mode": "lines",
         "type": "scattermapbox"
        },
        {
         "lat": [
          38.86979456435939,
          38.87062517573689
         ],
         "line": {
          "color": "blue",
          "width": 1
         },
         "lon": [
          -76.98214097743875,
          -76.98214338985841
         ],
         "mode": "lines",
         "type": "scattermapbox"
        },
        {
         "lat": [
          38.87269308939603,
          38.87270458451688
         ],
         "line": {
          "color": "blue",
          "width": 1
         },
         "lon": [
          -76.98127653137377,
          -76.9812542710658
         ],
         "mode": "lines",
         "type": "scattermapbox"
        },
        {
         "lat": [
          38.868180174662186,
          38.86817999433902
         ],
         "line": {
          "color": "blue",
          "width": 1
         },
         "lon": [
          -76.98426051520414,
          -76.98310432562553
         ],
         "mode": "lines",
         "type": "scattermapbox"
        },
        {
         "lat": [
          38.86879985790157,
          38.86879389675133
         ],
         "line": {
          "color": "blue",
          "width": 1
         },
         "lon": [
          -76.98471616602227,
          -76.98501428193435
         ],
         "mode": "lines",
         "type": "scattermapbox"
        },
        {
         "lat": [
          38.86880082520377,
          38.86880017713028
         ],
         "line": {
          "color": "blue",
          "width": 1
         },
         "lon": [
          -76.98599821740501,
          -76.98634947528915
         ],
         "mode": "lines",
         "type": "scattermapbox"
        },
        {
         "lat": [
          38.87078198923276,
          38.87098981249385
         ],
         "line": {
          "color": "blue",
          "width": 1
         },
         "lon": [
          -76.98214317252125,
          -76.98214999346129
         ],
         "mode": "lines",
         "type": "scattermapbox"
        },
        {
         "lat": [
          38.87269308939603,
          38.87266445403207
         ],
         "line": {
          "color": "blue",
          "width": 1
         },
         "lon": [
          -76.98127653137377,
          -76.98127080350736
         ],
         "mode": "lines",
         "type": "scattermapbox"
        },
        {
         "lat": [
          38.86879975800001,
          38.86879974852469
         ],
         "line": {
          "color": "blue",
          "width": 1
         },
         "lon": [
          -76.9829680317266,
          -76.98335255846078
         ],
         "mode": "lines",
         "type": "scattermapbox"
        },
        {
         "lat": [
          38.86881445289488,
          38.86876868760578
         ],
         "line": {
          "color": "blue",
          "width": 1
         },
         "lon": [
          -76.9821546367884,
          -76.98217532187024
         ],
         "mode": "lines",
         "type": "scattermapbox"
        },
        {
         "lat": [
          38.86881445289488,
          38.86879975800001
         ],
         "line": {
          "color": "blue",
          "width": 1
         },
         "lon": [
          -76.9821546367884,
          -76.9829680317266
         ],
         "mode": "lines",
         "type": "scattermapbox"
        },
        {
         "lat": [
          38.86882458564852,
          38.86906693475488
         ],
         "line": {
          "color": "blue",
          "width": 1
         },
         "lon": [
          -76.98214760062118,
          -76.98214740217583
         ],
         "mode": "lines",
         "type": "scattermapbox"
        },
        {
         "lat": [
          38.86881445289488,
          38.86882458564852
         ],
         "line": {
          "color": "blue",
          "width": 1
         },
         "lon": [
          -76.9821546367884,
          -76.98214760062118
         ],
         "mode": "lines",
         "type": "scattermapbox"
        },
        {
         "lat": [
          38.86817970507751,
          38.86817345219288
         ],
         "line": {
          "color": "blue",
          "width": 1
         },
         "lon": [
          -76.98652411719706,
          -76.98694189633945
         ],
         "mode": "lines",
         "type": "scattermapbox"
        },
        {
         "lat": [
          38.86966517766404,
          38.86979456435939
         ],
         "line": {
          "color": "blue",
          "width": 1
         },
         "lon": [
          -76.98214595824734,
          -76.98214097743875
         ],
         "mode": "lines",
         "type": "scattermapbox"
        },
        {
         "lat": [
          38.87063637198333,
          38.87075945761288
         ],
         "line": {
          "color": "blue",
          "width": 1
         },
         "lon": [
          -76.98078975354541,
          -76.98081945973296
         ],
         "mode": "lines",
         "type": "scattermapbox"
        },
        {
         "lat": [
          38.86942558229421,
          38.869424591255765
         ],
         "line": {
          "color": "blue",
          "width": 1
         },
         "lon": [
          -76.98082926275954,
          -76.98086436246668
         ],
         "mode": "lines",
         "type": "scattermapbox"
        },
        {
         "lat": [
          38.87165761667452,
          38.87207226460221
         ],
         "line": {
          "color": "blue",
          "width": 1
         },
         "lon": [
          -76.98079367747843,
          -76.98076340078592
         ],
         "mode": "lines",
         "type": "scattermapbox"
        },
        {
         "lat": [
          38.86942558229421,
          38.86907957287259
         ],
         "line": {
          "color": "blue",
          "width": 1
         },
         "lon": [
          -76.98082926275954,
          -76.98082401966042
         ],
         "mode": "lines",
         "type": "scattermapbox"
        },
        {
         "lat": [
          38.87207226460221,
          38.87211530470044
         ],
         "line": {
          "color": "blue",
          "width": 1
         },
         "lon": [
          -76.98076340078592,
          -76.98075618167151
         ],
         "mode": "lines",
         "type": "scattermapbox"
        },
        {
         "lat": [
          38.86942614502578,
          38.869402811440125
         ],
         "line": {
          "color": "blue",
          "width": 1
         },
         "lon": [
          -76.97911491585906,
          -76.97870065691745
         ],
         "mode": "lines",
         "type": "scattermapbox"
        },
        {
         "lat": [
          38.8681800607203,
          38.86817997680397
         ],
         "line": {
          "color": "blue",
          "width": 1
         },
         "lon": [
          -76.98502796077632,
          -76.98499283887834
         ],
         "mode": "lines",
         "type": "scattermapbox"
        },
        {
         "lat": [
          38.87285112548757,
          38.87248305095974
         ],
         "line": {
          "color": "blue",
          "width": 1
         },
         "lon": [
          -76.98141884337667,
          -76.98221558308728
         ],
         "mode": "lines",
         "type": "scattermapbox"
        },
        {
         "lat": [
          38.87098981249385,
          38.87123166764219
         ],
         "line": {
          "color": "blue",
          "width": 1
         },
         "lon": [
          -76.98214999346129,
          -76.9821227548569
         ],
         "mode": "lines",
         "type": "scattermapbox"
        },
        {
         "lat": [
          38.869427128988896,
          38.869427252127736
         ],
         "line": {
          "color": "blue",
          "width": 1
         },
         "lon": [
          -76.97956955604485,
          -76.97985073186223
         ],
         "mode": "lines",
         "type": "scattermapbox"
        },
        {
         "lat": [
          38.87105796047117,
          38.87122941596336
         ],
         "line": {
          "color": "blue",
          "width": 1
         },
         "lon": [
          -76.98082759653853,
          -76.98077956824164
         ],
         "mode": "lines",
         "type": "scattermapbox"
        },
        {
         "lat": [
          38.86879389675133,
          38.8681800607203
         ],
         "line": {
          "color": "blue",
          "width": 1
         },
         "lon": [
          -76.98501428193435,
          -76.98502796077632
         ],
         "mode": "lines",
         "type": "scattermapbox"
        },
        {
         "lat": [
          38.86920141565245,
          38.86942614502578
         ],
         "line": {
          "color": "blue",
          "width": 1
         },
         "lon": [
          -76.97911112011236,
          -76.97911491585906
         ],
         "mode": "lines",
         "type": "scattermapbox"
        },
        {
         "lat": [
          38.87075945761288,
          38.87075929832047
         ],
         "line": {
          "color": "blue",
          "width": 1
         },
         "lon": [
          -76.98081945973296,
          -76.9808545831899
         ],
         "mode": "lines",
         "type": "scattermapbox"
        },
        {
         "lat": [
          38.87211530470044,
          38.87269308939603
         ],
         "line": {
          "color": "blue",
          "width": 1
         },
         "lon": [
          -76.98075618167151,
          -76.98127653137377
         ],
         "mode": "lines",
         "type": "scattermapbox"
        },
        {
         "lat": [
          38.8694227648301,
          38.869427986506594
         ],
         "line": {
          "color": "blue",
          "width": 1
         },
         "lon": [
          -76.98005037828263,
          -76.98034452532912
         ],
         "mode": "lines",
         "type": "scattermapbox"
        },
        {
         "lat": [
          38.8681800607203,
          38.86817996613633
         ],
         "line": {
          "color": "blue",
          "width": 1
         },
         "lon": [
          -76.98502796077632,
          -76.98506308122109
         ],
         "mode": "lines",
         "type": "scattermapbox"
        },
        {
         "lat": [
          38.86793317071956,
          38.867912828133655
         ],
         "line": {
          "color": "blue",
          "width": 1
         },
         "lon": [
          -76.98503985851389,
          -76.9850408382823
         ],
         "mode": "lines",
         "type": "scattermapbox"
        },
        {
         "lat": [
          38.86817345219288,
          38.86818037286195
         ],
         "line": {
          "color": "blue",
          "width": 1
         },
         "lon": [
          -76.98694189633945,
          -76.98764694274782
         ],
         "mode": "lines",
         "type": "scattermapbox"
        },
        {
         "lat": [
          38.8694281185839,
          38.86942558229421
         ],
         "line": {
          "color": "blue",
          "width": 1
         },
         "lon": [
          -76.98051838399343,
          -76.98082926275954
         ],
         "mode": "lines",
         "type": "scattermapbox"
        },
        {
         "lat": [
          38.870046017567056,
          38.869799823495285
         ],
         "line": {
          "color": "blue",
          "width": 1
         },
         "lon": [
          -76.9816748818371,
          -76.98167508385768
         ],
         "mode": "lines",
         "type": "scattermapbox"
        },
        {
         "lat": [
          38.87123166764219,
          38.871514772149375
         ],
         "line": {
          "color": "blue",
          "width": 1
         },
         "lon": [
          -76.9821227548569,
          -76.98164116481598
         ],
         "mode": "lines",
         "type": "scattermapbox"
        },
        {
         "lat": [
          38.86882455801567,
          38.86882070449979
         ],
         "line": {
          "color": "blue",
          "width": 1
         },
         "lon": [
          -76.98146812806449,
          -76.98180743372919
         ],
         "mode": "lines",
         "type": "scattermapbox"
        },
        {
         "lat": [
          38.86945303966457,
          38.87012032464608
         ],
         "line": {
          "color": "blue",
          "width": 1
         },
         "lon": [
          -76.98082899222602,
          -76.98077505377576
         ],
         "mode": "lines",
         "type": "scattermapbox"
        },
        {
         "lat": [
          38.86942707140202,
          38.869427128988896
         ],
         "line": {
          "color": "blue",
          "width": 1
         },
         "lon": [
          -76.97932367438116,
          -76.97956955604485
         ],
         "mode": "lines",
         "type": "scattermapbox"
        },
        {
         "lat": [
          38.86926311423638,
          38.86943743619032
         ],
         "line": {
          "color": "blue",
          "width": 1
         },
         "lon": [
          -76.98541033059597,
          -76.9855764175134
         ],
         "mode": "lines",
         "type": "scattermapbox"
        },
        {
         "lat": [
          38.86817996613633,
          38.8681786887182
         ],
         "line": {
          "color": "blue",
          "width": 1
         },
         "lon": [
          -76.98506308122109,
          -76.98575104409758
         ],
         "mode": "lines",
         "type": "scattermapbox"
        },
        {
         "lat": [
          38.87122941596336,
          38.871437211142975
         ],
         "line": {
          "color": "blue",
          "width": 1
         },
         "lon": [
          -76.98077956824164,
          -76.98078999255426
         ],
         "mode": "lines",
         "type": "scattermapbox"
        },
        {
         "lat": [
          38.86910843282598,
          38.86910625886992
         ],
         "line": {
          "color": "blue",
          "width": 1
         },
         "lon": [
          -76.98388983333096,
          -76.98343299824855
         ],
         "mode": "lines",
         "type": "scattermapbox"
        },
        {
         "lat": [
          38.87199726803716,
          38.87199039633373
         ],
         "line": {
          "color": "blue",
          "width": 1
         },
         "lon": [
          -76.98388448622043,
          -76.98388886579785
         ],
         "mode": "lines",
         "type": "scattermapbox"
        },
        {
         "lat": [
          38.87266445403207,
          38.87258165226444
         ],
         "line": {
          "color": "blue",
          "width": 1
         },
         "lon": [
          -76.98127080350736,
          -76.9812857678806
         ],
         "mode": "lines",
         "type": "scattermapbox"
        },
        {
         "lat": [
          38.87499798554345,
          38.87499703784575
         ],
         "line": {
          "color": "blue",
          "width": 1
         },
         "lon": [
          -76.97718212434286,
          -76.97719186518738
         ],
         "mode": "lines",
         "type": "scattermapbox"
        },
        {
         "lat": [
          38.87270458451688,
          38.87499798554345
         ],
         "line": {
          "color": "blue",
          "width": 1
         },
         "lon": [
          -76.9812542710658,
          -76.97718212434286
         ],
         "mode": "lines",
         "type": "scattermapbox"
        },
        {
         "lat": [
          38.872912817615,
          38.87277513480383
         ],
         "line": {
          "color": "blue",
          "width": 1
         },
         "lon": [
          -76.98268311521139,
          -76.98293852341044
         ],
         "mode": "lines",
         "type": "scattermapbox"
        },
        {
         "lat": [
          38.87246948651647,
          38.872912817615
         ],
         "line": {
          "color": "blue",
          "width": 1
         },
         "lon": [
          -76.98232880625075,
          -76.98268311521139
         ],
         "mode": "lines",
         "type": "scattermapbox"
        },
        {
         "lat": [
          38.87245222418042,
          38.87246948651647
         ],
         "line": {
          "color": "blue",
          "width": 1
         },
         "lon": [
          -76.98228230687855,
          -76.98232880625075
         ],
         "mode": "lines",
         "type": "scattermapbox"
        },
        {
         "lat": [
          38.87277513480383,
          38.87276928169174
         ],
         "line": {
          "color": "blue",
          "width": 1
         },
         "lon": [
          -76.98293852341044,
          -76.98294486371789
         ],
         "mode": "lines",
         "type": "scattermapbox"
        },
        {
         "lat": [
          38.87199039633373,
          38.87199725061247
         ],
         "line": {
          "color": "blue",
          "width": 1
         },
         "lon": [
          -76.98388886579785,
          -76.98389326873317
         ],
         "mode": "lines",
         "type": "scattermapbox"
        },
        {
         "lat": [
          38.87276928169174,
          38.87277676681981
         ],
         "line": {
          "color": "blue",
          "width": 1
         },
         "lon": [
          -76.98294486371789,
          -76.9829470532437
         ],
         "mode": "lines",
         "type": "scattermapbox"
        },
        {
         "lat": [
          38.87499703784575,
          38.87500370078125
         ],
         "line": {
          "color": "blue",
          "width": 1
         },
         "lon": [
          -76.97719186518738,
          -76.97718698713246
         ],
         "mode": "lines",
         "type": "scattermapbox"
        },
        {
         "lat": [
          38.872454941154665,
          38.87199726803716
         ],
         "line": {
          "color": "blue",
          "width": 1
         },
         "lon": [
          -76.98235859821678,
          -76.98388448622043
         ],
         "mode": "lines",
         "type": "scattermapbox"
        },
        {
         "lat": [
          38.87246948651647,
          38.872454941154665
         ],
         "line": {
          "color": "blue",
          "width": 1
         },
         "lon": [
          -76.98232880625075,
          -76.98235859821678
         ],
         "mode": "lines",
         "type": "scattermapbox"
        },
        {
         "lat": [
          38.868823166564894,
          38.8689961210613
         ],
         "line": {
          "color": "blue",
          "width": 1
         },
         "lon": [
          -76.97926915570588,
          -76.97952176088982
         ],
         "mode": "lines",
         "type": "scattermapbox"
        }
       ],
       "layout": {
        "height": 700,
        "mapbox": {
         "center": {
          "lat": 38.87015693087483,
          "lon": -76.98232892952345
         },
         "style": "open-street-map",
         "zoom": 10
        },
        "margin": {
         "b": 0,
         "l": 0,
         "r": 0,
         "t": 0
        },
        "showlegend": false,
        "template": {
         "data": {
          "bar": [
           {
            "error_x": {
             "color": "#2a3f5f"
            },
            "error_y": {
             "color": "#2a3f5f"
            },
            "marker": {
             "line": {
              "color": "#E5ECF6",
              "width": 0.5
             },
             "pattern": {
              "fillmode": "overlay",
              "size": 10,
              "solidity": 0.2
             }
            },
            "type": "bar"
           }
          ],
          "barpolar": [
           {
            "marker": {
             "line": {
              "color": "#E5ECF6",
              "width": 0.5
             },
             "pattern": {
              "fillmode": "overlay",
              "size": 10,
              "solidity": 0.2
             }
            },
            "type": "barpolar"
           }
          ],
          "carpet": [
           {
            "aaxis": {
             "endlinecolor": "#2a3f5f",
             "gridcolor": "white",
             "linecolor": "white",
             "minorgridcolor": "white",
             "startlinecolor": "#2a3f5f"
            },
            "baxis": {
             "endlinecolor": "#2a3f5f",
             "gridcolor": "white",
             "linecolor": "white",
             "minorgridcolor": "white",
             "startlinecolor": "#2a3f5f"
            },
            "type": "carpet"
           }
          ],
          "choropleth": [
           {
            "colorbar": {
             "outlinewidth": 0,
             "ticks": ""
            },
            "type": "choropleth"
           }
          ],
          "contour": [
           {
            "colorbar": {
             "outlinewidth": 0,
             "ticks": ""
            },
            "colorscale": [
             [
              0,
              "#0d0887"
             ],
             [
              0.1111111111111111,
              "#46039f"
             ],
             [
              0.2222222222222222,
              "#7201a8"
             ],
             [
              0.3333333333333333,
              "#9c179e"
             ],
             [
              0.4444444444444444,
              "#bd3786"
             ],
             [
              0.5555555555555556,
              "#d8576b"
             ],
             [
              0.6666666666666666,
              "#ed7953"
             ],
             [
              0.7777777777777778,
              "#fb9f3a"
             ],
             [
              0.8888888888888888,
              "#fdca26"
             ],
             [
              1,
              "#f0f921"
             ]
            ],
            "type": "contour"
           }
          ],
          "contourcarpet": [
           {
            "colorbar": {
             "outlinewidth": 0,
             "ticks": ""
            },
            "type": "contourcarpet"
           }
          ],
          "heatmap": [
           {
            "colorbar": {
             "outlinewidth": 0,
             "ticks": ""
            },
            "colorscale": [
             [
              0,
              "#0d0887"
             ],
             [
              0.1111111111111111,
              "#46039f"
             ],
             [
              0.2222222222222222,
              "#7201a8"
             ],
             [
              0.3333333333333333,
              "#9c179e"
             ],
             [
              0.4444444444444444,
              "#bd3786"
             ],
             [
              0.5555555555555556,
              "#d8576b"
             ],
             [
              0.6666666666666666,
              "#ed7953"
             ],
             [
              0.7777777777777778,
              "#fb9f3a"
             ],
             [
              0.8888888888888888,
              "#fdca26"
             ],
             [
              1,
              "#f0f921"
             ]
            ],
            "type": "heatmap"
           }
          ],
          "heatmapgl": [
           {
            "colorbar": {
             "outlinewidth": 0,
             "ticks": ""
            },
            "colorscale": [
             [
              0,
              "#0d0887"
             ],
             [
              0.1111111111111111,
              "#46039f"
             ],
             [
              0.2222222222222222,
              "#7201a8"
             ],
             [
              0.3333333333333333,
              "#9c179e"
             ],
             [
              0.4444444444444444,
              "#bd3786"
             ],
             [
              0.5555555555555556,
              "#d8576b"
             ],
             [
              0.6666666666666666,
              "#ed7953"
             ],
             [
              0.7777777777777778,
              "#fb9f3a"
             ],
             [
              0.8888888888888888,
              "#fdca26"
             ],
             [
              1,
              "#f0f921"
             ]
            ],
            "type": "heatmapgl"
           }
          ],
          "histogram": [
           {
            "marker": {
             "pattern": {
              "fillmode": "overlay",
              "size": 10,
              "solidity": 0.2
             }
            },
            "type": "histogram"
           }
          ],
          "histogram2d": [
           {
            "colorbar": {
             "outlinewidth": 0,
             "ticks": ""
            },
            "colorscale": [
             [
              0,
              "#0d0887"
             ],
             [
              0.1111111111111111,
              "#46039f"
             ],
             [
              0.2222222222222222,
              "#7201a8"
             ],
             [
              0.3333333333333333,
              "#9c179e"
             ],
             [
              0.4444444444444444,
              "#bd3786"
             ],
             [
              0.5555555555555556,
              "#d8576b"
             ],
             [
              0.6666666666666666,
              "#ed7953"
             ],
             [
              0.7777777777777778,
              "#fb9f3a"
             ],
             [
              0.8888888888888888,
              "#fdca26"
             ],
             [
              1,
              "#f0f921"
             ]
            ],
            "type": "histogram2d"
           }
          ],
          "histogram2dcontour": [
           {
            "colorbar": {
             "outlinewidth": 0,
             "ticks": ""
            },
            "colorscale": [
             [
              0,
              "#0d0887"
             ],
             [
              0.1111111111111111,
              "#46039f"
             ],
             [
              0.2222222222222222,
              "#7201a8"
             ],
             [
              0.3333333333333333,
              "#9c179e"
             ],
             [
              0.4444444444444444,
              "#bd3786"
             ],
             [
              0.5555555555555556,
              "#d8576b"
             ],
             [
              0.6666666666666666,
              "#ed7953"
             ],
             [
              0.7777777777777778,
              "#fb9f3a"
             ],
             [
              0.8888888888888888,
              "#fdca26"
             ],
             [
              1,
              "#f0f921"
             ]
            ],
            "type": "histogram2dcontour"
           }
          ],
          "mesh3d": [
           {
            "colorbar": {
             "outlinewidth": 0,
             "ticks": ""
            },
            "type": "mesh3d"
           }
          ],
          "parcoords": [
           {
            "line": {
             "colorbar": {
              "outlinewidth": 0,
              "ticks": ""
             }
            },
            "type": "parcoords"
           }
          ],
          "pie": [
           {
            "automargin": true,
            "type": "pie"
           }
          ],
          "scatter": [
           {
            "fillpattern": {
             "fillmode": "overlay",
             "size": 10,
             "solidity": 0.2
            },
            "type": "scatter"
           }
          ],
          "scatter3d": [
           {
            "line": {
             "colorbar": {
              "outlinewidth": 0,
              "ticks": ""
             }
            },
            "marker": {
             "colorbar": {
              "outlinewidth": 0,
              "ticks": ""
             }
            },
            "type": "scatter3d"
           }
          ],
          "scattercarpet": [
           {
            "marker": {
             "colorbar": {
              "outlinewidth": 0,
              "ticks": ""
             }
            },
            "type": "scattercarpet"
           }
          ],
          "scattergeo": [
           {
            "marker": {
             "colorbar": {
              "outlinewidth": 0,
              "ticks": ""
             }
            },
            "type": "scattergeo"
           }
          ],
          "scattergl": [
           {
            "marker": {
             "colorbar": {
              "outlinewidth": 0,
              "ticks": ""
             }
            },
            "type": "scattergl"
           }
          ],
          "scattermapbox": [
           {
            "marker": {
             "colorbar": {
              "outlinewidth": 0,
              "ticks": ""
             }
            },
            "type": "scattermapbox"
           }
          ],
          "scatterpolar": [
           {
            "marker": {
             "colorbar": {
              "outlinewidth": 0,
              "ticks": ""
             }
            },
            "type": "scatterpolar"
           }
          ],
          "scatterpolargl": [
           {
            "marker": {
             "colorbar": {
              "outlinewidth": 0,
              "ticks": ""
             }
            },
            "type": "scatterpolargl"
           }
          ],
          "scatterternary": [
           {
            "marker": {
             "colorbar": {
              "outlinewidth": 0,
              "ticks": ""
             }
            },
            "type": "scatterternary"
           }
          ],
          "surface": [
           {
            "colorbar": {
             "outlinewidth": 0,
             "ticks": ""
            },
            "colorscale": [
             [
              0,
              "#0d0887"
             ],
             [
              0.1111111111111111,
              "#46039f"
             ],
             [
              0.2222222222222222,
              "#7201a8"
             ],
             [
              0.3333333333333333,
              "#9c179e"
             ],
             [
              0.4444444444444444,
              "#bd3786"
             ],
             [
              0.5555555555555556,
              "#d8576b"
             ],
             [
              0.6666666666666666,
              "#ed7953"
             ],
             [
              0.7777777777777778,
              "#fb9f3a"
             ],
             [
              0.8888888888888888,
              "#fdca26"
             ],
             [
              1,
              "#f0f921"
             ]
            ],
            "type": "surface"
           }
          ],
          "table": [
           {
            "cells": {
             "fill": {
              "color": "#EBF0F8"
             },
             "line": {
              "color": "white"
             }
            },
            "header": {
             "fill": {
              "color": "#C8D4E3"
             },
             "line": {
              "color": "white"
             }
            },
            "type": "table"
           }
          ]
         },
         "layout": {
          "annotationdefaults": {
           "arrowcolor": "#2a3f5f",
           "arrowhead": 0,
           "arrowwidth": 1
          },
          "autotypenumbers": "strict",
          "coloraxis": {
           "colorbar": {
            "outlinewidth": 0,
            "ticks": ""
           }
          },
          "colorscale": {
           "diverging": [
            [
             0,
             "#8e0152"
            ],
            [
             0.1,
             "#c51b7d"
            ],
            [
             0.2,
             "#de77ae"
            ],
            [
             0.3,
             "#f1b6da"
            ],
            [
             0.4,
             "#fde0ef"
            ],
            [
             0.5,
             "#f7f7f7"
            ],
            [
             0.6,
             "#e6f5d0"
            ],
            [
             0.7,
             "#b8e186"
            ],
            [
             0.8,
             "#7fbc41"
            ],
            [
             0.9,
             "#4d9221"
            ],
            [
             1,
             "#276419"
            ]
           ],
           "sequential": [
            [
             0,
             "#0d0887"
            ],
            [
             0.1111111111111111,
             "#46039f"
            ],
            [
             0.2222222222222222,
             "#7201a8"
            ],
            [
             0.3333333333333333,
             "#9c179e"
            ],
            [
             0.4444444444444444,
             "#bd3786"
            ],
            [
             0.5555555555555556,
             "#d8576b"
            ],
            [
             0.6666666666666666,
             "#ed7953"
            ],
            [
             0.7777777777777778,
             "#fb9f3a"
            ],
            [
             0.8888888888888888,
             "#fdca26"
            ],
            [
             1,
             "#f0f921"
            ]
           ],
           "sequentialminus": [
            [
             0,
             "#0d0887"
            ],
            [
             0.1111111111111111,
             "#46039f"
            ],
            [
             0.2222222222222222,
             "#7201a8"
            ],
            [
             0.3333333333333333,
             "#9c179e"
            ],
            [
             0.4444444444444444,
             "#bd3786"
            ],
            [
             0.5555555555555556,
             "#d8576b"
            ],
            [
             0.6666666666666666,
             "#ed7953"
            ],
            [
             0.7777777777777778,
             "#fb9f3a"
            ],
            [
             0.8888888888888888,
             "#fdca26"
            ],
            [
             1,
             "#f0f921"
            ]
           ]
          },
          "colorway": [
           "#636efa",
           "#EF553B",
           "#00cc96",
           "#ab63fa",
           "#FFA15A",
           "#19d3f3",
           "#FF6692",
           "#B6E880",
           "#FF97FF",
           "#FECB52"
          ],
          "font": {
           "color": "#2a3f5f"
          },
          "geo": {
           "bgcolor": "white",
           "lakecolor": "white",
           "landcolor": "#E5ECF6",
           "showlakes": true,
           "showland": true,
           "subunitcolor": "white"
          },
          "hoverlabel": {
           "align": "left"
          },
          "hovermode": "closest",
          "mapbox": {
           "style": "light"
          },
          "paper_bgcolor": "white",
          "plot_bgcolor": "#E5ECF6",
          "polar": {
           "angularaxis": {
            "gridcolor": "white",
            "linecolor": "white",
            "ticks": ""
           },
           "bgcolor": "#E5ECF6",
           "radialaxis": {
            "gridcolor": "white",
            "linecolor": "white",
            "ticks": ""
           }
          },
          "scene": {
           "xaxis": {
            "backgroundcolor": "#E5ECF6",
            "gridcolor": "white",
            "gridwidth": 2,
            "linecolor": "white",
            "showbackground": true,
            "ticks": "",
            "zerolinecolor": "white"
           },
           "yaxis": {
            "backgroundcolor": "#E5ECF6",
            "gridcolor": "white",
            "gridwidth": 2,
            "linecolor": "white",
            "showbackground": true,
            "ticks": "",
            "zerolinecolor": "white"
           },
           "zaxis": {
            "backgroundcolor": "#E5ECF6",
            "gridcolor": "white",
            "gridwidth": 2,
            "linecolor": "white",
            "showbackground": true,
            "ticks": "",
            "zerolinecolor": "white"
           }
          },
          "shapedefaults": {
           "line": {
            "color": "#2a3f5f"
           }
          },
          "ternary": {
           "aaxis": {
            "gridcolor": "white",
            "linecolor": "white",
            "ticks": ""
           },
           "baxis": {
            "gridcolor": "white",
            "linecolor": "white",
            "ticks": ""
           },
           "bgcolor": "#E5ECF6",
           "caxis": {
            "gridcolor": "white",
            "linecolor": "white",
            "ticks": ""
           }
          },
          "title": {
           "x": 0.05
          },
          "xaxis": {
           "automargin": true,
           "gridcolor": "white",
           "linecolor": "white",
           "ticks": "",
           "title": {
            "standoff": 15
           },
           "zerolinecolor": "white",
           "zerolinewidth": 2
          },
          "yaxis": {
           "automargin": true,
           "gridcolor": "white",
           "linecolor": "white",
           "ticks": "",
           "title": {
            "standoff": 15
           },
           "zerolinecolor": "white",
           "zerolinewidth": 2
          }
         }
        },
        "title": {
         "text": "paths<br>Feeder on the map"
        }
       }
      },
      "text/html": [
       "<div>                            <div id=\"22085f3d-094a-45b0-b0f1-7f3633e378ed\" class=\"plotly-graph-div\" style=\"height:700px; width:100%;\"></div>            <script type=\"text/javascript\">                require([\"plotly\"], function(Plotly) {                    window.PLOTLYENV=window.PLOTLYENV || {};                                    if (document.getElementById(\"22085f3d-094a-45b0-b0f1-7f3633e378ed\")) {                    Plotly.newPlot(                        \"22085f3d-094a-45b0-b0f1-7f3633e378ed\",                        [{\"hoverinfo\":\"text\",\"lat\":[38.87062517573689,38.871437211142975,38.86935513138054,38.86882070449979,38.86907957287259,38.86910812713423,38.86919859259978,38.86942614502578,38.8681800607203,38.86906693475488,38.8681786887182,38.86880082237221,38.86942558229421,38.86879389675133,38.87042648617896,38.86910828486597,38.87075945761288,38.87075929832047,38.87269308939603,38.87075804251814,38.86879974852469,38.86817916297039,38.87248305095974,38.86922285458037,38.869424591255765,38.868795349194095,38.86817997680397,38.8689961210613,38.869427252127736,38.870758303910776,38.869427986506594,38.86876868760578,38.86910625886992,38.87012032464608,38.86979456435939,38.868180174662186,38.86879985790157,38.86880082520377,38.87078198923276,38.86879975800001,38.86881445289488,38.86882458564852,38.86817970507751,38.86966517766404,38.87063637198333,38.87165761667452,38.87207226460221,38.87285112548757,38.87098981249385,38.869427128988896,38.87105796047117,38.86920141565245,38.87211530470044,38.8694227648301,38.86793317071956,38.86817345219288,38.8694281185839,38.870046017567056,38.87123166764219,38.86882455801567,38.86945303966457,38.86942707140202,38.86926311423638,38.86817996613633,38.87122941596336,38.86910843282598,38.87199726803716,38.87266445403207,38.87499798554345,38.87270458451688,38.872912817615,38.87246948651647,38.87245222418042,38.87277513480383,38.87199039633373,38.87276928169174,38.87499703784575,38.872454941154665,38.868823166564894,38.86941070514829,38.86857589819861,38.86910667843985,38.86817999433902,38.86880017713028,38.869402811440125,38.867912828133655,38.86818037286195,38.869799823495285,38.871514772149375,38.86943743619032,38.87258165226444,38.87199725061247,38.87277676681981,38.87500370078125],\"lon\":[-76.98214338985841,-76.98078999255426,-76.98214205560052,-76.98180743372919,-76.98082401966042,-76.98486141323974,-76.98503942138534,-76.97911491585906,-76.98502796077632,-76.98214740217583,-76.98575104409758,-76.98412172657396,-76.98082926275954,-76.98501428193435,-76.9807801742805,-76.98482629058014,-76.98081945973296,-76.9808545831899,-76.98127653137377,-76.98150081484432,-76.98335255846078,-76.98468549107206,-76.98221558308728,-76.98505586654183,-76.98086436246668,-76.98504935438392,-76.98499283887834,-76.97952176088982,-76.97985073186223,-76.98166630499846,-76.98034452532912,-76.98217532187024,-76.98343299824855,-76.98077505377576,-76.98214097743875,-76.98426051520414,-76.98471616602227,-76.98599821740501,-76.98214317252125,-76.9829680317266,-76.9821546367884,-76.98214760062118,-76.98652411719706,-76.98214595824734,-76.98078975354541,-76.98079367747843,-76.98076340078592,-76.98141884337667,-76.98214999346129,-76.97956955604485,-76.98082759653853,-76.97911112011236,-76.98075618167151,-76.98005037828263,-76.98503985851389,-76.98694189633945,-76.98051838399343,-76.9816748818371,-76.9821227548569,-76.98146812806449,-76.98082899222602,-76.97932367438116,-76.98541033059597,-76.98506308122109,-76.98077956824164,-76.98388983333096,-76.98388448622043,-76.98127080350736,-76.97718212434286,-76.9812542710658,-76.98268311521139,-76.98232880625075,-76.98228230687855,-76.98293852341044,-76.98388886579785,-76.98294486371789,-76.97719186518738,-76.98235859821678,-76.97926915570588,-76.98148404479569,-76.98217350000161,-76.98258985870916,-76.98310432562553,-76.98634947528915,-76.97870065691745,-76.9850408382823,-76.98764694274782,-76.98167508385768,-76.98164116481598,-76.9855764175134,-76.9812857678806,-76.98389326873317,-76.9829470532437,-76.97718698713246],\"marker\":{\"color\":\"fuchsia\",\"size\":10},\"mode\":\"markers\",\"text\":[\"1076255_193_14121648_039\",\"1076646_85_14121935_35\",\"1076245_529_14121185_587\",\"1076336_554_14120988_925\",\"1076618_532_14121077_106\",\"1075469_504_14121112_472\",\"1075419_55_14121146_514\",\"1077107_769_14121192_744\",\"1075414_746_14120775_579\",\"1076241_728_14121080_683\",\"1075208_905_14120779_557\",\"1075677_625_14120995_999\",\"1076619_774_14121203_126\",\"1075423_501_14120999_002\",\"1076641_657_14121567_268\",\"804377-240160-163153\",\"1076633_106_14121688_751\",\"1076623_107_14121688_91\",\"1076518_288_14122395_642\",\"1076439_15_14121692_446\",\"1075896_563_14120990_849\",\"1075512_225_14120773_132\",\"1076249_337_14122324_968\",\"1075415_061_14121155_45\",\"1076609_775_14121202_982\",\"1075413_529_14120999_748\",\"1075424_743_14120775_331\",\"805377-740130-59692\",\"1076898_327_14121197_69\",\"1076392_046_14121693_564\",\"1076757_774_14121201_007\",\"1076231_422_14120972_259\",\"1075876_091_14121102_952\",\"1076640_695_14121455_758\",\"1076249_311_14121345_585\",\"1075633_205_14120770_87\",\"1075508_408_14120999_327\",\"1075143_475_14121007_618\",\"1076256_495_14121705_136\",\"1076006_02_14120988_474\",\"1076237_672_14120988_795\",\"1076239_755_14120992_441\",\"1074988_853_14120784_716\",\"1076246_87_14121298_504\",\"1076640_589_14121643_75\",\"1076647_543_14122015_626\",\"805378-320950-1548898\",\"1076479_03_14122454_065\",\"1076256_197_14121780_85\",\"1076978_363_14121195_909\",\"1076633_149_14121797_491\",\"1077107_075_14121110_893\",\"1076661_833_14122182_046\",\"1076841_462_14121197_289\",\"1075409_404_14120685_756\",\"1074869_88_14120785_028\",\"1076708_286_14121202_129\",\"1076383_973_14121434_262\",\"1076265_863_14121868_745\",\"1076433_169_14120988_231\",\"1076620_068_14121213_122\",\"1077048_353_14121194_37\",\"1075314_481_14121172_304\",\"1075404_748_14120775_762\",\"1076648_175_14121859_624\",\"1075746_069_14121106_57\",\"804378-500220-3-476757\",\"805378-240460-269585\",\"806379-410300-3-477274\",\"805378-240460-164130\",\"1076119_659_14122484_344\",\"1076217_002_14122320_729\",\"804378-951371-159459\",\"804378-770504-3-482614\",\"1075769_156_14122155_934\",\"1076044_02_14122433_699\",\"1077699_115_14123209_331\",\"1076208_407_14122315_617\",\"SOURCE_00496_805377-810087-11\",\"1076433_272_14121201_755\",\"1076230_416_14120902_05\",\"1076116_096_14121097_89\",\"1075962_32_14120763_651\",\"1075043_483_14121009_558\",\"1077225_504_14121181_691\",\"1075408_964_14120678_355\",\"1074669_239_14120791_918\",\"1076381_969_14121344_62\",\"1076405_183_14121968_851\",\"1075268_585_14121236_806\",\"1076514_778_14122355_123\",\"1075767_957_14122158_457\",\"1076043_456_14122436_438\",\"1077700_556_14123211_727\"],\"type\":\"scattermapbox\"},{\"lat\":[38.87062517573689,38.87078198923276],\"line\":{\"color\":\"blue\",\"width\":1},\"lon\":[-76.98214338985841,-76.98214317252125],\"mode\":\"lines\",\"type\":\"scattermapbox\"},{\"lat\":[38.871437211142975,38.87165761667452],\"line\":{\"color\":\"blue\",\"width\":1},\"lon\":[-76.98078999255426,-76.98079367747843],\"mode\":\"lines\",\"type\":\"scattermapbox\"},{\"lat\":[38.86935513138054,38.86966517766404],\"line\":{\"color\":\"blue\",\"width\":1},\"lon\":[-76.98214205560052,-76.98214595824734],\"mode\":\"lines\",\"type\":\"scattermapbox\"},{\"lat\":[38.86882070449979,38.86881445289488],\"line\":{\"color\":\"blue\",\"width\":1},\"lon\":[-76.98180743372919,-76.9821546367884],\"mode\":\"lines\",\"type\":\"scattermapbox\"},{\"lat\":[38.86907957287259,38.86882455801567],\"line\":{\"color\":\"blue\",\"width\":1},\"lon\":[-76.98082401966042,-76.98146812806449],\"mode\":\"lines\",\"type\":\"scattermapbox\"},{\"lat\":[38.86910812713423,38.86910828486597],\"line\":{\"color\":\"blue\",\"width\":1},\"lon\":[-76.98486141323974,-76.98482629058014],\"mode\":\"lines\",\"type\":\"scattermapbox\"},{\"lat\":[38.86919859259978,38.86910812713423],\"line\":{\"color\":\"blue\",\"width\":1},\"lon\":[-76.98503942138534,-76.98486141323974],\"mode\":\"lines\",\"type\":\"scattermapbox\"},{\"lat\":[38.86942614502578,38.86942707140202],\"line\":{\"color\":\"blue\",\"width\":1},\"lon\":[-76.97911491585906,-76.97932367438116],\"mode\":\"lines\",\"type\":\"scattermapbox\"},{\"lat\":[38.8681800607203,38.86793317071956],\"line\":{\"color\":\"blue\",\"width\":1},\"lon\":[-76.98502796077632,-76.98503985851389],\"mode\":\"lines\",\"type\":\"scattermapbox\"},{\"lat\":[38.86906693475488,38.86935513138054],\"line\":{\"color\":\"blue\",\"width\":1},\"lon\":[-76.98214740217583,-76.98214205560052],\"mode\":\"lines\",\"type\":\"scattermapbox\"},{\"lat\":[38.8681786887182,38.86817970507751],\"line\":{\"color\":\"blue\",\"width\":1},\"lon\":[-76.98575104409758,-76.98652411719706],\"mode\":\"lines\",\"type\":\"scattermapbox\"},{\"lat\":[38.86880082237221,38.86879985790157],\"line\":{\"color\":\"blue\",\"width\":1},\"lon\":[-76.98412172657396,-76.98471616602227],\"mode\":\"lines\",\"type\":\"scattermapbox\"},{\"lat\":[38.86919859259978,38.86922285458037],\"line\":{\"color\":\"blue\",\"width\":1},\"lon\":[-76.98503942138534,-76.98505586654183],\"mode\":\"lines\",\"type\":\"scattermapbox\"},{\"lat\":[38.86942558229421,38.86945303966457],\"line\":{\"color\":\"blue\",\"width\":1},\"lon\":[-76.98082926275954,-76.98082899222602],\"mode\":\"lines\",\"type\":\"scattermapbox\"},{\"lat\":[38.86879389675133,38.86919859259978],\"line\":{\"color\":\"blue\",\"width\":1},\"lon\":[-76.98501428193435,-76.98503942138534],\"mode\":\"lines\",\"type\":\"scattermapbox\"},{\"lat\":[38.87042648617896,38.87063637198333],\"line\":{\"color\":\"blue\",\"width\":1},\"lon\":[-76.9807801742805,-76.98078975354541],\"mode\":\"lines\",\"type\":\"scattermapbox\"},{\"lat\":[38.86879389675133,38.868795349194095],\"line\":{\"color\":\"blue\",\"width\":1},\"lon\":[-76.98501428193435,-76.98504935438392],\"mode\":\"lines\",\"type\":\"scattermapbox\"},{\"lat\":[38.86910828486597,38.86910843282598],\"line\":{\"color\":\"blue\",\"width\":1},\"lon\":[-76.98482629058014,-76.98388983333096],\"mode\":\"lines\",\"type\":\"scattermapbox\"},{\"lat\":[38.87075945761288,38.87105796047117],\"line\":{\"color\":\"blue\",\"width\":1},\"lon\":[-76.98081945973296,-76.98082759653853],\"mode\":\"lines\",\"type\":\"scattermapbox\"},{\"lat\":[38.87075929832047,38.87075804251814],\"line\":{\"color\":\"blue\",\"width\":1},\"lon\":[-76.9808545831899,-76.98150081484432],\"mode\":\"lines\",\"type\":\"scattermapbox\"},{\"lat\":[38.87269308939603,38.87285112548757],\"line\":{\"color\":\"blue\",\"width\":1},\"lon\":[-76.98127653137377,-76.98141884337667],\"mode\":\"lines\",\"type\":\"scattermapbox\"},{\"lat\":[38.87075804251814,38.870758303910776],\"line\":{\"color\":\"blue\",\"width\":1},\"lon\":[-76.98150081484432,-76.98166630499846],\"mode\":\"lines\",\"type\":\"scattermapbox\"},{\"lat\":[38.86879974852469,38.86880082237221],\"line\":{\"color\":\"blue\",\"width\":1},\"lon\":[-76.98335255846078,-76.98412172657396],\"mode\":\"lines\",\"type\":\"scattermapbox\"},{\"lat\":[38.86817916297039,38.868180174662186],\"line\":{\"color\":\"blue\",\"width\":1},\"lon\":[-76.98468549107206,-76.98426051520414],\"mode\":\"lines\",\"type\":\"scattermapbox\"},{\"lat\":[38.87248305095974,38.87245222418042],\"line\":{\"color\":\"blue\",\"width\":1},\"lon\":[-76.98221558308728,-76.98228230687855],\"mode\":\"lines\",\"type\":\"scattermapbox\"},{\"lat\":[38.86922285458037,38.86926311423638],\"line\":{\"color\":\"blue\",\"width\":1},\"lon\":[-76.98505586654183,-76.98541033059597],\"mode\":\"lines\",\"type\":\"scattermapbox\"},{\"lat\":[38.869424591255765,38.86941070514829],\"line\":{\"color\":\"blue\",\"width\":1},\"lon\":[-76.98086436246668,-76.98148404479569],\"mode\":\"lines\",\"type\":\"scattermapbox\"},{\"lat\":[38.868795349194095,38.86880082520377],\"line\":{\"color\":\"blue\",\"width\":1},\"lon\":[-76.98504935438392,-76.98599821740501],\"mode\":\"lines\",\"type\":\"scattermapbox\"},{\"lat\":[38.86817997680397,38.86817916297039],\"line\":{\"color\":\"blue\",\"width\":1},\"lon\":[-76.98499283887834,-76.98468549107206],\"mode\":\"lines\",\"type\":\"scattermapbox\"},{\"lat\":[38.8689961210613,38.86920141565245],\"line\":{\"color\":\"blue\",\"width\":1},\"lon\":[-76.97952176088982,-76.97911112011236],\"mode\":\"lines\",\"type\":\"scattermapbox\"},{\"lat\":[38.869427252127736,38.8694227648301],\"line\":{\"color\":\"blue\",\"width\":1},\"lon\":[-76.97985073186223,-76.98005037828263],\"mode\":\"lines\",\"type\":\"scattermapbox\"},{\"lat\":[38.870758303910776,38.870046017567056],\"line\":{\"color\":\"blue\",\"width\":1},\"lon\":[-76.98166630499846,-76.9816748818371],\"mode\":\"lines\",\"type\":\"scattermapbox\"},{\"lat\":[38.869427986506594,38.8694281185839],\"line\":{\"color\":\"blue\",\"width\":1},\"lon\":[-76.98034452532912,-76.98051838399343],\"mode\":\"lines\",\"type\":\"scattermapbox\"},{\"lat\":[38.86876868760578,38.86857589819861],\"line\":{\"color\":\"blue\",\"width\":1},\"lon\":[-76.98217532187024,-76.98217350000161],\"mode\":\"lines\",\"type\":\"scattermapbox\"},{\"lat\":[38.86910625886992,38.86910667843985],\"line\":{\"color\":\"blue\",\"width\":1},\"lon\":[-76.98343299824855,-76.98258985870916],\"mode\":\"lines\",\"type\":\"scattermapbox\"},{\"lat\":[38.87012032464608,38.87042648617896],\"line\":{\"color\":\"blue\",\"width\":1},\"lon\":[-76.98077505377576,-76.9807801742805],\"mode\":\"lines\",\"type\":\"scattermapbox\"},{\"lat\":[38.86979456435939,38.87062517573689],\"line\":{\"color\":\"blue\",\"width\":1},\"lon\":[-76.98214097743875,-76.98214338985841],\"mode\":\"lines\",\"type\":\"scattermapbox\"},{\"lat\":[38.87269308939603,38.87270458451688],\"line\":{\"color\":\"blue\",\"width\":1},\"lon\":[-76.98127653137377,-76.9812542710658],\"mode\":\"lines\",\"type\":\"scattermapbox\"},{\"lat\":[38.868180174662186,38.86817999433902],\"line\":{\"color\":\"blue\",\"width\":1},\"lon\":[-76.98426051520414,-76.98310432562553],\"mode\":\"lines\",\"type\":\"scattermapbox\"},{\"lat\":[38.86879985790157,38.86879389675133],\"line\":{\"color\":\"blue\",\"width\":1},\"lon\":[-76.98471616602227,-76.98501428193435],\"mode\":\"lines\",\"type\":\"scattermapbox\"},{\"lat\":[38.86880082520377,38.86880017713028],\"line\":{\"color\":\"blue\",\"width\":1},\"lon\":[-76.98599821740501,-76.98634947528915],\"mode\":\"lines\",\"type\":\"scattermapbox\"},{\"lat\":[38.87078198923276,38.87098981249385],\"line\":{\"color\":\"blue\",\"width\":1},\"lon\":[-76.98214317252125,-76.98214999346129],\"mode\":\"lines\",\"type\":\"scattermapbox\"},{\"lat\":[38.87269308939603,38.87266445403207],\"line\":{\"color\":\"blue\",\"width\":1},\"lon\":[-76.98127653137377,-76.98127080350736],\"mode\":\"lines\",\"type\":\"scattermapbox\"},{\"lat\":[38.86879975800001,38.86879974852469],\"line\":{\"color\":\"blue\",\"width\":1},\"lon\":[-76.9829680317266,-76.98335255846078],\"mode\":\"lines\",\"type\":\"scattermapbox\"},{\"lat\":[38.86881445289488,38.86876868760578],\"line\":{\"color\":\"blue\",\"width\":1},\"lon\":[-76.9821546367884,-76.98217532187024],\"mode\":\"lines\",\"type\":\"scattermapbox\"},{\"lat\":[38.86881445289488,38.86879975800001],\"line\":{\"color\":\"blue\",\"width\":1},\"lon\":[-76.9821546367884,-76.9829680317266],\"mode\":\"lines\",\"type\":\"scattermapbox\"},{\"lat\":[38.86882458564852,38.86906693475488],\"line\":{\"color\":\"blue\",\"width\":1},\"lon\":[-76.98214760062118,-76.98214740217583],\"mode\":\"lines\",\"type\":\"scattermapbox\"},{\"lat\":[38.86881445289488,38.86882458564852],\"line\":{\"color\":\"blue\",\"width\":1},\"lon\":[-76.9821546367884,-76.98214760062118],\"mode\":\"lines\",\"type\":\"scattermapbox\"},{\"lat\":[38.86817970507751,38.86817345219288],\"line\":{\"color\":\"blue\",\"width\":1},\"lon\":[-76.98652411719706,-76.98694189633945],\"mode\":\"lines\",\"type\":\"scattermapbox\"},{\"lat\":[38.86966517766404,38.86979456435939],\"line\":{\"color\":\"blue\",\"width\":1},\"lon\":[-76.98214595824734,-76.98214097743875],\"mode\":\"lines\",\"type\":\"scattermapbox\"},{\"lat\":[38.87063637198333,38.87075945761288],\"line\":{\"color\":\"blue\",\"width\":1},\"lon\":[-76.98078975354541,-76.98081945973296],\"mode\":\"lines\",\"type\":\"scattermapbox\"},{\"lat\":[38.86942558229421,38.869424591255765],\"line\":{\"color\":\"blue\",\"width\":1},\"lon\":[-76.98082926275954,-76.98086436246668],\"mode\":\"lines\",\"type\":\"scattermapbox\"},{\"lat\":[38.87165761667452,38.87207226460221],\"line\":{\"color\":\"blue\",\"width\":1},\"lon\":[-76.98079367747843,-76.98076340078592],\"mode\":\"lines\",\"type\":\"scattermapbox\"},{\"lat\":[38.86942558229421,38.86907957287259],\"line\":{\"color\":\"blue\",\"width\":1},\"lon\":[-76.98082926275954,-76.98082401966042],\"mode\":\"lines\",\"type\":\"scattermapbox\"},{\"lat\":[38.87207226460221,38.87211530470044],\"line\":{\"color\":\"blue\",\"width\":1},\"lon\":[-76.98076340078592,-76.98075618167151],\"mode\":\"lines\",\"type\":\"scattermapbox\"},{\"lat\":[38.86942614502578,38.869402811440125],\"line\":{\"color\":\"blue\",\"width\":1},\"lon\":[-76.97911491585906,-76.97870065691745],\"mode\":\"lines\",\"type\":\"scattermapbox\"},{\"lat\":[38.8681800607203,38.86817997680397],\"line\":{\"color\":\"blue\",\"width\":1},\"lon\":[-76.98502796077632,-76.98499283887834],\"mode\":\"lines\",\"type\":\"scattermapbox\"},{\"lat\":[38.87285112548757,38.87248305095974],\"line\":{\"color\":\"blue\",\"width\":1},\"lon\":[-76.98141884337667,-76.98221558308728],\"mode\":\"lines\",\"type\":\"scattermapbox\"},{\"lat\":[38.87098981249385,38.87123166764219],\"line\":{\"color\":\"blue\",\"width\":1},\"lon\":[-76.98214999346129,-76.9821227548569],\"mode\":\"lines\",\"type\":\"scattermapbox\"},{\"lat\":[38.869427128988896,38.869427252127736],\"line\":{\"color\":\"blue\",\"width\":1},\"lon\":[-76.97956955604485,-76.97985073186223],\"mode\":\"lines\",\"type\":\"scattermapbox\"},{\"lat\":[38.87105796047117,38.87122941596336],\"line\":{\"color\":\"blue\",\"width\":1},\"lon\":[-76.98082759653853,-76.98077956824164],\"mode\":\"lines\",\"type\":\"scattermapbox\"},{\"lat\":[38.86879389675133,38.8681800607203],\"line\":{\"color\":\"blue\",\"width\":1},\"lon\":[-76.98501428193435,-76.98502796077632],\"mode\":\"lines\",\"type\":\"scattermapbox\"},{\"lat\":[38.86920141565245,38.86942614502578],\"line\":{\"color\":\"blue\",\"width\":1},\"lon\":[-76.97911112011236,-76.97911491585906],\"mode\":\"lines\",\"type\":\"scattermapbox\"},{\"lat\":[38.87075945761288,38.87075929832047],\"line\":{\"color\":\"blue\",\"width\":1},\"lon\":[-76.98081945973296,-76.9808545831899],\"mode\":\"lines\",\"type\":\"scattermapbox\"},{\"lat\":[38.87211530470044,38.87269308939603],\"line\":{\"color\":\"blue\",\"width\":1},\"lon\":[-76.98075618167151,-76.98127653137377],\"mode\":\"lines\",\"type\":\"scattermapbox\"},{\"lat\":[38.8694227648301,38.869427986506594],\"line\":{\"color\":\"blue\",\"width\":1},\"lon\":[-76.98005037828263,-76.98034452532912],\"mode\":\"lines\",\"type\":\"scattermapbox\"},{\"lat\":[38.8681800607203,38.86817996613633],\"line\":{\"color\":\"blue\",\"width\":1},\"lon\":[-76.98502796077632,-76.98506308122109],\"mode\":\"lines\",\"type\":\"scattermapbox\"},{\"lat\":[38.86793317071956,38.867912828133655],\"line\":{\"color\":\"blue\",\"width\":1},\"lon\":[-76.98503985851389,-76.9850408382823],\"mode\":\"lines\",\"type\":\"scattermapbox\"},{\"lat\":[38.86817345219288,38.86818037286195],\"line\":{\"color\":\"blue\",\"width\":1},\"lon\":[-76.98694189633945,-76.98764694274782],\"mode\":\"lines\",\"type\":\"scattermapbox\"},{\"lat\":[38.8694281185839,38.86942558229421],\"line\":{\"color\":\"blue\",\"width\":1},\"lon\":[-76.98051838399343,-76.98082926275954],\"mode\":\"lines\",\"type\":\"scattermapbox\"},{\"lat\":[38.870046017567056,38.869799823495285],\"line\":{\"color\":\"blue\",\"width\":1},\"lon\":[-76.9816748818371,-76.98167508385768],\"mode\":\"lines\",\"type\":\"scattermapbox\"},{\"lat\":[38.87123166764219,38.871514772149375],\"line\":{\"color\":\"blue\",\"width\":1},\"lon\":[-76.9821227548569,-76.98164116481598],\"mode\":\"lines\",\"type\":\"scattermapbox\"},{\"lat\":[38.86882455801567,38.86882070449979],\"line\":{\"color\":\"blue\",\"width\":1},\"lon\":[-76.98146812806449,-76.98180743372919],\"mode\":\"lines\",\"type\":\"scattermapbox\"},{\"lat\":[38.86945303966457,38.87012032464608],\"line\":{\"color\":\"blue\",\"width\":1},\"lon\":[-76.98082899222602,-76.98077505377576],\"mode\":\"lines\",\"type\":\"scattermapbox\"},{\"lat\":[38.86942707140202,38.869427128988896],\"line\":{\"color\":\"blue\",\"width\":1},\"lon\":[-76.97932367438116,-76.97956955604485],\"mode\":\"lines\",\"type\":\"scattermapbox\"},{\"lat\":[38.86926311423638,38.86943743619032],\"line\":{\"color\":\"blue\",\"width\":1},\"lon\":[-76.98541033059597,-76.9855764175134],\"mode\":\"lines\",\"type\":\"scattermapbox\"},{\"lat\":[38.86817996613633,38.8681786887182],\"line\":{\"color\":\"blue\",\"width\":1},\"lon\":[-76.98506308122109,-76.98575104409758],\"mode\":\"lines\",\"type\":\"scattermapbox\"},{\"lat\":[38.87122941596336,38.871437211142975],\"line\":{\"color\":\"blue\",\"width\":1},\"lon\":[-76.98077956824164,-76.98078999255426],\"mode\":\"lines\",\"type\":\"scattermapbox\"},{\"lat\":[38.86910843282598,38.86910625886992],\"line\":{\"color\":\"blue\",\"width\":1},\"lon\":[-76.98388983333096,-76.98343299824855],\"mode\":\"lines\",\"type\":\"scattermapbox\"},{\"lat\":[38.87199726803716,38.87199039633373],\"line\":{\"color\":\"blue\",\"width\":1},\"lon\":[-76.98388448622043,-76.98388886579785],\"mode\":\"lines\",\"type\":\"scattermapbox\"},{\"lat\":[38.87266445403207,38.87258165226444],\"line\":{\"color\":\"blue\",\"width\":1},\"lon\":[-76.98127080350736,-76.9812857678806],\"mode\":\"lines\",\"type\":\"scattermapbox\"},{\"lat\":[38.87499798554345,38.87499703784575],\"line\":{\"color\":\"blue\",\"width\":1},\"lon\":[-76.97718212434286,-76.97719186518738],\"mode\":\"lines\",\"type\":\"scattermapbox\"},{\"lat\":[38.87270458451688,38.87499798554345],\"line\":{\"color\":\"blue\",\"width\":1},\"lon\":[-76.9812542710658,-76.97718212434286],\"mode\":\"lines\",\"type\":\"scattermapbox\"},{\"lat\":[38.872912817615,38.87277513480383],\"line\":{\"color\":\"blue\",\"width\":1},\"lon\":[-76.98268311521139,-76.98293852341044],\"mode\":\"lines\",\"type\":\"scattermapbox\"},{\"lat\":[38.87246948651647,38.872912817615],\"line\":{\"color\":\"blue\",\"width\":1},\"lon\":[-76.98232880625075,-76.98268311521139],\"mode\":\"lines\",\"type\":\"scattermapbox\"},{\"lat\":[38.87245222418042,38.87246948651647],\"line\":{\"color\":\"blue\",\"width\":1},\"lon\":[-76.98228230687855,-76.98232880625075],\"mode\":\"lines\",\"type\":\"scattermapbox\"},{\"lat\":[38.87277513480383,38.87276928169174],\"line\":{\"color\":\"blue\",\"width\":1},\"lon\":[-76.98293852341044,-76.98294486371789],\"mode\":\"lines\",\"type\":\"scattermapbox\"},{\"lat\":[38.87199039633373,38.87199725061247],\"line\":{\"color\":\"blue\",\"width\":1},\"lon\":[-76.98388886579785,-76.98389326873317],\"mode\":\"lines\",\"type\":\"scattermapbox\"},{\"lat\":[38.87276928169174,38.87277676681981],\"line\":{\"color\":\"blue\",\"width\":1},\"lon\":[-76.98294486371789,-76.9829470532437],\"mode\":\"lines\",\"type\":\"scattermapbox\"},{\"lat\":[38.87499703784575,38.87500370078125],\"line\":{\"color\":\"blue\",\"width\":1},\"lon\":[-76.97719186518738,-76.97718698713246],\"mode\":\"lines\",\"type\":\"scattermapbox\"},{\"lat\":[38.872454941154665,38.87199726803716],\"line\":{\"color\":\"blue\",\"width\":1},\"lon\":[-76.98235859821678,-76.98388448622043],\"mode\":\"lines\",\"type\":\"scattermapbox\"},{\"lat\":[38.87246948651647,38.872454941154665],\"line\":{\"color\":\"blue\",\"width\":1},\"lon\":[-76.98232880625075,-76.98235859821678],\"mode\":\"lines\",\"type\":\"scattermapbox\"},{\"lat\":[38.868823166564894,38.8689961210613],\"line\":{\"color\":\"blue\",\"width\":1},\"lon\":[-76.97926915570588,-76.97952176088982],\"mode\":\"lines\",\"type\":\"scattermapbox\"}],                        {\"template\":{\"data\":{\"histogram2dcontour\":[{\"type\":\"histogram2dcontour\",\"colorbar\":{\"outlinewidth\":0,\"ticks\":\"\"},\"colorscale\":[[0.0,\"#0d0887\"],[0.1111111111111111,\"#46039f\"],[0.2222222222222222,\"#7201a8\"],[0.3333333333333333,\"#9c179e\"],[0.4444444444444444,\"#bd3786\"],[0.5555555555555556,\"#d8576b\"],[0.6666666666666666,\"#ed7953\"],[0.7777777777777778,\"#fb9f3a\"],[0.8888888888888888,\"#fdca26\"],[1.0,\"#f0f921\"]]}],\"choropleth\":[{\"type\":\"choropleth\",\"colorbar\":{\"outlinewidth\":0,\"ticks\":\"\"}}],\"histogram2d\":[{\"type\":\"histogram2d\",\"colorbar\":{\"outlinewidth\":0,\"ticks\":\"\"},\"colorscale\":[[0.0,\"#0d0887\"],[0.1111111111111111,\"#46039f\"],[0.2222222222222222,\"#7201a8\"],[0.3333333333333333,\"#9c179e\"],[0.4444444444444444,\"#bd3786\"],[0.5555555555555556,\"#d8576b\"],[0.6666666666666666,\"#ed7953\"],[0.7777777777777778,\"#fb9f3a\"],[0.8888888888888888,\"#fdca26\"],[1.0,\"#f0f921\"]]}],\"heatmap\":[{\"type\":\"heatmap\",\"colorbar\":{\"outlinewidth\":0,\"ticks\":\"\"},\"colorscale\":[[0.0,\"#0d0887\"],[0.1111111111111111,\"#46039f\"],[0.2222222222222222,\"#7201a8\"],[0.3333333333333333,\"#9c179e\"],[0.4444444444444444,\"#bd3786\"],[0.5555555555555556,\"#d8576b\"],[0.6666666666666666,\"#ed7953\"],[0.7777777777777778,\"#fb9f3a\"],[0.8888888888888888,\"#fdca26\"],[1.0,\"#f0f921\"]]}],\"heatmapgl\":[{\"type\":\"heatmapgl\",\"colorbar\":{\"outlinewidth\":0,\"ticks\":\"\"},\"colorscale\":[[0.0,\"#0d0887\"],[0.1111111111111111,\"#46039f\"],[0.2222222222222222,\"#7201a8\"],[0.3333333333333333,\"#9c179e\"],[0.4444444444444444,\"#bd3786\"],[0.5555555555555556,\"#d8576b\"],[0.6666666666666666,\"#ed7953\"],[0.7777777777777778,\"#fb9f3a\"],[0.8888888888888888,\"#fdca26\"],[1.0,\"#f0f921\"]]}],\"contourcarpet\":[{\"type\":\"contourcarpet\",\"colorbar\":{\"outlinewidth\":0,\"ticks\":\"\"}}],\"contour\":[{\"type\":\"contour\",\"colorbar\":{\"outlinewidth\":0,\"ticks\":\"\"},\"colorscale\":[[0.0,\"#0d0887\"],[0.1111111111111111,\"#46039f\"],[0.2222222222222222,\"#7201a8\"],[0.3333333333333333,\"#9c179e\"],[0.4444444444444444,\"#bd3786\"],[0.5555555555555556,\"#d8576b\"],[0.6666666666666666,\"#ed7953\"],[0.7777777777777778,\"#fb9f3a\"],[0.8888888888888888,\"#fdca26\"],[1.0,\"#f0f921\"]]}],\"surface\":[{\"type\":\"surface\",\"colorbar\":{\"outlinewidth\":0,\"ticks\":\"\"},\"colorscale\":[[0.0,\"#0d0887\"],[0.1111111111111111,\"#46039f\"],[0.2222222222222222,\"#7201a8\"],[0.3333333333333333,\"#9c179e\"],[0.4444444444444444,\"#bd3786\"],[0.5555555555555556,\"#d8576b\"],[0.6666666666666666,\"#ed7953\"],[0.7777777777777778,\"#fb9f3a\"],[0.8888888888888888,\"#fdca26\"],[1.0,\"#f0f921\"]]}],\"mesh3d\":[{\"type\":\"mesh3d\",\"colorbar\":{\"outlinewidth\":0,\"ticks\":\"\"}}],\"scatter\":[{\"fillpattern\":{\"fillmode\":\"overlay\",\"size\":10,\"solidity\":0.2},\"type\":\"scatter\"}],\"parcoords\":[{\"type\":\"parcoords\",\"line\":{\"colorbar\":{\"outlinewidth\":0,\"ticks\":\"\"}}}],\"scatterpolargl\":[{\"type\":\"scatterpolargl\",\"marker\":{\"colorbar\":{\"outlinewidth\":0,\"ticks\":\"\"}}}],\"bar\":[{\"error_x\":{\"color\":\"#2a3f5f\"},\"error_y\":{\"color\":\"#2a3f5f\"},\"marker\":{\"line\":{\"color\":\"#E5ECF6\",\"width\":0.5},\"pattern\":{\"fillmode\":\"overlay\",\"size\":10,\"solidity\":0.2}},\"type\":\"bar\"}],\"scattergeo\":[{\"type\":\"scattergeo\",\"marker\":{\"colorbar\":{\"outlinewidth\":0,\"ticks\":\"\"}}}],\"scatterpolar\":[{\"type\":\"scatterpolar\",\"marker\":{\"colorbar\":{\"outlinewidth\":0,\"ticks\":\"\"}}}],\"histogram\":[{\"marker\":{\"pattern\":{\"fillmode\":\"overlay\",\"size\":10,\"solidity\":0.2}},\"type\":\"histogram\"}],\"scattergl\":[{\"type\":\"scattergl\",\"marker\":{\"colorbar\":{\"outlinewidth\":0,\"ticks\":\"\"}}}],\"scatter3d\":[{\"type\":\"scatter3d\",\"line\":{\"colorbar\":{\"outlinewidth\":0,\"ticks\":\"\"}},\"marker\":{\"colorbar\":{\"outlinewidth\":0,\"ticks\":\"\"}}}],\"scattermapbox\":[{\"type\":\"scattermapbox\",\"marker\":{\"colorbar\":{\"outlinewidth\":0,\"ticks\":\"\"}}}],\"scatterternary\":[{\"type\":\"scatterternary\",\"marker\":{\"colorbar\":{\"outlinewidth\":0,\"ticks\":\"\"}}}],\"scattercarpet\":[{\"type\":\"scattercarpet\",\"marker\":{\"colorbar\":{\"outlinewidth\":0,\"ticks\":\"\"}}}],\"carpet\":[{\"aaxis\":{\"endlinecolor\":\"#2a3f5f\",\"gridcolor\":\"white\",\"linecolor\":\"white\",\"minorgridcolor\":\"white\",\"startlinecolor\":\"#2a3f5f\"},\"baxis\":{\"endlinecolor\":\"#2a3f5f\",\"gridcolor\":\"white\",\"linecolor\":\"white\",\"minorgridcolor\":\"white\",\"startlinecolor\":\"#2a3f5f\"},\"type\":\"carpet\"}],\"table\":[{\"cells\":{\"fill\":{\"color\":\"#EBF0F8\"},\"line\":{\"color\":\"white\"}},\"header\":{\"fill\":{\"color\":\"#C8D4E3\"},\"line\":{\"color\":\"white\"}},\"type\":\"table\"}],\"barpolar\":[{\"marker\":{\"line\":{\"color\":\"#E5ECF6\",\"width\":0.5},\"pattern\":{\"fillmode\":\"overlay\",\"size\":10,\"solidity\":0.2}},\"type\":\"barpolar\"}],\"pie\":[{\"automargin\":true,\"type\":\"pie\"}]},\"layout\":{\"autotypenumbers\":\"strict\",\"colorway\":[\"#636efa\",\"#EF553B\",\"#00cc96\",\"#ab63fa\",\"#FFA15A\",\"#19d3f3\",\"#FF6692\",\"#B6E880\",\"#FF97FF\",\"#FECB52\"],\"font\":{\"color\":\"#2a3f5f\"},\"hovermode\":\"closest\",\"hoverlabel\":{\"align\":\"left\"},\"paper_bgcolor\":\"white\",\"plot_bgcolor\":\"#E5ECF6\",\"polar\":{\"bgcolor\":\"#E5ECF6\",\"angularaxis\":{\"gridcolor\":\"white\",\"linecolor\":\"white\",\"ticks\":\"\"},\"radialaxis\":{\"gridcolor\":\"white\",\"linecolor\":\"white\",\"ticks\":\"\"}},\"ternary\":{\"bgcolor\":\"#E5ECF6\",\"aaxis\":{\"gridcolor\":\"white\",\"linecolor\":\"white\",\"ticks\":\"\"},\"baxis\":{\"gridcolor\":\"white\",\"linecolor\":\"white\",\"ticks\":\"\"},\"caxis\":{\"gridcolor\":\"white\",\"linecolor\":\"white\",\"ticks\":\"\"}},\"coloraxis\":{\"colorbar\":{\"outlinewidth\":0,\"ticks\":\"\"}},\"colorscale\":{\"sequential\":[[0.0,\"#0d0887\"],[0.1111111111111111,\"#46039f\"],[0.2222222222222222,\"#7201a8\"],[0.3333333333333333,\"#9c179e\"],[0.4444444444444444,\"#bd3786\"],[0.5555555555555556,\"#d8576b\"],[0.6666666666666666,\"#ed7953\"],[0.7777777777777778,\"#fb9f3a\"],[0.8888888888888888,\"#fdca26\"],[1.0,\"#f0f921\"]],\"sequentialminus\":[[0.0,\"#0d0887\"],[0.1111111111111111,\"#46039f\"],[0.2222222222222222,\"#7201a8\"],[0.3333333333333333,\"#9c179e\"],[0.4444444444444444,\"#bd3786\"],[0.5555555555555556,\"#d8576b\"],[0.6666666666666666,\"#ed7953\"],[0.7777777777777778,\"#fb9f3a\"],[0.8888888888888888,\"#fdca26\"],[1.0,\"#f0f921\"]],\"diverging\":[[0,\"#8e0152\"],[0.1,\"#c51b7d\"],[0.2,\"#de77ae\"],[0.3,\"#f1b6da\"],[0.4,\"#fde0ef\"],[0.5,\"#f7f7f7\"],[0.6,\"#e6f5d0\"],[0.7,\"#b8e186\"],[0.8,\"#7fbc41\"],[0.9,\"#4d9221\"],[1,\"#276419\"]]},\"xaxis\":{\"gridcolor\":\"white\",\"linecolor\":\"white\",\"ticks\":\"\",\"title\":{\"standoff\":15},\"zerolinecolor\":\"white\",\"automargin\":true,\"zerolinewidth\":2},\"yaxis\":{\"gridcolor\":\"white\",\"linecolor\":\"white\",\"ticks\":\"\",\"title\":{\"standoff\":15},\"zerolinecolor\":\"white\",\"automargin\":true,\"zerolinewidth\":2},\"scene\":{\"xaxis\":{\"backgroundcolor\":\"#E5ECF6\",\"gridcolor\":\"white\",\"linecolor\":\"white\",\"showbackground\":true,\"ticks\":\"\",\"zerolinecolor\":\"white\",\"gridwidth\":2},\"yaxis\":{\"backgroundcolor\":\"#E5ECF6\",\"gridcolor\":\"white\",\"linecolor\":\"white\",\"showbackground\":true,\"ticks\":\"\",\"zerolinecolor\":\"white\",\"gridwidth\":2},\"zaxis\":{\"backgroundcolor\":\"#E5ECF6\",\"gridcolor\":\"white\",\"linecolor\":\"white\",\"showbackground\":true,\"ticks\":\"\",\"zerolinecolor\":\"white\",\"gridwidth\":2}},\"shapedefaults\":{\"line\":{\"color\":\"#2a3f5f\"}},\"annotationdefaults\":{\"arrowcolor\":\"#2a3f5f\",\"arrowhead\":0,\"arrowwidth\":1},\"geo\":{\"bgcolor\":\"white\",\"landcolor\":\"#E5ECF6\",\"subunitcolor\":\"white\",\"showland\":true,\"showlakes\":true,\"lakecolor\":\"white\"},\"title\":{\"x\":0.05},\"mapbox\":{\"style\":\"light\"}}},\"mapbox\":{\"style\":\"open-street-map\",\"center\":{\"lat\":38.87015693087483,\"lon\":-76.98232892952345},\"zoom\":10},\"title\":{\"text\":\"paths<br>Feeder on the map\"},\"showlegend\":false,\"margin\":{\"r\":0,\"t\":0,\"l\":0,\"b\":0},\"height\":700},                        {\"responsive\": true}                    ).then(function(){\n",
       "                            \n",
       "var gd = document.getElementById('22085f3d-094a-45b0-b0f1-7f3633e378ed');\n",
       "var x = new MutationObserver(function (mutations, observer) {{\n",
       "        var display = window.getComputedStyle(gd).display;\n",
       "        if (!display || display === 'none') {{\n",
       "            console.log([gd, 'removed!']);\n",
       "            Plotly.purge(gd);\n",
       "            observer.disconnect();\n",
       "        }}\n",
       "}});\n",
       "\n",
       "// Listen for the removal of the full notebook cells\n",
       "var notebookContainer = gd.closest('#notebook-container');\n",
       "if (notebookContainer) {{\n",
       "    x.observe(notebookContainer, {childList: true});\n",
       "}}\n",
       "\n",
       "// Listen for the clearing of the current output cell\n",
       "var outputEl = gd.closest('.output');\n",
       "if (outputEl) {{\n",
       "    x.observe(outputEl, {childList: true});\n",
       "}}\n",
       "\n",
       "                        })                };                });            </script>        </div>"
      ]
     },
     "metadata": {},
     "output_type": "display_data"
    }
   ],
   "source": [
    "import pandas as pd\n",
    "import numpy as np\n",
    "\n",
    "feeder = pd.read_csv(foldername + \"Feeder_\"+feedername+\"_Bus_coordinates_no_sw.csv\")\n",
    "se_re_lon_lat = pd.read_csv(foldername + \"se_re_lon_lat_nosw.csv\")\n",
    "\n",
    "\n",
    "import plotly.graph_objects as go\n",
    "fig = go.Figure()\n",
    "fig.add_trace(go.Scattermapbox(lat=feeder[\"Latitude\"], lon=feeder[\"Longitude\"],\n",
    "    mode = \"markers\", \n",
    "    marker = {'size': 10, 'color': \"fuchsia\",},\n",
    "    hoverinfo = 'text',\n",
    "    text = feeder[\"Bus_ID\"],\n",
    "                              ))\n",
    "\n",
    "for i in range(len(se_re_lon_lat[\"se_lon\"])):\n",
    "    fig.add_trace(\n",
    "        go.Scattermapbox(\n",
    "            lon = [se_re_lon_lat[\"se_lon\"][i], se_re_lon_lat[\"re_lon\"][i]],\n",
    "            lat = [se_re_lon_lat[\"se_lat\"][i], se_re_lon_lat[\"re_lat\"][i]],\n",
    "            mode = 'lines',\n",
    "            line = dict(width = 1, color = 'blue')\n",
    "        ))\n",
    "    \n",
    "\n",
    "# getting center for plots:\n",
    "lat_center = np.mean(feeder[\"Latitude\"])\n",
    "long_center = np.mean(feeder[\"Longitude\"])\n",
    "\n",
    "fig.update_layout(mapbox_style=\"open-street-map\",\n",
    "                  showlegend = False,\n",
    "                  title_text = 'paths<br>Feeder on the map',)\n",
    "fig.update_layout(margin={\"r\":0,\"t\":0,\"l\":0,\"b\":0})\n",
    "fig.update_layout(mapbox = {'zoom': 10, 'center': {'lat': lat_center, \n",
    "                          'lon': long_center},}, height=700)\n",
    "\n",
    "fig.show()"
   ]
  },
  {
   "cell_type": "code",
   "execution_count": 212,
   "metadata": {},
   "outputs": [
    {
     "data": {
      "text/plain": [
       "[94]"
      ]
     },
     "execution_count": 212,
     "metadata": {},
     "output_type": "execute_result"
    }
   ],
   "source": [
    "[len(c) for c in sorted(nx.connected_components(g), key=len, reverse=True)]"
   ]
  },
  {
   "cell_type": "code",
   "execution_count": null,
   "metadata": {},
   "outputs": [],
   "source": []
  }
 ],
 "metadata": {
  "kernelspec": {
   "display_name": "ExelonVTO",
   "language": "python",
   "name": "exelonvto"
  },
  "language_info": {
   "codemirror_mode": {
    "name": "ipython",
    "version": 3
   },
   "file_extension": ".py",
   "mimetype": "text/x-python",
   "name": "python",
   "nbconvert_exporter": "python",
   "pygments_lexer": "ipython3",
   "version": "3.9.12"
  }
 },
 "nbformat": 4,
 "nbformat_minor": 2
}
