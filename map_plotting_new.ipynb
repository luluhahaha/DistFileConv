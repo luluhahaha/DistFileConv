{
 "cells": [
  {
   "cell_type": "code",
   "execution_count": 33,
   "metadata": {},
   "outputs": [],
   "source": [
    "# foldername = \"Data/BGE/selected_10_feeders/Feeder_7361/\"\n",
    "# feedername = \"7361\"\n",
    "\n",
    "foldername = \"Data/PHI/Feeder_14187-livingston/\"\n",
    "feedername = \"14187-livingston\"\n",
    "\n",
    "with open(foldername + 'Lines.dss') as f:\n",
    "    lines = f.readlines()\n",
    "\n",
    "with open(foldername + 'Loads.dss') as f:\n",
    "    loads = f.readlines()\n",
    "\n",
    "with open(foldername + 'Transformers.dss') as f:\n",
    "    trafo = f.readlines()\n",
    "\n",
    "with open(foldername+'Capacitors.dss') as f:\n",
    "    caps = f.readlines()\n",
    "\n",
    "with open(foldername + 'Buscoords.dss') as f:\n",
    "    buscoord = f.readlines()\n",
    "    \n",
    "\n",
    "# Line buses\n",
    "line_se = []\n",
    "line_re = []\n",
    "\n",
    "for i in range(0, len(lines), 2):\n",
    "    stri = lines[i]\n",
    "\n",
    "    if stri[4:8] == 'Line':\n",
    "        idx1 = stri.index('bus1')  # index of bus 1\n",
    "        idx2 = stri.index('bus2')  # index of bus 2\n",
    "        idx3 = stri.index('switch')  # index of switch\n",
    "        bus1_name = stri[idx1 + 5:idx2 - 1]\n",
    "        bus2_name = stri[idx2 + 5:idx3 - 1]\n",
    "        line_se.append(bus1_name)\n",
    "        line_re.append(bus2_name)\n",
    "        \n",
    "        \n",
    "        \n",
    "# Tranformer buses\n",
    "trafo_se = []\n",
    "trafo_re = []\n",
    "\n",
    "for i in range(0, len(trafo), 2):\n",
    "    if trafo[i][0:25] == 'New Transformer.trans_Reg': #Regulator branches\n",
    "        stri = trafo[i]\n",
    "        idx1 = stri.index('buses') #index of bus 1\n",
    "        idx2 = stri.index('(', idx1+1) #index of bus 2\n",
    "        idx3 = stri.index(',', idx2+1) #index of winding\n",
    "        idx4 = stri.index(')', idx3+1)  # index of winding\n",
    "        bus1_name = stri[idx2+1:idx3-2]\n",
    "        bus2_name = stri[idx3+1:idx4-2]\n",
    "        trafo_se.append(bus1_name)\n",
    "        trafo_se.append(bus2_name)\n",
    "        \n",
    "    else: \n",
    "        stri = trafo[i]\n",
    "        idx1 = stri.index('bus') #index of bus 1\n",
    "        idx2 = stri.index('bus', idx1+1) #index of bus 2\n",
    "        idx3 = stri.index('wdg=2') #index of winding\n",
    "        idx4 = stri.index('XHL')  # index of winding\n",
    "        bus1_name = stri[idx1+4:idx3-1]\n",
    "        bus2_name = stri[idx2+4:idx4-1]\n",
    "        trafo_se.append(bus1_name)\n",
    "        trafo_se.append(bus2_name)\n",
    "    \n",
    "    \n",
    "\n",
    "    # Load buses\n",
    "load_bus_list = []\n",
    "for i in range(0, len(loads), 2):\n",
    "    stri = loads[i]\n",
    "    idx1 = stri.index('bus1')  # index of bus 1\n",
    "    idx2 = stri.index(' ', idx1+1)\n",
    "    load_bus = stri[idx1 + 5:idx2 - 2]\n",
    "    load_bus_list.append(load_bus)\n",
    "    \n",
    "\n",
    "    # Cap buses\n",
    "cap_bus_list = []\n",
    "for i in range(0, len(caps), 2):\n",
    "    stri = caps[i]\n",
    "    idx1 = stri.index('Bus1')  # index of bus 1\n",
    "    idx2 = stri.index('phases')\n",
    "    cap_bus = stri[idx1 + 5:idx2 - 1]\n",
    "    cap_bus_list.append(cap_bus)\n",
    "    \n",
    "    \n",
    "\n",
    "bus_list = line_se + line_re + trafo_se + trafo_re + load_bus_list + cap_bus_list\n",
    "\n",
    "# Bus coordinates\n",
    "bus_coord_list = []\n",
    "for i in range(0, len(buscoord), 1):\n",
    "    stri = buscoord[i]\n",
    "    idx1 = stri.index(' ')  # index of bus 1\n",
    "    bus_coord = stri[0:idx1]\n",
    "    bus_coord_list.append(bus_coord)"
   ]
  },
  {
   "cell_type": "code",
   "execution_count": 34,
   "metadata": {},
   "outputs": [],
   "source": [
    "# Eliminating phasing (.1.2.3) from bus list to make it comparable to bus coordinates files\n",
    "new_bus_list = []\n",
    "\n",
    "for s in bus_list:\n",
    "    length = len(s)\n",
    "\n",
    "    if s[length - 12:] == '.1.2.3.1.2.3':\n",
    "        n = length - 1\n",
    "        replacement = ''\n",
    "        res_str = s[0:n - 11] + replacement\n",
    "        new_bus_list.append(res_str)\n",
    "\n",
    "    elif s[length - 12:] == '.1.2.3.3.1.2':\n",
    "        n = length - 1\n",
    "        replacement = ''\n",
    "        res_str = s[0:n - 11] + replacement\n",
    "        new_bus_list.append(res_str)\n",
    "\n",
    "    elif s[length - 12:] == '.1.2.3.2.1.3':\n",
    "        n = length - 1\n",
    "        replacement = ''\n",
    "        res_str = s[0:n - 11] + replacement\n",
    "        new_bus_list.append(res_str)\n",
    "\n",
    "    elif s[length - 12:] == '.3.1.2.1.2.3':\n",
    "        n = length - 1\n",
    "        replacement = ''\n",
    "        res_str = s[0:n - 11] + replacement\n",
    "        new_bus_list.append(res_str)\n",
    "\n",
    "    elif s[length - 12:] == '.2.1.3.1.2.3':\n",
    "        n = length - 1\n",
    "        replacement = ''\n",
    "        res_str = s[0:n - 11] + replacement\n",
    "        new_bus_list.append(res_str)\n",
    "\n",
    "    elif s[length - 6:] == '.1.2.3':\n",
    "        n = length - 1\n",
    "        replacement = ''\n",
    "        res_str = s[0:n - 5] + replacement\n",
    "        new_bus_list.append(res_str)\n",
    "\n",
    "    elif s[length - 6:] == '.1.3.2':\n",
    "        n = length - 1\n",
    "        replacement = ''\n",
    "        res_str = s[0:n - 5] + replacement\n",
    "        new_bus_list.append(res_str)\n",
    "\n",
    "    elif s[length - 6:] == '.3.2.1':\n",
    "        n = length - 1\n",
    "        replacement = ''\n",
    "        res_str = s[0:n - 5] + replacement\n",
    "        new_bus_list.append(res_str)\n",
    "\n",
    "    elif s[length - 6:] == '.3.1.2':\n",
    "        n = length - 1\n",
    "        replacement = ''\n",
    "        res_str = s[0:n - 5] + replacement\n",
    "        new_bus_list.append(res_str)\n",
    "\n",
    "\n",
    "    elif s[length - 6:] == '.2.3.1':\n",
    "        n = length - 1\n",
    "        replacement = ''\n",
    "        res_str = s[0:n - 5] + replacement\n",
    "        new_bus_list.append(res_str)\n",
    "\n",
    "    elif s[length - 6:] == '.2.1.3':\n",
    "        n = length - 1\n",
    "        replacement = ''\n",
    "        res_str = s[0:n - 5] + replacement\n",
    "        new_bus_list.append(res_str)\n",
    "\n",
    "    elif s[length - 4:] == '.1.1':\n",
    "        n = length - 1\n",
    "        replacement = ''\n",
    "        res_str = s[0:n - 3] + replacement\n",
    "        new_bus_list.append(res_str)\n",
    "\n",
    "    elif s[length - 4:] == '.1.3':\n",
    "        n = length - 1\n",
    "        replacement = ''\n",
    "        res_str = s[0:n - 3] + replacement\n",
    "        new_bus_list.append(res_str)\n",
    "\n",
    "    elif s[length - 4:] == '.1.2':\n",
    "        n = length - 1\n",
    "        replacement = ''\n",
    "        res_str = s[0:n - 3] + replacement\n",
    "        new_bus_list.append(res_str)\n",
    "\n",
    "    elif s[length - 4:] == '.2.1':\n",
    "        n = length - 1\n",
    "        replacement = ''\n",
    "        res_str = s[0:n - 3] + replacement\n",
    "        new_bus_list.append(res_str)\n",
    "\n",
    "    elif s[length - 4:] == '.2.2':\n",
    "        n = length - 1\n",
    "        replacement = ''\n",
    "        res_str = s[0:n - 3] + replacement\n",
    "        new_bus_list.append(res_str)\n",
    "\n",
    "    elif s[length - 4:] == '.2.3':\n",
    "        n = length - 1\n",
    "        replacement = ''\n",
    "        res_str = s[0:n - 3] + replacement\n",
    "        new_bus_list.append(res_str)\n",
    "\n",
    "    elif s[length - 4:] == '.3.1':\n",
    "        n = length - 1\n",
    "        replacement = ''\n",
    "        res_str = s[0:n - 3] + replacement\n",
    "        new_bus_list.append(res_str)\n",
    "\n",
    "    elif s[length - 4:] == '.3.2':\n",
    "        n = length - 1\n",
    "        replacement = ''\n",
    "        res_str = s[0:n - 3] + replacement\n",
    "        new_bus_list.append(res_str)\n",
    "\n",
    "    elif s[length - 4:] == '.3.3':\n",
    "        n = length - 1\n",
    "        replacement = ''\n",
    "        res_str = s[0:n - 3] + replacement\n",
    "        new_bus_list.append(res_str)\n",
    "\n",
    "    elif s[length - 2:] == '.1':\n",
    "        n = length - 1\n",
    "        replacement = ''\n",
    "        res_str = s[0:n - 1] + replacement\n",
    "        new_bus_list.append(res_str)\n",
    "\n",
    "    elif s[length - 2:] == '.2':\n",
    "        n = length - 1\n",
    "        replacement = ''\n",
    "        res_str = s[0:n - 1] + replacement\n",
    "        new_bus_list.append(res_str)\n",
    "\n",
    "    elif s[length - 2:] == '.3':\n",
    "        n = length - 1\n",
    "        replacement = ''\n",
    "        res_str = s[0:n - 1] + replacement\n",
    "        new_bus_list.append(res_str)\n",
    "\n",
    "    else:\n",
    "        new_bus_list.append(s)\n",
    "\n",
    "# # First convert buscoords list to uppercase\n",
    "upper_bus_coords = []\n",
    "for s in bus_coord_list:\n",
    "    caps = s.upper()\n",
    "    # print(f'upper case is written as {caps}')\n",
    "    upper_bus_coords.append(caps)\n",
    "\n",
    "# convert bus list to uppercase\n",
    "upper_bus_list = []\n",
    "for s in new_bus_list:\n",
    "    caps = s.upper()\n",
    "    # print(f'upper case is written as {caps}')\n",
    "    upper_bus_list.append(caps)\n",
    "\n",
    "real_bus_set = set(upper_bus_list)  # unique bus list in uppercase\n",
    "real_bus_list = list(real_bus_set)\n",
    "\n",
    "\n",
    "# Checking which buses do not have coordinates\n",
    "res = [x for x in real_bus_list + upper_bus_coords if x not in upper_bus_coords]\n",
    "\n",
    "# Checking redundant buses which have buscoords\n",
    "redundant = [x for x in real_bus_list + upper_bus_coords if x not in real_bus_list]\n"
   ]
  },
  {
   "cell_type": "code",
   "execution_count": 35,
   "metadata": {},
   "outputs": [],
   "source": [
    "import pyproj\n",
    "\n",
    "real_bus_coords = []\n",
    "for r in range(0, len(real_bus_list)):\n",
    "    if real_bus_list[r] in upper_bus_coords:\n",
    "        temp = upper_bus_coords.index(real_bus_list[r])\n",
    "        real_bus_coords.append(buscoord[temp])\n",
    "        \n",
    "        \n",
    "        \n",
    "bus_list = []\n",
    "x_list = []\n",
    "y_list = []\n",
    "lat_list = []\n",
    "lon_list = []\n",
    "buscoord_lon_lat = []\n",
    "for i in range(0, len(real_bus_coords), 1):\n",
    "    stri = real_bus_coords[i]\n",
    "    idx1 = stri.index(' ')\n",
    "    idx2 = stri.index(' ', idx1 + 1)\n",
    "    x_temp = float(stri[idx1+1:idx2])\n",
    "    y_temp = float(stri[idx2 + 1:len(stri)-1])\n",
    "    x_list.append(x_temp)\n",
    "    y_list.append(y_temp)\n",
    "    # Maryland\n",
    "    transformer = pyproj.Transformer.from_crs(\"epsg:2804\", \"epsg:4326\", always_xy=True)\n",
    "    # https://www.spatialreference.org/ref/?search=2804&srtext=Search\n",
    "    # I used this to look up the projection with reference to Maryland coordinate system\n",
    "    x2, y2 = transformer.transform(x_temp, y_temp)\n",
    "    bus_list.append(stri[0:idx1])\n",
    "    lon_list.append(x2)\n",
    "    lat_list.append(y2)\n",
    "    buscoord_lon_lat.append([stri[0:idx1], x2, y2]) \n",
    "    \n",
    "    \n",
    "## Writing to an CSV file using Python\n",
    "import csv\n",
    "\n",
    "with open(foldername +'Bus_coordinates.csv', mode='w', newline= '') as file:\n",
    "    writer = csv.writer(file)\n",
    "    writer.writerow(['Bus_ID', 'Longitude', 'Latitude'])\n",
    "    for i in range(0, len(bus_list)):\n",
    "        writer.writerow([bus_list[i], lon_list[i], lat_list[i]])"
   ]
  },
  {
   "cell_type": "code",
   "execution_count": 36,
   "metadata": {},
   "outputs": [],
   "source": [
    "# This constructs a graph to show the connection of the feeder\n",
    "# The main files used are the series elements consisting of the lines and transformers\n",
    "\n",
    "\n",
    "with open(foldername +'Lines.dss') as f:\n",
    "    lines = f.readlines()\n",
    "\n",
    "with open(foldername +'Transformers.dss') as f:\n",
    "    trafo = f.readlines()\n",
    "    \n",
    "se = []\n",
    "re = []\n",
    "\n",
    "for i in range(0, len(lines), 2):\n",
    "    stri = lines[i]\n",
    "\n",
    "    if stri[4:8] == 'Line':\n",
    "        idx0 = stri.index('enabled=')\n",
    "        if stri[idx0:idx0+9] == 'enabled=y':\n",
    "            idx1 = stri.index('bus1') #index of bus 1\n",
    "            idx2 = stri.index('bus2') #index of bus 2\n",
    "            idx3 = stri.index('switch') #index of switch\n",
    "            bus1_name = stri[idx1+5:idx2-1]\n",
    "            bus2_name = stri[idx2+5:idx3-1]\n",
    "            se.append(bus1_name)\n",
    "            re.append(bus2_name)    \n",
    "            \n",
    "            \n",
    "# Extracting the transformers' primary and secondary buses\n",
    "for i in range(0, len(trafo), 2):\n",
    "    if trafo[i][0:25] == 'New Transformer.trans_Reg': #Regulator branches\n",
    "        stri = trafo[i]\n",
    "        idx1 = stri.index('buses') #index of bus 1\n",
    "        idx2 = stri.index('(', idx1+1) #index of bus 2\n",
    "        idx3 = stri.index(',', idx2+1) #index of winding\n",
    "        idx4 = stri.index(')', idx3+1)  # index of winding\n",
    "        bus1_name = stri[idx2+1:idx3-2]\n",
    "        bus2_name = stri[idx3+1:idx4-2]\n",
    "        se.append(bus1_name)\n",
    "        re.append(bus2_name)\n",
    "        \n",
    "    else: \n",
    "        stri = trafo[i]\n",
    "        idx1 = stri.index('bus') #index of bus 1\n",
    "        idx2 = stri.index('bus', idx1+1) #index of bus 2\n",
    "        idx3 = stri.index('wdg=2') #index of winding\n",
    "        idx4 = stri.index('XHL')  # index of winding\n",
    "        bus1_name = stri[idx1+4:idx3-1]\n",
    "        bus2_name = stri[idx2+4:idx4-1]\n",
    "        se.append(bus1_name)\n",
    "        re.append(bus2_name)"
   ]
  },
  {
   "cell_type": "code",
   "execution_count": 37,
   "metadata": {},
   "outputs": [
    {
     "name": "stdout",
     "output_type": "stream",
     "text": [
      "1075469_504_14121112_472.1.2.3 804377-240160-163153.1.2.3\n",
      "1076249_337_14122324_968.1.2.3 804378-951371-159459.1.2.3\n",
      "1076518_288_14122395_642.1.2.3 805378-240460-164130.1.2.3\n",
      "1076518_288_14122395_642.1.2.3 805378-240460-269585.1.2.3\n",
      "804378-500220-3-476757.1.2.3 1075769_156_14122155_934.1.2.3\n",
      "806379-410300-3-477274.1.2.3 1077699_115_14123209_331.1.2.3\n",
      "805378-240460-164130.1.2.3 806379-410300-3-477274.1.2.3\n",
      "1076119_659_14122484_344.1.2.3 804378-770504-3-482614.1.2.3\n",
      "1076217_002_14122320_729.1.2.3 1076119_659_14122484_344.1.2.3\n",
      "804378-951371-159459.1.2.3 1076217_002_14122320_729.1.2.3\n",
      "804378-770504-3-482614.1.2.3 1076044_02_14122433_699.1.2.3\n",
      "1075769_156_14122155_934.1.2.3 1075767_957_14122158_457.1.2.3\n",
      "1076044_02_14122433_699.1.2.3 1076043_456_14122436_438.1.2.3\n",
      "1077699_115_14123209_331.1.2.3 1077700_556_14123211_727.1.2.3\n",
      "1076208_407_14122315_617.1.2.3 804378-500220-3-476757.1.2.3\n",
      "1076217_002_14122320_729.1.2.3 1076208_407_14122315_617.1.2.3\n",
      "List of duplicates []\n",
      "Unique Item List [['1075469_504_14121112_472.1.2.3', '804377-240160-163153.1.2.3'], ['1076249_337_14122324_968.1.2.3', '804378-951371-159459.1.2.3'], ['1076518_288_14122395_642.1.2.3', '805378-240460-164130.1.2.3'], ['1076518_288_14122395_642.1.2.3', '805378-240460-269585.1.2.3'], ['804378-500220-3-476757.1.2.3', '1075769_156_14122155_934.1.2.3'], ['806379-410300-3-477274.1.2.3', '1077699_115_14123209_331.1.2.3'], ['805378-240460-164130.1.2.3', '806379-410300-3-477274.1.2.3'], ['1076119_659_14122484_344.1.2.3', '804378-770504-3-482614.1.2.3'], ['1076217_002_14122320_729.1.2.3', '1076119_659_14122484_344.1.2.3'], ['804378-951371-159459.1.2.3', '1076217_002_14122320_729.1.2.3'], ['804378-770504-3-482614.1.2.3', '1076044_02_14122433_699.1.2.3'], ['1075769_156_14122155_934.1.2.3', '1075767_957_14122158_457.1.2.3'], ['1076044_02_14122433_699.1.2.3', '1076043_456_14122436_438.1.2.3'], ['1077699_115_14123209_331.1.2.3', '1077700_556_14123211_727.1.2.3'], ['1076208_407_14122315_617.1.2.3', '804378-500220-3-476757.1.2.3'], ['1076217_002_14122320_729.1.2.3', '1076208_407_14122315_617.1.2.3']]\n"
     ]
    }
   ],
   "source": [
    "# Checking for duplicate series elements (in lines and trafo)\n",
    "news = []\n",
    "for i in range(len(se)):\n",
    "    print(se[i], re[i])\n",
    "    temp = [se[i], re[i]]\n",
    "    news.append(temp)\n",
    "\n",
    "unique_elements = [] # empty list to hold unique elements from the list\n",
    "dup_elements = [] # empty list to hold the duplicate elements from the list\n",
    "for i in news:\n",
    "    if i not in unique_elements:\n",
    "        unique_elements.append(i)\n",
    "    else:\n",
    "        dup_elements.append(i) # this method catches the first duplicate entries, and appends them to the list\n",
    "# The next step is to print the duplicate entries, and the unique entries\n",
    "print(\"List of duplicates\", dup_elements)\n",
    "print(\"Unique Item List\", unique_elements) # prints the final list of unique items\n"
   ]
  },
  {
   "cell_type": "code",
   "execution_count": 38,
   "metadata": {},
   "outputs": [],
   "source": [
    "\n",
    "# The goal is to plot the graph of all the buses\n",
    "# Hence it is necessary to remove the phasing information i.e. '.1.2.3'\n",
    "se_wo_phs = []\n",
    "for s in se:\n",
    "    length = len(s)\n",
    "\n",
    "    if s[length - 12:] == '.1.2.3.1.2.3':\n",
    "        n = length - 1\n",
    "        replacement = ''\n",
    "        res_str = s[0:n - 11] + replacement\n",
    "        se_wo_phs.append(res_str)\n",
    "\n",
    "    elif s[length - 12:] == '.1.2.3.3.1.2':\n",
    "        n = length - 1\n",
    "        replacement = ''\n",
    "        res_str = s[0:n - 11] + replacement\n",
    "        se_wo_phs.append(res_str)\n",
    "\n",
    "    elif s[length - 12:] == '.1.2.3.2.1.3':\n",
    "        n = length - 1\n",
    "        replacement = ''\n",
    "        res_str = s[0:n - 11] + replacement\n",
    "        se_wo_phs.append(res_str)\n",
    "\n",
    "    elif s[length - 12:] == '.3.1.2.1.2.3':\n",
    "        n = length - 1\n",
    "        replacement = ''\n",
    "        res_str = s[0:n - 11] + replacement\n",
    "        se_wo_phs.append(res_str)\n",
    "\n",
    "    elif s[length - 12:] == '.2.1.3.1.2.3':\n",
    "        n = length - 1\n",
    "        replacement = ''\n",
    "        res_str = s[0:n - 11] + replacement\n",
    "        se_wo_phs.append(res_str)\n",
    "\n",
    "    elif s[length - 6:] == '.1.2.3':\n",
    "        n = length - 1\n",
    "        replacement = ''\n",
    "        res_str = s[0:n - 5] + replacement\n",
    "        se_wo_phs.append(res_str)\n",
    "\n",
    "    elif s[length - 6:] == '.1.3.2':\n",
    "        n = length - 1\n",
    "        replacement = ''\n",
    "        res_str = s[0:n - 5] + replacement\n",
    "        se_wo_phs.append(res_str)\n",
    "\n",
    "    elif s[length - 6:] == '.3.2.1':\n",
    "        n = length - 1\n",
    "        replacement = ''\n",
    "        res_str = s[0:n - 5] + replacement\n",
    "        se_wo_phs.append(res_str)\n",
    "\n",
    "    elif s[length - 6:] == '.3.1.2':\n",
    "        n = length - 1\n",
    "        replacement = ''\n",
    "        res_str = s[0:n - 5] + replacement\n",
    "        se_wo_phs.append(res_str)\n",
    "\n",
    "    elif s[length - 6:] == '.2.3.1':\n",
    "        n = length - 1\n",
    "        replacement = ''\n",
    "        res_str = s[0:n - 5] + replacement\n",
    "        se_wo_phs.append(res_str)\n",
    "\n",
    "    elif s[length - 6:] == '.2.1.3':\n",
    "        n = length - 1\n",
    "        replacement = ''\n",
    "        res_str = s[0:n - 5] + replacement\n",
    "        se_wo_phs.append(res_str)\n",
    "\n",
    "    elif s[length - 4:] == '.1.1':\n",
    "        n = length - 1\n",
    "        replacement = ''\n",
    "        res_str = s[0:n - 3] + replacement\n",
    "        se_wo_phs.append(res_str)\n",
    "\n",
    "    elif s[length - 4:] == '.1.3':\n",
    "        n = length - 1\n",
    "        replacement = ''\n",
    "        res_str = s[0:n - 3] + replacement\n",
    "        se_wo_phs.append(res_str)\n",
    "\n",
    "    elif s[length - 4:] == '.1.2':\n",
    "        n = length - 1\n",
    "        replacement = ''\n",
    "        res_str = s[0:n - 3] + replacement\n",
    "        se_wo_phs.append(res_str)\n",
    "\n",
    "    elif s[length - 4:] == '.2.1':\n",
    "        n = length - 1\n",
    "        replacement = ''\n",
    "        res_str = s[0:n - 3] + replacement\n",
    "        se_wo_phs.append(res_str)\n",
    "\n",
    "    elif s[length - 4:] == '.2.2':\n",
    "        n = length - 1\n",
    "        replacement = ''\n",
    "        res_str = s[0:n - 3] + replacement\n",
    "        se_wo_phs.append(res_str)\n",
    "\n",
    "    elif s[length - 4:] == '.2.3':\n",
    "        n = length - 1\n",
    "        replacement = ''\n",
    "        res_str = s[0:n - 3] + replacement\n",
    "        se_wo_phs.append(res_str)\n",
    "\n",
    "    elif s[length - 4:] == '.3.1':\n",
    "        n = length - 1\n",
    "        replacement = ''\n",
    "        res_str = s[0:n - 3] + replacement\n",
    "        se_wo_phs.append(res_str)\n",
    "\n",
    "    elif s[length - 4:] == '.3.2':\n",
    "        n = length - 1\n",
    "        replacement = ''\n",
    "        res_str = s[0:n - 3] + replacement\n",
    "        se_wo_phs.append(res_str)\n",
    "\n",
    "    elif s[length - 4:] == '.3.3':\n",
    "        n = length - 1\n",
    "        replacement = ''\n",
    "        res_str = s[0:n - 3] + replacement\n",
    "        se_wo_phs.append(res_str)\n",
    "\n",
    "    elif s[length - 2:] == '.1':\n",
    "        n = length - 1\n",
    "        replacement = ''\n",
    "        res_str = s[0:n - 1] + replacement\n",
    "        se_wo_phs.append(res_str)\n",
    "\n",
    "    elif s[length - 2:] == '.2':\n",
    "        n = length - 1\n",
    "        replacement = ''\n",
    "        res_str = s[0:n - 1] + replacement\n",
    "        se_wo_phs.append(res_str)\n",
    "\n",
    "    elif s[length - 2:] == '.3':\n",
    "        n = length - 1\n",
    "        replacement = ''\n",
    "        res_str = s[0:n - 1] + replacement\n",
    "        se_wo_phs.append(res_str)\n",
    "\n",
    "    else:\n",
    "        se_wo_phs.append(s)\n",
    "\n",
    "\n",
    "\n",
    "re_wo_phs = []\n",
    "for r in re:\n",
    "    length = len(r)\n",
    "\n",
    "    if r[length - 12:] == '.1.2.3.1.2.3':\n",
    "        n = length - 1\n",
    "        replacement = ''\n",
    "        res_str = r[0:n - 11] + replacement\n",
    "        re_wo_phs.append(res_str)\n",
    "\n",
    "    elif r[length - 12:] == '.1.2.3.3.1.2':\n",
    "        n = length - 1\n",
    "        replacement = ''\n",
    "        res_str = r[0:n - 11] + replacement\n",
    "        re_wo_phs.append(res_str)\n",
    "\n",
    "    elif r[length - 12:] == '.1.2.3.2.1.3':\n",
    "        n = length - 1\n",
    "        replacement = ''\n",
    "        res_str = r[0:n - 11] + replacement\n",
    "        re_wo_phs.append(res_str)\n",
    "\n",
    "    elif r[length - 12:] == '.3.1.2.1.2.3':\n",
    "        n = length - 1\n",
    "        replacement = ''\n",
    "        res_str = r[0:n - 11] + replacement\n",
    "        re_wo_phs.append(res_str)\n",
    "\n",
    "    elif r[length - 12:] == '.2.1.3.1.2.3':\n",
    "        n = length - 1\n",
    "        replacement = ''\n",
    "        res_str = r[0:n - 11] + replacement\n",
    "        re_wo_phs.append(res_str)\n",
    "\n",
    "    elif r[length - 6:] == '.1.2.3':\n",
    "        n = length - 1\n",
    "        replacement = ''\n",
    "        res_str = r[0:n - 5] + replacement\n",
    "        re_wo_phs.append(res_str)\n",
    "\n",
    "    elif r[length - 6:] == '.1.3.2':\n",
    "        n = length - 1\n",
    "        replacement = ''\n",
    "        res_str = r[0:n - 5] + replacement\n",
    "        re_wo_phs.append(res_str)\n",
    "\n",
    "    elif r[length - 6:] == '.3.2.1':\n",
    "        n = length - 1\n",
    "        replacement = ''\n",
    "        res_str = r[0:n - 5] + replacement\n",
    "        re_wo_phs.append(res_str)\n",
    "\n",
    "    elif r[length - 6:] == '.3.1.2':\n",
    "        n = length - 1\n",
    "        replacement = ''\n",
    "        res_str = r[0:n - 5] + replacement\n",
    "        re_wo_phs.append(res_str)\n",
    "\n",
    "\n",
    "    elif r[length - 6:] == '.2.3.1':\n",
    "        n = length - 1\n",
    "        replacement = ''\n",
    "        res_str = r[0:n - 5] + replacement\n",
    "        re_wo_phs.append(res_str)\n",
    "\n",
    "    elif r[length - 6:] == '.2.1.3':\n",
    "        n = length - 1\n",
    "        replacement = ''\n",
    "        res_str = r[0:n - 5] + replacement\n",
    "        re_wo_phs.append(res_str)\n",
    "\n",
    "    elif r[length - 4:] == '.1.1':\n",
    "        n = length - 1\n",
    "        replacement = ''\n",
    "        res_str = r[0:n - 3] + replacement\n",
    "        re_wo_phs.append(res_str)\n",
    "\n",
    "    elif r[length - 4:] == '.1.3':\n",
    "        n = length - 1\n",
    "        replacement = ''\n",
    "        res_str = r[0:n - 3] + replacement\n",
    "        re_wo_phs.append(res_str)\n",
    "\n",
    "    elif r[length - 4:] == '.1.2':\n",
    "        n = length - 1\n",
    "        replacement = ''\n",
    "        res_str = r[0:n - 3] + replacement\n",
    "        re_wo_phs.append(res_str)\n",
    "\n",
    "    elif r[length - 4:] == '.2.1':\n",
    "        n = length - 1\n",
    "        replacement = ''\n",
    "        res_str = r[0:n - 3] + replacement\n",
    "        re_wo_phs.append(res_str)\n",
    "\n",
    "    elif r[length - 4:] == '.2.2':\n",
    "        n = length - 1\n",
    "        replacement = ''\n",
    "        res_str = r[0:n - 3] + replacement\n",
    "        re_wo_phs.append(res_str)\n",
    "\n",
    "    elif r[length - 4:] == '.2.3':\n",
    "        n = length - 1\n",
    "        replacement = ''\n",
    "        res_str = r[0:n - 3] + replacement\n",
    "        re_wo_phs.append(res_str)\n",
    "\n",
    "    elif r[length - 4:] == '.3.1':\n",
    "        n = length - 1\n",
    "        replacement = ''\n",
    "        res_str = r[0:n - 3] + replacement\n",
    "        re_wo_phs.append(res_str)\n",
    "\n",
    "    elif r[length - 4:] == '.3.2':\n",
    "        n = length - 1\n",
    "        replacement = ''\n",
    "        res_str = r[0:n - 3] + replacement\n",
    "        re_wo_phs.append(res_str)\n",
    "\n",
    "    elif r[length - 4:] == '.3.3':\n",
    "        n = length - 1\n",
    "        replacement = ''\n",
    "        res_str = r[0:n - 3] + replacement\n",
    "        re_wo_phs.append(res_str)\n",
    "\n",
    "    elif r[length - 2:] == '.1':\n",
    "        n = length - 1\n",
    "        replacement = ''\n",
    "        res_str = r[0:n - 1] + replacement\n",
    "        re_wo_phs.append(res_str)\n",
    "\n",
    "    elif r[length - 2:] == '.2':\n",
    "        n = length - 1\n",
    "        replacement = ''\n",
    "        res_str = r[0:n - 1] + replacement\n",
    "        re_wo_phs.append(res_str)\n",
    "\n",
    "    elif r[length - 2:] == '.3':\n",
    "        n = length - 1\n",
    "        replacement = ''\n",
    "        res_str = r[0:n - 1] + replacement\n",
    "        re_wo_phs.append(res_str)\n",
    "\n",
    "    else:\n",
    "        re_wo_phs.append(r)"
   ]
  },
  {
   "cell_type": "code",
   "execution_count": 39,
   "metadata": {},
   "outputs": [
    {
     "data": {
      "image/png": "[encoded data removed]",
      "text/plain": [
       "<Figure size 640x480 with 1 Axes>"
      ]
     },
     "metadata": {},
     "output_type": "display_data"
    },
    {
     "data": {
      "text/plain": [
       "False"
      ]
     },
     "execution_count": 39,
     "metadata": {},
     "output_type": "execute_result"
    }
   ],
   "source": [
    "# Plotting thee graph\n",
    "import networkx as nx\n",
    "import matplotlib.pyplot as plt\n",
    "\n",
    "g = nx.Graph()\n",
    "\n",
    "new = []\n",
    "for i in range(len(re_wo_phs)):\n",
    "    g.add_edge(se_wo_phs[i], re_wo_phs[i])\n",
    "#     print(se_wo_phs[i], re_wo_phs[i])\n",
    "    temp = [se_wo_phs[i], re_wo_phs[i]]\n",
    "    new.append(temp)\n",
    "    \n",
    "    \n",
    "color_map = ['red' if node == '20101100104-XFO' else 'green' for node in g]\n",
    "size_map = [50 if node == '20101100104-XFO' else 10 for node in g]\n",
    "# nx.draw(g, with_labels = True)\n",
    "nx.draw(g, node_size=size_map, node_color=color_map)\n",
    "plt.show()\n",
    "\n",
    "nx.is_connected(g)"
   ]
  },
  {
   "cell_type": "code",
   "execution_count": 40,
   "metadata": {},
   "outputs": [],
   "source": [
    "## Writing to an CSV file using Python\n",
    "import csv\n",
    "\n",
    "with open(foldername +'Feeder_' + feedername+'_Node_connections_wo_norm_open_sw.csv', mode='w', newline= '') as file:\n",
    "    writer = csv.writer(file)\n",
    "    writer.writerow(['From_node', 'To_node'])\n",
    "    for i in range(0, len(re_wo_phs)):\n",
    "        writer.writerow([se_wo_phs[i], re_wo_phs[i]])"
   ]
  },
  {
   "cell_type": "code",
   "execution_count": 41,
   "metadata": {},
   "outputs": [],
   "source": [
    "import pandas as pd\n",
    "\n",
    "import warnings\n",
    "warnings.simplefilter(action='ignore', category=FutureWarning)\n",
    "\n",
    "feeder = pd.read_csv(foldername+ \"Bus_coordinates.csv\")\n",
    "#se_re = pd.read_csv(\"./Feeder_7130_Node_connections_wo_norm_open_sw.csv\")\n",
    "se_re = pd.read_csv( foldername + 'Feeder_' + feedername +'_Node_connections_wo_norm_open_sw.csv')\n",
    "\n",
    "\n",
    "\n",
    "temp = list(feeder[\"Bus_ID\"])\n",
    "bus_ID_cap = []\n",
    "for s in temp:\n",
    "    caps = s.upper()\n",
    "    bus_ID_cap.append(caps)\n",
    "\n",
    "temp = list(se_re[\"From_node\"])\n",
    "se_cap = []\n",
    "for s in temp:\n",
    "    caps = s.upper()\n",
    "    se_cap.append(caps)\n",
    "\n",
    "\n",
    "temp = list(se_re[\"To_node\"])\n",
    "re_cap = []\n",
    "for r in temp:\n",
    "    caps = r.upper()\n",
    "    re_cap.append(caps)\n",
    "\n",
    "new_list=se_cap+re_cap\n",
    "\n",
    "unique_elements = [] # empty list to hold unique elements from the list\n",
    "dup_elements = [] # empty list to hold the duplicate elements from the list\n",
    "for i in new_list:\n",
    "    if i not in unique_elements:\n",
    "        unique_elements.append(i)\n",
    "    else:\n",
    "        dup_elements.append(i)\n",
    "\n",
    "\n",
    "busID_cap2 = []\n",
    "bus_lon = []\n",
    "bus_lat = []\n",
    "for u in unique_elements:\n",
    "    temp2 = bus_ID_cap.index(u)\n",
    "    if temp2 >=0:\n",
    "        lon = feeder[\"Longitude\"][temp2]\n",
    "        lat = feeder[\"Latitude\"][temp2]\n",
    "        busID_cap2.append(u)\n",
    "        bus_lon.append(lon)\n",
    "        bus_lat.append(lat)\n",
    "\n",
    "\n",
    "## Writing to an CSV file using Python\n",
    "import csv\n",
    "\n",
    "with open(foldername+'Feeder_'+feedername+'_Bus_coordinates_no_sw.csv', mode='w', newline= '') as file:\n",
    "    writer = csv.writer(file)\n",
    "    writer.writerow(['Bus_ID', 'Longitude', 'Latitude'])\n",
    "    for i in range(0, len(busID_cap2)):\n",
    "        writer.writerow([busID_cap2[i], bus_lon[i], bus_lat[i]])\n",
    "\n",
    "\n",
    "\n",
    "\n",
    "\n",
    "\n",
    "\n",
    "se_lon = []\n",
    "se_lat = []\n",
    "re_lon = []\n",
    "re_lat = []\n",
    "se_busID = []\n",
    "re_busID = []\n",
    "\n",
    "\n",
    "for s in se_cap:\n",
    "    temp2 = busID_cap2.index(s)\n",
    "    if temp2 >=0:\n",
    "        lon = bus_lon[temp2]\n",
    "        lat = bus_lat[temp2]\n",
    "        se_busID.append(s)\n",
    "        se_lon.append(lon)\n",
    "        se_lat.append(lat)\n",
    "\n",
    "for r in re_cap:\n",
    "    temp2 = busID_cap2.index(r)\n",
    "    if temp2 >=0:\n",
    "        lon = bus_lon[temp2]\n",
    "        lat = bus_lat[temp2]\n",
    "        re_busID.append(r)\n",
    "        re_lon.append(lon)\n",
    "        re_lat.append(lat)\n",
    "\n",
    "\n",
    "## Writing to an CSV file using Python\n",
    "import csv\n",
    "\n",
    "with open(foldername + 'se_re_lon_lat_nosw.csv', mode='w', newline= '') as file:\n",
    "    writer = csv.writer(file)\n",
    "    writer.writerow(['se_lon', 'se_lat', 're_lon', 're_lat', 'se_busID', 're_busID'])\n",
    "    for i in range(0, len(se_lon)):\n",
    "        writer.writerow([se_lon[i], se_lat[i], re_lon[i], re_lat[i], se_busID[i], re_busID[i]])\n"
   ]
  },
  {
   "cell_type": "code",
   "execution_count": 42,
   "metadata": {},
   "outputs": [
    {
     "data": {
      "application/vnd.plotly.v1+json": {
       "config": {
        "plotlyServerURL": "https://plot.ly"
       },
       "data": [
        {
         "hoverinfo": "text",
         "lat": [
          55.00226596999557,
          54.99116209574424,
          54.990301885813,
          54.9930414815391,
          54.98221692532732,
          54.99026116798612,
          54.98992361964004,
          54.99122912225418,
          54.99127281594209,
          54.99040881587875,
          54.99306387064665,
          54.99042845639999,
          54.98222201449249,
          54.99128099511313,
          55.0022578218725,
          54.99038995339859,
          54.993043451175375,
          54.990405586512914,
          54.9822001628506
         ],
         "lon": [
          -160.33313513227603,
          -160.34271886366477,
          -160.34659907427616,
          -160.33587707006672,
          -160.3628388696536,
          -160.34668788641753,
          -160.3405274935432,
          -160.34224529761354,
          -160.3424508751191,
          -160.33951123193,
          -160.33586183053748,
          -160.3394871859401,
          -160.36279803216885,
          -160.3421260204393,
          -160.33328404337755,
          -160.3466372804062,
          -160.3358398319723,
          -160.3394742671068,
          -160.36281546856543
         ],
         "marker": {
          "color": "fuchsia",
          "size": 10
         },
         "mode": "markers",
         "text": [
          "1075469_504_14121112_472",
          "1076249_337_14122324_968",
          "1076518_288_14122395_642",
          "804378-500220-3-476757",
          "806379-410300-3-477274",
          "805378-240460-164130",
          "1076119_659_14122484_344",
          "1076217_002_14122320_729",
          "804378-951371-159459",
          "804378-770504-3-482614",
          "1075769_156_14122155_934",
          "1076044_02_14122433_699",
          "1077699_115_14123209_331",
          "1076208_407_14122315_617",
          "804377-240160-163153",
          "805378-240460-269585",
          "1075767_957_14122158_457",
          "1076043_456_14122436_438",
          "1077700_556_14123211_727"
         ],
         "type": "scattermapbox"
        },
        {
         "lat": [
          55.00226596999557,
          55.0022578218725
         ],
         "line": {
          "color": "blue",
          "width": 1
         },
         "lon": [
          -160.33313513227603,
          -160.33328404337755
         ],
         "mode": "lines",
         "type": "scattermapbox"
        },
        {
         "lat": [
          54.99116209574424,
          54.99127281594209
         ],
         "line": {
          "color": "blue",
          "width": 1
         },
         "lon": [
          -160.34271886366477,
          -160.3424508751191
         ],
         "mode": "lines",
         "type": "scattermapbox"
        },
        {
         "lat": [
          54.990301885813,
          54.99026116798612
         ],
         "line": {
          "color": "blue",
          "width": 1
         },
         "lon": [
          -160.34659907427616,
          -160.34668788641753
         ],
         "mode": "lines",
         "type": "scattermapbox"
        },
        {
         "lat": [
          54.990301885813,
          54.99038995339859
         ],
         "line": {
          "color": "blue",
          "width": 1
         },
         "lon": [
          -160.34659907427616,
          -160.3466372804062
         ],
         "mode": "lines",
         "type": "scattermapbox"
        },
        {
         "lat": [
          54.9930414815391,
          54.99306387064665
         ],
         "line": {
          "color": "blue",
          "width": 1
         },
         "lon": [
          -160.33587707006672,
          -160.33586183053748
         ],
         "mode": "lines",
         "type": "scattermapbox"
        },
        {
         "lat": [
          54.98221692532732,
          54.98222201449249
         ],
         "line": {
          "color": "blue",
          "width": 1
         },
         "lon": [
          -160.3628388696536,
          -160.36279803216885
         ],
         "mode": "lines",
         "type": "scattermapbox"
        },
        {
         "lat": [
          54.99026116798612,
          54.98221692532732
         ],
         "line": {
          "color": "blue",
          "width": 1
         },
         "lon": [
          -160.34668788641753,
          -160.3628388696536
         ],
         "mode": "lines",
         "type": "scattermapbox"
        },
        {
         "lat": [
          54.98992361964004,
          54.99040881587875
         ],
         "line": {
          "color": "blue",
          "width": 1
         },
         "lon": [
          -160.3405274935432,
          -160.33951123193
         ],
         "mode": "lines",
         "type": "scattermapbox"
        },
        {
         "lat": [
          54.99122912225418,
          54.98992361964004
         ],
         "line": {
          "color": "blue",
          "width": 1
         },
         "lon": [
          -160.34224529761354,
          -160.3405274935432
         ],
         "mode": "lines",
         "type": "scattermapbox"
        },
        {
         "lat": [
          54.99127281594209,
          54.99122912225418
         ],
         "line": {
          "color": "blue",
          "width": 1
         },
         "lon": [
          -160.3424508751191,
          -160.34224529761354
         ],
         "mode": "lines",
         "type": "scattermapbox"
        },
        {
         "lat": [
          54.99040881587875,
          54.99042845639999
         ],
         "line": {
          "color": "blue",
          "width": 1
         },
         "lon": [
          -160.33951123193,
          -160.3394871859401
         ],
         "mode": "lines",
         "type": "scattermapbox"
        },
        {
         "lat": [
          54.99306387064665,
          54.993043451175375
         ],
         "line": {
          "color": "blue",
          "width": 1
         },
         "lon": [
          -160.33586183053748,
          -160.3358398319723
         ],
         "mode": "lines",
         "type": "scattermapbox"
        },
        {
         "lat": [
          54.99042845639999,
          54.990405586512914
         ],
         "line": {
          "color": "blue",
          "width": 1
         },
         "lon": [
          -160.3394871859401,
          -160.3394742671068
         ],
         "mode": "lines",
         "type": "scattermapbox"
        },
        {
         "lat": [
          54.98222201449249,
          54.9822001628506
         ],
         "line": {
          "color": "blue",
          "width": 1
         },
         "lon": [
          -160.36279803216885,
          -160.36281546856543
         ],
         "mode": "lines",
         "type": "scattermapbox"
        },
        {
         "lat": [
          54.99128099511313,
          54.9930414815391
         ],
         "line": {
          "color": "blue",
          "width": 1
         },
         "lon": [
          -160.3421260204393,
          -160.33587707006672
         ],
         "mode": "lines",
         "type": "scattermapbox"
        },
        {
         "lat": [
          54.99122912225418,
          54.99128099511313
         ],
         "line": {
          "color": "blue",
          "width": 1
         },
         "lon": [
          -160.34224529761354,
          -160.3421260204393
         ],
         "mode": "lines",
         "type": "scattermapbox"
        }
       ],
       "layout": {
        "height": 700,
        "mapbox": {
         "center": {
          "lat": 54.990914537504345,
          "lon": -160.3437324081618
         },
         "style": "open-street-map",
         "zoom": 10
        },
        "margin": {
         "b": 0,
         "l": 0,
         "r": 0,
         "t": 0
        },
        "showlegend": false,
        "template": {
         "data": {
          "bar": [
           {
            "error_x": {
             "color": "#2a3f5f"
            },
            "error_y": {
             "color": "#2a3f5f"
            },
            "marker": {
             "line": {
              "color": "#E5ECF6",
              "width": 0.5
             },
             "pattern": {
              "fillmode": "overlay",
              "size": 10,
              "solidity": 0.2
             }
            },
            "type": "bar"
           }
          ],
          "barpolar": [
           {
            "marker": {
             "line": {
              "color": "#E5ECF6",
              "width": 0.5
             },
             "pattern": {
              "fillmode": "overlay",
              "size": 10,
              "solidity": 0.2
             }
            },
            "type": "barpolar"
           }
          ],
          "carpet": [
           {
            "aaxis": {
             "endlinecolor": "#2a3f5f",
             "gridcolor": "white",
             "linecolor": "white",
             "minorgridcolor": "white",
             "startlinecolor": "#2a3f5f"
            },
            "baxis": {
             "endlinecolor": "#2a3f5f",
             "gridcolor": "white",
             "linecolor": "white",
             "minorgridcolor": "white",
             "startlinecolor": "#2a3f5f"
            },
            "type": "carpet"
           }
          ],
          "choropleth": [
           {
            "colorbar": {
             "outlinewidth": 0,
             "ticks": ""
            },
            "type": "choropleth"
           }
          ],
          "contour": [
           {
            "colorbar": {
             "outlinewidth": 0,
             "ticks": ""
            },
            "colorscale": [
             [
              0,
              "#0d0887"
             ],
             [
              0.1111111111111111,
              "#46039f"
             ],
             [
              0.2222222222222222,
              "#7201a8"
             ],
             [
              0.3333333333333333,
              "#9c179e"
             ],
             [
              0.4444444444444444,
              "#bd3786"
             ],
             [
              0.5555555555555556,
              "#d8576b"
             ],
             [
              0.6666666666666666,
              "#ed7953"
             ],
             [
              0.7777777777777778,
              "#fb9f3a"
             ],
             [
              0.8888888888888888,
              "#fdca26"
             ],
             [
              1,
              "#f0f921"
             ]
            ],
            "type": "contour"
           }
          ],
          "contourcarpet": [
           {
            "colorbar": {
             "outlinewidth": 0,
             "ticks": ""
            },
            "type": "contourcarpet"
           }
          ],
          "heatmap": [
           {
            "colorbar": {
             "outlinewidth": 0,
             "ticks": ""
            },
            "colorscale": [
             [
              0,
              "#0d0887"
             ],
             [
              0.1111111111111111,
              "#46039f"
             ],
             [
              0.2222222222222222,
              "#7201a8"
             ],
             [
              0.3333333333333333,
              "#9c179e"
             ],
             [
              0.4444444444444444,
              "#bd3786"
             ],
             [
              0.5555555555555556,
              "#d8576b"
             ],
             [
              0.6666666666666666,
              "#ed7953"
             ],
             [
              0.7777777777777778,
              "#fb9f3a"
             ],
             [
              0.8888888888888888,
              "#fdca26"
             ],
             [
              1,
              "#f0f921"
             ]
            ],
            "type": "heatmap"
           }
          ],
          "heatmapgl": [
           {
            "colorbar": {
             "outlinewidth": 0,
             "ticks": ""
            },
            "colorscale": [
             [
              0,
              "#0d0887"
             ],
             [
              0.1111111111111111,
              "#46039f"
             ],
             [
              0.2222222222222222,
              "#7201a8"
             ],
             [
              0.3333333333333333,
              "#9c179e"
             ],
             [
              0.4444444444444444,
              "#bd3786"
             ],
             [
              0.5555555555555556,
              "#d8576b"
             ],
             [
              0.6666666666666666,
              "#ed7953"
             ],
             [
              0.7777777777777778,
              "#fb9f3a"
             ],
             [
              0.8888888888888888,
              "#fdca26"
             ],
             [
              1,
              "#f0f921"
             ]
            ],
            "type": "heatmapgl"
           }
          ],
          "histogram": [
           {
            "marker": {
             "pattern": {
              "fillmode": "overlay",
              "size": 10,
              "solidity": 0.2
             }
            },
            "type": "histogram"
           }
          ],
          "histogram2d": [
           {
            "colorbar": {
             "outlinewidth": 0,
             "ticks": ""
            },
            "colorscale": [
             [
              0,
              "#0d0887"
             ],
             [
              0.1111111111111111,
              "#46039f"
             ],
             [
              0.2222222222222222,
              "#7201a8"
             ],
             [
              0.3333333333333333,
              "#9c179e"
             ],
             [
              0.4444444444444444,
              "#bd3786"
             ],
             [
              0.5555555555555556,
              "#d8576b"
             ],
             [
              0.6666666666666666,
              "#ed7953"
             ],
             [
              0.7777777777777778,
              "#fb9f3a"
             ],
             [
              0.8888888888888888,
              "#fdca26"
             ],
             [
              1,
              "#f0f921"
             ]
            ],
            "type": "histogram2d"
           }
          ],
          "histogram2dcontour": [
           {
            "colorbar": {
             "outlinewidth": 0,
             "ticks": ""
            },
            "colorscale": [
             [
              0,
              "#0d0887"
             ],
             [
              0.1111111111111111,
              "#46039f"
             ],
             [
              0.2222222222222222,
              "#7201a8"
             ],
             [
              0.3333333333333333,
              "#9c179e"
             ],
             [
              0.4444444444444444,
              "#bd3786"
             ],
             [
              0.5555555555555556,
              "#d8576b"
             ],
             [
              0.6666666666666666,
              "#ed7953"
             ],
             [
              0.7777777777777778,
              "#fb9f3a"
             ],
             [
              0.8888888888888888,
              "#fdca26"
             ],
             [
              1,
              "#f0f921"
             ]
            ],
            "type": "histogram2dcontour"
           }
          ],
          "mesh3d": [
           {
            "colorbar": {
             "outlinewidth": 0,
             "ticks": ""
            },
            "type": "mesh3d"
           }
          ],
          "parcoords": [
           {
            "line": {
             "colorbar": {
              "outlinewidth": 0,
              "ticks": ""
             }
            },
            "type": "parcoords"
           }
          ],
          "pie": [
           {
            "automargin": true,
            "type": "pie"
           }
          ],
          "scatter": [
           {
            "fillpattern": {
             "fillmode": "overlay",
             "size": 10,
             "solidity": 0.2
            },
            "type": "scatter"
           }
          ],
          "scatter3d": [
           {
            "line": {
             "colorbar": {
              "outlinewidth": 0,
              "ticks": ""
             }
            },
            "marker": {
             "colorbar": {
              "outlinewidth": 0,
              "ticks": ""
             }
            },
            "type": "scatter3d"
           }
          ],
          "scattercarpet": [
           {
            "marker": {
             "colorbar": {
              "outlinewidth": 0,
              "ticks": ""
             }
            },
            "type": "scattercarpet"
           }
          ],
          "scattergeo": [
           {
            "marker": {
             "colorbar": {
              "outlinewidth": 0,
              "ticks": ""
             }
            },
            "type": "scattergeo"
           }
          ],
          "scattergl": [
           {
            "marker": {
             "colorbar": {
              "outlinewidth": 0,
              "ticks": ""
             }
            },
            "type": "scattergl"
           }
          ],
          "scattermapbox": [
           {
            "marker": {
             "colorbar": {
              "outlinewidth": 0,
              "ticks": ""
             }
            },
            "type": "scattermapbox"
           }
          ],
          "scatterpolar": [
           {
            "marker": {
             "colorbar": {
              "outlinewidth": 0,
              "ticks": ""
             }
            },
            "type": "scatterpolar"
           }
          ],
          "scatterpolargl": [
           {
            "marker": {
             "colorbar": {
              "outlinewidth": 0,
              "ticks": ""
             }
            },
            "type": "scatterpolargl"
           }
          ],
          "scatterternary": [
           {
            "marker": {
             "colorbar": {
              "outlinewidth": 0,
              "ticks": ""
             }
            },
            "type": "scatterternary"
           }
          ],
          "surface": [
           {
            "colorbar": {
             "outlinewidth": 0,
             "ticks": ""
            },
            "colorscale": [
             [
              0,
              "#0d0887"
             ],
             [
              0.1111111111111111,
              "#46039f"
             ],
             [
              0.2222222222222222,
              "#7201a8"
             ],
             [
              0.3333333333333333,
              "#9c179e"
             ],
             [
              0.4444444444444444,
              "#bd3786"
             ],
             [
              0.5555555555555556,
              "#d8576b"
             ],
             [
              0.6666666666666666,
              "#ed7953"
             ],
             [
              0.7777777777777778,
              "#fb9f3a"
             ],
             [
              0.8888888888888888,
              "#fdca26"
             ],
             [
              1,
              "#f0f921"
             ]
            ],
            "type": "surface"
           }
          ],
          "table": [
           {
            "cells": {
             "fill": {
              "color": "#EBF0F8"
             },
             "line": {
              "color": "white"
             }
            },
            "header": {
             "fill": {
              "color": "#C8D4E3"
             },
             "line": {
              "color": "white"
             }
            },
            "type": "table"
           }
          ]
         },
         "layout": {
          "annotationdefaults": {
           "arrowcolor": "#2a3f5f",
           "arrowhead": 0,
           "arrowwidth": 1
          },
          "autotypenumbers": "strict",
          "coloraxis": {
           "colorbar": {
            "outlinewidth": 0,
            "ticks": ""
           }
          },
          "colorscale": {
           "diverging": [
            [
             0,
             "#8e0152"
            ],
            [
             0.1,
             "#c51b7d"
            ],
            [
             0.2,
             "#de77ae"
            ],
            [
             0.3,
             "#f1b6da"
            ],
            [
             0.4,
             "#fde0ef"
            ],
            [
             0.5,
             "#f7f7f7"
            ],
            [
             0.6,
             "#e6f5d0"
            ],
            [
             0.7,
             "#b8e186"
            ],
            [
             0.8,
             "#7fbc41"
            ],
            [
             0.9,
             "#4d9221"
            ],
            [
             1,
             "#276419"
            ]
           ],
           "sequential": [
            [
             0,
             "#0d0887"
            ],
            [
             0.1111111111111111,
             "#46039f"
            ],
            [
             0.2222222222222222,
             "#7201a8"
            ],
            [
             0.3333333333333333,
             "#9c179e"
            ],
            [
             0.4444444444444444,
             "#bd3786"
            ],
            [
             0.5555555555555556,
             "#d8576b"
            ],
            [
             0.6666666666666666,
             "#ed7953"
            ],
            [
             0.7777777777777778,
             "#fb9f3a"
            ],
            [
             0.8888888888888888,
             "#fdca26"
            ],
            [
             1,
             "#f0f921"
            ]
           ],
           "sequentialminus": [
            [
             0,
             "#0d0887"
            ],
            [
             0.1111111111111111,
             "#46039f"
            ],
            [
             0.2222222222222222,
             "#7201a8"
            ],
            [
             0.3333333333333333,
             "#9c179e"
            ],
            [
             0.4444444444444444,
             "#bd3786"
            ],
            [
             0.5555555555555556,
             "#d8576b"
            ],
            [
             0.6666666666666666,
             "#ed7953"
            ],
            [
             0.7777777777777778,
             "#fb9f3a"
            ],
            [
             0.8888888888888888,
             "#fdca26"
            ],
            [
             1,
             "#f0f921"
            ]
           ]
          },
          "colorway": [
           "#636efa",
           "#EF553B",
           "#00cc96",
           "#ab63fa",
           "#FFA15A",
           "#19d3f3",
           "#FF6692",
           "#B6E880",
           "#FF97FF",
           "#FECB52"
          ],
          "font": {
           "color": "#2a3f5f"
          },
          "geo": {
           "bgcolor": "white",
           "lakecolor": "white",
           "landcolor": "#E5ECF6",
           "showlakes": true,
           "showland": true,
           "subunitcolor": "white"
          },
          "hoverlabel": {
           "align": "left"
          },
          "hovermode": "closest",
          "mapbox": {
           "style": "light"
          },
          "paper_bgcolor": "white",
          "plot_bgcolor": "#E5ECF6",
          "polar": {
           "angularaxis": {
            "gridcolor": "white",
            "linecolor": "white",
            "ticks": ""
           },
           "bgcolor": "#E5ECF6",
           "radialaxis": {
            "gridcolor": "white",
            "linecolor": "white",
            "ticks": ""
           }
          },
          "scene": {
           "xaxis": {
            "backgroundcolor": "#E5ECF6",
            "gridcolor": "white",
            "gridwidth": 2,
            "linecolor": "white",
            "showbackground": true,
            "ticks": "",
            "zerolinecolor": "white"
           },
           "yaxis": {
            "backgroundcolor": "#E5ECF6",
            "gridcolor": "white",
            "gridwidth": 2,
            "linecolor": "white",
            "showbackground": true,
            "ticks": "",
            "zerolinecolor": "white"
           },
           "zaxis": {
            "backgroundcolor": "#E5ECF6",
            "gridcolor": "white",
            "gridwidth": 2,
            "linecolor": "white",
            "showbackground": true,
            "ticks": "",
            "zerolinecolor": "white"
           }
          },
          "shapedefaults": {
           "line": {
            "color": "#2a3f5f"
           }
          },
          "ternary": {
           "aaxis": {
            "gridcolor": "white",
            "linecolor": "white",
            "ticks": ""
           },
           "baxis": {
            "gridcolor": "white",
            "linecolor": "white",
            "ticks": ""
           },
           "bgcolor": "#E5ECF6",
           "caxis": {
            "gridcolor": "white",
            "linecolor": "white",
            "ticks": ""
           }
          },
          "title": {
           "x": 0.05
          },
          "xaxis": {
           "automargin": true,
           "gridcolor": "white",
           "linecolor": "white",
           "ticks": "",
           "title": {
            "standoff": 15
           },
           "zerolinecolor": "white",
           "zerolinewidth": 2
          },
          "yaxis": {
           "automargin": true,
           "gridcolor": "white",
           "linecolor": "white",
           "ticks": "",
           "title": {
            "standoff": 15
           },
           "zerolinecolor": "white",
           "zerolinewidth": 2
          }
         }
        },
        "title": {
         "text": "paths<br>Feeder on the map"
        }
       }
      },
      "text/html": [
       "<div>                            <div id=\"861de84b-d770-42ad-b700-9b2f246f6893\" class=\"plotly-graph-div\" style=\"height:700px; width:100%;\"></div>            <script type=\"text/javascript\">                require([\"plotly\"], function(Plotly) {                    window.PLOTLYENV=window.PLOTLYENV || {};                                    if (document.getElementById(\"861de84b-d770-42ad-b700-9b2f246f6893\")) {                    Plotly.newPlot(                        \"861de84b-d770-42ad-b700-9b2f246f6893\",                        [{\"hoverinfo\":\"text\",\"lat\":[55.00226596999557,54.99116209574424,54.990301885813,54.9930414815391,54.98221692532732,54.99026116798612,54.98992361964004,54.99122912225418,54.99127281594209,54.99040881587875,54.99306387064665,54.99042845639999,54.98222201449249,54.99128099511313,55.0022578218725,54.99038995339859,54.993043451175375,54.990405586512914,54.9822001628506],\"lon\":[-160.33313513227603,-160.34271886366477,-160.34659907427616,-160.33587707006672,-160.3628388696536,-160.34668788641753,-160.3405274935432,-160.34224529761354,-160.3424508751191,-160.33951123193,-160.33586183053748,-160.3394871859401,-160.36279803216885,-160.3421260204393,-160.33328404337755,-160.3466372804062,-160.3358398319723,-160.3394742671068,-160.36281546856543],\"marker\":{\"color\":\"fuchsia\",\"size\":10},\"mode\":\"markers\",\"text\":[\"1075469_504_14121112_472\",\"1076249_337_14122324_968\",\"1076518_288_14122395_642\",\"804378-500220-3-476757\",\"806379-410300-3-477274\",\"805378-240460-164130\",\"1076119_659_14122484_344\",\"1076217_002_14122320_729\",\"804378-951371-159459\",\"804378-770504-3-482614\",\"1075769_156_14122155_934\",\"1076044_02_14122433_699\",\"1077699_115_14123209_331\",\"1076208_407_14122315_617\",\"804377-240160-163153\",\"805378-240460-269585\",\"1075767_957_14122158_457\",\"1076043_456_14122436_438\",\"1077700_556_14123211_727\"],\"type\":\"scattermapbox\"},{\"lat\":[55.00226596999557,55.0022578218725],\"line\":{\"color\":\"blue\",\"width\":1},\"lon\":[-160.33313513227603,-160.33328404337755],\"mode\":\"lines\",\"type\":\"scattermapbox\"},{\"lat\":[54.99116209574424,54.99127281594209],\"line\":{\"color\":\"blue\",\"width\":1},\"lon\":[-160.34271886366477,-160.3424508751191],\"mode\":\"lines\",\"type\":\"scattermapbox\"},{\"lat\":[54.990301885813,54.99026116798612],\"line\":{\"color\":\"blue\",\"width\":1},\"lon\":[-160.34659907427616,-160.34668788641753],\"mode\":\"lines\",\"type\":\"scattermapbox\"},{\"lat\":[54.990301885813,54.99038995339859],\"line\":{\"color\":\"blue\",\"width\":1},\"lon\":[-160.34659907427616,-160.3466372804062],\"mode\":\"lines\",\"type\":\"scattermapbox\"},{\"lat\":[54.9930414815391,54.99306387064665],\"line\":{\"color\":\"blue\",\"width\":1},\"lon\":[-160.33587707006672,-160.33586183053748],\"mode\":\"lines\",\"type\":\"scattermapbox\"},{\"lat\":[54.98221692532732,54.98222201449249],\"line\":{\"color\":\"blue\",\"width\":1},\"lon\":[-160.3628388696536,-160.36279803216885],\"mode\":\"lines\",\"type\":\"scattermapbox\"},{\"lat\":[54.99026116798612,54.98221692532732],\"line\":{\"color\":\"blue\",\"width\":1},\"lon\":[-160.34668788641753,-160.3628388696536],\"mode\":\"lines\",\"type\":\"scattermapbox\"},{\"lat\":[54.98992361964004,54.99040881587875],\"line\":{\"color\":\"blue\",\"width\":1},\"lon\":[-160.3405274935432,-160.33951123193],\"mode\":\"lines\",\"type\":\"scattermapbox\"},{\"lat\":[54.99122912225418,54.98992361964004],\"line\":{\"color\":\"blue\",\"width\":1},\"lon\":[-160.34224529761354,-160.3405274935432],\"mode\":\"lines\",\"type\":\"scattermapbox\"},{\"lat\":[54.99127281594209,54.99122912225418],\"line\":{\"color\":\"blue\",\"width\":1},\"lon\":[-160.3424508751191,-160.34224529761354],\"mode\":\"lines\",\"type\":\"scattermapbox\"},{\"lat\":[54.99040881587875,54.99042845639999],\"line\":{\"color\":\"blue\",\"width\":1},\"lon\":[-160.33951123193,-160.3394871859401],\"mode\":\"lines\",\"type\":\"scattermapbox\"},{\"lat\":[54.99306387064665,54.993043451175375],\"line\":{\"color\":\"blue\",\"width\":1},\"lon\":[-160.33586183053748,-160.3358398319723],\"mode\":\"lines\",\"type\":\"scattermapbox\"},{\"lat\":[54.99042845639999,54.990405586512914],\"line\":{\"color\":\"blue\",\"width\":1},\"lon\":[-160.3394871859401,-160.3394742671068],\"mode\":\"lines\",\"type\":\"scattermapbox\"},{\"lat\":[54.98222201449249,54.9822001628506],\"line\":{\"color\":\"blue\",\"width\":1},\"lon\":[-160.36279803216885,-160.36281546856543],\"mode\":\"lines\",\"type\":\"scattermapbox\"},{\"lat\":[54.99128099511313,54.9930414815391],\"line\":{\"color\":\"blue\",\"width\":1},\"lon\":[-160.3421260204393,-160.33587707006672],\"mode\":\"lines\",\"type\":\"scattermapbox\"},{\"lat\":[54.99122912225418,54.99128099511313],\"line\":{\"color\":\"blue\",\"width\":1},\"lon\":[-160.34224529761354,-160.3421260204393],\"mode\":\"lines\",\"type\":\"scattermapbox\"}],                        {\"template\":{\"data\":{\"histogram2dcontour\":[{\"type\":\"histogram2dcontour\",\"colorbar\":{\"outlinewidth\":0,\"ticks\":\"\"},\"colorscale\":[[0.0,\"#0d0887\"],[0.1111111111111111,\"#46039f\"],[0.2222222222222222,\"#7201a8\"],[0.3333333333333333,\"#9c179e\"],[0.4444444444444444,\"#bd3786\"],[0.5555555555555556,\"#d8576b\"],[0.6666666666666666,\"#ed7953\"],[0.7777777777777778,\"#fb9f3a\"],[0.8888888888888888,\"#fdca26\"],[1.0,\"#f0f921\"]]}],\"choropleth\":[{\"type\":\"choropleth\",\"colorbar\":{\"outlinewidth\":0,\"ticks\":\"\"}}],\"histogram2d\":[{\"type\":\"histogram2d\",\"colorbar\":{\"outlinewidth\":0,\"ticks\":\"\"},\"colorscale\":[[0.0,\"#0d0887\"],[0.1111111111111111,\"#46039f\"],[0.2222222222222222,\"#7201a8\"],[0.3333333333333333,\"#9c179e\"],[0.4444444444444444,\"#bd3786\"],[0.5555555555555556,\"#d8576b\"],[0.6666666666666666,\"#ed7953\"],[0.7777777777777778,\"#fb9f3a\"],[0.8888888888888888,\"#fdca26\"],[1.0,\"#f0f921\"]]}],\"heatmap\":[{\"type\":\"heatmap\",\"colorbar\":{\"outlinewidth\":0,\"ticks\":\"\"},\"colorscale\":[[0.0,\"#0d0887\"],[0.1111111111111111,\"#46039f\"],[0.2222222222222222,\"#7201a8\"],[0.3333333333333333,\"#9c179e\"],[0.4444444444444444,\"#bd3786\"],[0.5555555555555556,\"#d8576b\"],[0.6666666666666666,\"#ed7953\"],[0.7777777777777778,\"#fb9f3a\"],[0.8888888888888888,\"#fdca26\"],[1.0,\"#f0f921\"]]}],\"heatmapgl\":[{\"type\":\"heatmapgl\",\"colorbar\":{\"outlinewidth\":0,\"ticks\":\"\"},\"colorscale\":[[0.0,\"#0d0887\"],[0.1111111111111111,\"#46039f\"],[0.2222222222222222,\"#7201a8\"],[0.3333333333333333,\"#9c179e\"],[0.4444444444444444,\"#bd3786\"],[0.5555555555555556,\"#d8576b\"],[0.6666666666666666,\"#ed7953\"],[0.7777777777777778,\"#fb9f3a\"],[0.8888888888888888,\"#fdca26\"],[1.0,\"#f0f921\"]]}],\"contourcarpet\":[{\"type\":\"contourcarpet\",\"colorbar\":{\"outlinewidth\":0,\"ticks\":\"\"}}],\"contour\":[{\"type\":\"contour\",\"colorbar\":{\"outlinewidth\":0,\"ticks\":\"\"},\"colorscale\":[[0.0,\"#0d0887\"],[0.1111111111111111,\"#46039f\"],[0.2222222222222222,\"#7201a8\"],[0.3333333333333333,\"#9c179e\"],[0.4444444444444444,\"#bd3786\"],[0.5555555555555556,\"#d8576b\"],[0.6666666666666666,\"#ed7953\"],[0.7777777777777778,\"#fb9f3a\"],[0.8888888888888888,\"#fdca26\"],[1.0,\"#f0f921\"]]}],\"surface\":[{\"type\":\"surface\",\"colorbar\":{\"outlinewidth\":0,\"ticks\":\"\"},\"colorscale\":[[0.0,\"#0d0887\"],[0.1111111111111111,\"#46039f\"],[0.2222222222222222,\"#7201a8\"],[0.3333333333333333,\"#9c179e\"],[0.4444444444444444,\"#bd3786\"],[0.5555555555555556,\"#d8576b\"],[0.6666666666666666,\"#ed7953\"],[0.7777777777777778,\"#fb9f3a\"],[0.8888888888888888,\"#fdca26\"],[1.0,\"#f0f921\"]]}],\"mesh3d\":[{\"type\":\"mesh3d\",\"colorbar\":{\"outlinewidth\":0,\"ticks\":\"\"}}],\"scatter\":[{\"fillpattern\":{\"fillmode\":\"overlay\",\"size\":10,\"solidity\":0.2},\"type\":\"scatter\"}],\"parcoords\":[{\"type\":\"parcoords\",\"line\":{\"colorbar\":{\"outlinewidth\":0,\"ticks\":\"\"}}}],\"scatterpolargl\":[{\"type\":\"scatterpolargl\",\"marker\":{\"colorbar\":{\"outlinewidth\":0,\"ticks\":\"\"}}}],\"bar\":[{\"error_x\":{\"color\":\"#2a3f5f\"},\"error_y\":{\"color\":\"#2a3f5f\"},\"marker\":{\"line\":{\"color\":\"#E5ECF6\",\"width\":0.5},\"pattern\":{\"fillmode\":\"overlay\",\"size\":10,\"solidity\":0.2}},\"type\":\"bar\"}],\"scattergeo\":[{\"type\":\"scattergeo\",\"marker\":{\"colorbar\":{\"outlinewidth\":0,\"ticks\":\"\"}}}],\"scatterpolar\":[{\"type\":\"scatterpolar\",\"marker\":{\"colorbar\":{\"outlinewidth\":0,\"ticks\":\"\"}}}],\"histogram\":[{\"marker\":{\"pattern\":{\"fillmode\":\"overlay\",\"size\":10,\"solidity\":0.2}},\"type\":\"histogram\"}],\"scattergl\":[{\"type\":\"scattergl\",\"marker\":{\"colorbar\":{\"outlinewidth\":0,\"ticks\":\"\"}}}],\"scatter3d\":[{\"type\":\"scatter3d\",\"line\":{\"colorbar\":{\"outlinewidth\":0,\"ticks\":\"\"}},\"marker\":{\"colorbar\":{\"outlinewidth\":0,\"ticks\":\"\"}}}],\"scattermapbox\":[{\"type\":\"scattermapbox\",\"marker\":{\"colorbar\":{\"outlinewidth\":0,\"ticks\":\"\"}}}],\"scatterternary\":[{\"type\":\"scatterternary\",\"marker\":{\"colorbar\":{\"outlinewidth\":0,\"ticks\":\"\"}}}],\"scattercarpet\":[{\"type\":\"scattercarpet\",\"marker\":{\"colorbar\":{\"outlinewidth\":0,\"ticks\":\"\"}}}],\"carpet\":[{\"aaxis\":{\"endlinecolor\":\"#2a3f5f\",\"gridcolor\":\"white\",\"linecolor\":\"white\",\"minorgridcolor\":\"white\",\"startlinecolor\":\"#2a3f5f\"},\"baxis\":{\"endlinecolor\":\"#2a3f5f\",\"gridcolor\":\"white\",\"linecolor\":\"white\",\"minorgridcolor\":\"white\",\"startlinecolor\":\"#2a3f5f\"},\"type\":\"carpet\"}],\"table\":[{\"cells\":{\"fill\":{\"color\":\"#EBF0F8\"},\"line\":{\"color\":\"white\"}},\"header\":{\"fill\":{\"color\":\"#C8D4E3\"},\"line\":{\"color\":\"white\"}},\"type\":\"table\"}],\"barpolar\":[{\"marker\":{\"line\":{\"color\":\"#E5ECF6\",\"width\":0.5},\"pattern\":{\"fillmode\":\"overlay\",\"size\":10,\"solidity\":0.2}},\"type\":\"barpolar\"}],\"pie\":[{\"automargin\":true,\"type\":\"pie\"}]},\"layout\":{\"autotypenumbers\":\"strict\",\"colorway\":[\"#636efa\",\"#EF553B\",\"#00cc96\",\"#ab63fa\",\"#FFA15A\",\"#19d3f3\",\"#FF6692\",\"#B6E880\",\"#FF97FF\",\"#FECB52\"],\"font\":{\"color\":\"#2a3f5f\"},\"hovermode\":\"closest\",\"hoverlabel\":{\"align\":\"left\"},\"paper_bgcolor\":\"white\",\"plot_bgcolor\":\"#E5ECF6\",\"polar\":{\"bgcolor\":\"#E5ECF6\",\"angularaxis\":{\"gridcolor\":\"white\",\"linecolor\":\"white\",\"ticks\":\"\"},\"radialaxis\":{\"gridcolor\":\"white\",\"linecolor\":\"white\",\"ticks\":\"\"}},\"ternary\":{\"bgcolor\":\"#E5ECF6\",\"aaxis\":{\"gridcolor\":\"white\",\"linecolor\":\"white\",\"ticks\":\"\"},\"baxis\":{\"gridcolor\":\"white\",\"linecolor\":\"white\",\"ticks\":\"\"},\"caxis\":{\"gridcolor\":\"white\",\"linecolor\":\"white\",\"ticks\":\"\"}},\"coloraxis\":{\"colorbar\":{\"outlinewidth\":0,\"ticks\":\"\"}},\"colorscale\":{\"sequential\":[[0.0,\"#0d0887\"],[0.1111111111111111,\"#46039f\"],[0.2222222222222222,\"#7201a8\"],[0.3333333333333333,\"#9c179e\"],[0.4444444444444444,\"#bd3786\"],[0.5555555555555556,\"#d8576b\"],[0.6666666666666666,\"#ed7953\"],[0.7777777777777778,\"#fb9f3a\"],[0.8888888888888888,\"#fdca26\"],[1.0,\"#f0f921\"]],\"sequentialminus\":[[0.0,\"#0d0887\"],[0.1111111111111111,\"#46039f\"],[0.2222222222222222,\"#7201a8\"],[0.3333333333333333,\"#9c179e\"],[0.4444444444444444,\"#bd3786\"],[0.5555555555555556,\"#d8576b\"],[0.6666666666666666,\"#ed7953\"],[0.7777777777777778,\"#fb9f3a\"],[0.8888888888888888,\"#fdca26\"],[1.0,\"#f0f921\"]],\"diverging\":[[0,\"#8e0152\"],[0.1,\"#c51b7d\"],[0.2,\"#de77ae\"],[0.3,\"#f1b6da\"],[0.4,\"#fde0ef\"],[0.5,\"#f7f7f7\"],[0.6,\"#e6f5d0\"],[0.7,\"#b8e186\"],[0.8,\"#7fbc41\"],[0.9,\"#4d9221\"],[1,\"#276419\"]]},\"xaxis\":{\"gridcolor\":\"white\",\"linecolor\":\"white\",\"ticks\":\"\",\"title\":{\"standoff\":15},\"zerolinecolor\":\"white\",\"automargin\":true,\"zerolinewidth\":2},\"yaxis\":{\"gridcolor\":\"white\",\"linecolor\":\"white\",\"ticks\":\"\",\"title\":{\"standoff\":15},\"zerolinecolor\":\"white\",\"automargin\":true,\"zerolinewidth\":2},\"scene\":{\"xaxis\":{\"backgroundcolor\":\"#E5ECF6\",\"gridcolor\":\"white\",\"linecolor\":\"white\",\"showbackground\":true,\"ticks\":\"\",\"zerolinecolor\":\"white\",\"gridwidth\":2},\"yaxis\":{\"backgroundcolor\":\"#E5ECF6\",\"gridcolor\":\"white\",\"linecolor\":\"white\",\"showbackground\":true,\"ticks\":\"\",\"zerolinecolor\":\"white\",\"gridwidth\":2},\"zaxis\":{\"backgroundcolor\":\"#E5ECF6\",\"gridcolor\":\"white\",\"linecolor\":\"white\",\"showbackground\":true,\"ticks\":\"\",\"zerolinecolor\":\"white\",\"gridwidth\":2}},\"shapedefaults\":{\"line\":{\"color\":\"#2a3f5f\"}},\"annotationdefaults\":{\"arrowcolor\":\"#2a3f5f\",\"arrowhead\":0,\"arrowwidth\":1},\"geo\":{\"bgcolor\":\"white\",\"landcolor\":\"#E5ECF6\",\"subunitcolor\":\"white\",\"showland\":true,\"showlakes\":true,\"lakecolor\":\"white\"},\"title\":{\"x\":0.05},\"mapbox\":{\"style\":\"light\"}}},\"mapbox\":{\"style\":\"open-street-map\",\"center\":{\"lat\":54.990914537504345,\"lon\":-160.3437324081618},\"zoom\":10},\"title\":{\"text\":\"paths<br>Feeder on the map\"},\"showlegend\":false,\"margin\":{\"r\":0,\"t\":0,\"l\":0,\"b\":0},\"height\":700},                        {\"responsive\": true}                    ).then(function(){\n",
       "                            \n",
       "var gd = document.getElementById('861de84b-d770-42ad-b700-9b2f246f6893');\n",
       "var x = new MutationObserver(function (mutations, observer) {{\n",
       "        var display = window.getComputedStyle(gd).display;\n",
       "        if (!display || display === 'none') {{\n",
       "            console.log([gd, 'removed!']);\n",
       "            Plotly.purge(gd);\n",
       "            observer.disconnect();\n",
       "        }}\n",
       "}});\n",
       "\n",
       "// Listen for the removal of the full notebook cells\n",
       "var notebookContainer = gd.closest('#notebook-container');\n",
       "if (notebookContainer) {{\n",
       "    x.observe(notebookContainer, {childList: true});\n",
       "}}\n",
       "\n",
       "// Listen for the clearing of the current output cell\n",
       "var outputEl = gd.closest('.output');\n",
       "if (outputEl) {{\n",
       "    x.observe(outputEl, {childList: true});\n",
       "}}\n",
       "\n",
       "                        })                };                });            </script>        </div>"
      ]
     },
     "metadata": {},
     "output_type": "display_data"
    }
   ],
   "source": [
    "import pandas as pd\n",
    "import numpy as np\n",
    "\n",
    "feeder = pd.read_csv(foldername + \"Feeder_\"+feedername+\"_Bus_coordinates_no_sw.csv\")\n",
    "se_re_lon_lat = pd.read_csv(foldername + \"se_re_lon_lat_nosw.csv\")\n",
    "\n",
    "\n",
    "import plotly.graph_objects as go\n",
    "fig = go.Figure()\n",
    "fig.add_trace(go.Scattermapbox(lat=feeder[\"Latitude\"], lon=feeder[\"Longitude\"],\n",
    "    mode = \"markers\", \n",
    "    marker = {'size': 10, 'color': \"fuchsia\",},\n",
    "    hoverinfo = 'text',\n",
    "    text = feeder[\"Bus_ID\"],\n",
    "                              ))\n",
    "\n",
    "for i in range(len(se_re_lon_lat[\"se_lon\"])):\n",
    "    fig.add_trace(\n",
    "        go.Scattermapbox(\n",
    "            lon = [se_re_lon_lat[\"se_lon\"][i], se_re_lon_lat[\"re_lon\"][i]],\n",
    "            lat = [se_re_lon_lat[\"se_lat\"][i], se_re_lon_lat[\"re_lat\"][i]],\n",
    "            mode = 'lines',\n",
    "            line = dict(width = 1, color = 'blue')\n",
    "        ))\n",
    "    \n",
    "\n",
    "# getting center for plots:\n",
    "lat_center = np.mean(feeder[\"Latitude\"])\n",
    "long_center = np.mean(feeder[\"Longitude\"])\n",
    "\n",
    "fig.update_layout(mapbox_style=\"open-street-map\",\n",
    "                  showlegend = False,\n",
    "                  title_text = 'paths<br>Feeder on the map',)\n",
    "fig.update_layout(margin={\"r\":0,\"t\":0,\"l\":0,\"b\":0})\n",
    "fig.update_layout(mapbox = {'zoom': 10, 'center': {'lat': lat_center, \n",
    "                          'lon': long_center},}, height=700)\n",
    "\n",
    "fig.show()"
   ]
  },
  {
   "cell_type": "code",
   "execution_count": null,
   "metadata": {},
   "outputs": [],
   "source": []
  }
 ],
 "metadata": {
  "kernelspec": {
   "display_name": "ExelonVTO",
   "language": "python",
   "name": "exelonvto"
  },
  "language_info": {
   "codemirror_mode": {
    "name": "ipython",
    "version": 3
   },
   "file_extension": ".py",
   "mimetype": "text/x-python",
   "name": "python",
   "nbconvert_exporter": "python",
   "pygments_lexer": "ipython3",
   "version": "3.9.12"
  }
 },
 "nbformat": 4,
 "nbformat_minor": 2
}
